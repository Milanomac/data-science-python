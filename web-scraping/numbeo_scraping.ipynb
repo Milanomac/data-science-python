{
 "cells": [
  {
   "attachments": {},
   "cell_type": "markdown",
   "metadata": {},
   "source": [
    "# Scraping all tables from Numbeo"
   ]
  },
  {
   "cell_type": "code",
   "execution_count": 208,
   "metadata": {},
   "outputs": [
    {
     "name": "stdout",
     "output_type": "stream",
     "text": [
      "        Year Type  Year               Country Quality of Life Index Purchasing Power Index Safety Index Health Care Index Cost of Living Index Property Price to Income Ratio Traffic Commute Time Index Pollution Index Climate Index\n",
      "0         Revised  2012           Switzerland                 194.1                  127.4         74.2              79.5                148.7                            6.5                       30.9            35.5             -\n",
      "1         Revised  2012               Germany                 184.4                  114.2         78.8              72.0                 92.8                            4.8                       33.1            45.1             -\n",
      "2         Revised  2012                Norway                 183.4                   94.2         80.9              79.0                166.6                            7.1                       18.5            19.2             -\n",
      "3         Revised  2012  United Arab Emirates                 177.1                  134.9         64.1              63.9                 80.8                            4.5                       17.0            69.2             -\n",
      "4         Revised  2012           New Zealand                 174.3                   88.6         53.2              86.8                107.4                            5.7                       25.2            17.1             -\n",
      "...           ...   ...                   ...                   ...                    ...          ...               ...                  ...                            ...                        ...             ...           ...\n",
      "1500  Preliminary  2023                  Iran                  73.8                   21.1         50.1              52.3                 35.2                           24.4                       47.3            75.3          63.7\n",
      "1501  Preliminary  2023             Sri Lanka                  72.8                   16.0         58.6              72.0                 25.3                           40.8                       56.9            59.4          59.1\n",
      "1502  Preliminary  2023             Venezuela                  72.6                   12.4         17.4              39.3                 41.6                           18.9                       33.1            75.7          99.9\n",
      "1503  Preliminary  2023            Bangladesh                  70.1                   26.9         37.4              42.3                 26.6                           12.6                       57.4            85.1          72.9\n",
      "1504  Preliminary  2023               Nigeria                  38.5                    8.4         34.5              48.5                 30.9                           28.2                       63.4            88.0          60.8\n",
      "\n",
      "[1505 rows x 12 columns]\n"
     ]
    }
   ],
   "source": [
    "import requests\n",
    "from bs4 import BeautifulSoup\n",
    "import pandas as pd\n",
    "\n",
    "# Define the range of years to extract data\n",
    "start_year = 2012\n",
    "end_year = 2023\n",
    "\n",
    "# Create an empty list to store the extracted tables\n",
    "dfs = []\n",
    "\n",
    "# Define the URL pattern\n",
    "url_pattern = \"https://www.numbeo.com/quality-of-life/rankings_by_country.jsp?title={}\"\n",
    "\n",
    "# Loop over the years\n",
    "for year in range(start_year, end_year + 1):\n",
    "    # Loop over the URL types: full year, mid year, and first two years\n",
    "    for url_type in ['{}', '{}-mid', '{}-Q1']:\n",
    "        # Create the URL for the current year and URL type\n",
    "        url = url_pattern.format(url_type.format(year))\n",
    "\n",
    "        # Send a GET request to the URL\n",
    "        response = requests.get(url)\n",
    "\n",
    "        # Create a BeautifulSoup object with the response text\n",
    "        soup = BeautifulSoup(response.text, 'html.parser')\n",
    "\n",
    "        # Find the table with the specified ID\n",
    "        table = soup.find('table', {'id': 't2'})\n",
    "\n",
    "        # Extract the column names from the table header\n",
    "        header_row = table.find('thead').find('tr')\n",
    "        headers = [header.text.strip() for header in header_row.find_all('th')]\n",
    "        headers = headers[1:]  # Remove the first column\n",
    "\n",
    "        # Extract the data rows from the table\n",
    "        data = []\n",
    "        for row in table.find_all('tbody'):\n",
    "            for tr in row.find_all('tr'):\n",
    "                row_data = [td.text.strip() for td in tr.find_all('td')]\n",
    "                if len(row_data) > 0:\n",
    "                    data.append(row_data[1:])  # Remove the first empty column\n",
    "\n",
    "        # Create a Pandas DataFrame for the data\n",
    "        df = pd.DataFrame(data, columns=headers)\n",
    "\n",
    "        # Add a column with the year type\n",
    "        if url_type == '{}':\n",
    "            year_type = 'Preliminary'\n",
    "        else:\n",
    "            year_type = 'Revised'\n",
    "        df.insert(0, 'Year Type', year_type)\n",
    "\n",
    "        # Add a column with the year\n",
    "        df.insert(1, 'Year', year)\n",
    "\n",
    "        # Append the DataFrame to the list\n",
    "        dfs.append(df)\n",
    "\n",
    "# Concatenate all DataFrames into a single DataFrame\n",
    "result_df = pd.concat(dfs, ignore_index=True)\n",
    "\n",
    "# Print the resulting DataFrame\n",
    "print(result_df)"
   ]
  },
  {
   "cell_type": "code",
   "execution_count": 209,
   "metadata": {},
   "outputs": [
    {
     "name": "stderr",
     "output_type": "stream",
     "text": [
      "C:\\Users\\macko\\AppData\\Local\\Temp\\ipykernel_28008\\2346580928.py:2: FutureWarning: The default value of regex will change from True to False in a future version.\n",
      "  result_df['Country'] = result_df['Country'].str.replace('Hong Kong \\(China\\)', 'Hong Kong')\n",
      "C:\\Users\\macko\\AppData\\Local\\Temp\\ipykernel_28008\\2346580928.py:5: FutureWarning: The default value of regex will change from True to False in a future version.\n",
      "  result_df['Country'] = result_df['Country'].str.replace('Taiwan \\(China\\)', 'Taiwan')\n"
     ]
    }
   ],
   "source": [
    "# Replace the country 'Hong Kong (China) with 'Hong Kong'\n",
    "result_df['Country'] = result_df['Country'].str.replace('Hong Kong \\(China\\)', 'Hong Kong')\n",
    "\n",
    "# Replace the country 'Hong Kong (China) with 'Hong Kong'\n",
    "result_df['Country'] = result_df['Country'].str.replace('Taiwan \\(China\\)', 'Taiwan')"
   ]
  },
  {
   "attachments": {},
   "cell_type": "markdown",
   "metadata": {},
   "source": [
    "# Preprocessing"
   ]
  },
  {
   "cell_type": "code",
   "execution_count": 210,
   "metadata": {},
   "outputs": [],
   "source": [
    "# if a year is missing for a specific country for 'Revised' use the 'Preliminary' data\n",
    "filtered_df = result_df.groupby(['Country', 'Year']).last().reset_index()"
   ]
  },
  {
   "cell_type": "code",
   "execution_count": 211,
   "metadata": {},
   "outputs": [],
   "source": [
    "# Keep only the revised data for all years, except for the last year\n",
    "end_year_df = result_df[(result_df['Year Type'] == 'Revised') | (result_df['Year'] == end_year)]"
   ]
  },
  {
   "cell_type": "code",
   "execution_count": 212,
   "metadata": {},
   "outputs": [],
   "source": [
    "# concatenate filtered_df and result_df and remove the duplicates\n",
    "new_df = pd.concat([end_year_df, filtered_df], ignore_index=True)"
   ]
  },
  {
   "cell_type": "code",
   "execution_count": 213,
   "metadata": {},
   "outputs": [],
   "source": [
    "# Remove duplicates in new_df\n",
    "new_df = new_df.drop_duplicates(subset=['Country', 'Year'], keep='last')"
   ]
  },
  {
   "cell_type": "code",
   "execution_count": 214,
   "metadata": {},
   "outputs": [],
   "source": [
    "# export to csv ignoring the index\n",
    "# new_df.to_csv('numbeo.csv', index=False)"
   ]
  },
  {
   "cell_type": "code",
   "execution_count": 215,
   "metadata": {},
   "outputs": [
    {
     "name": "stdout",
     "output_type": "stream",
     "text": [
      "<class 'pandas.core.frame.DataFrame'>\n",
      "Int64Index: 889 entries, 847 to 1735\n",
      "Data columns (total 12 columns):\n",
      " #   Column                          Non-Null Count  Dtype \n",
      "---  ------                          --------------  ----- \n",
      " 0   Year Type                       889 non-null    object\n",
      " 1   Year                            889 non-null    int64 \n",
      " 2   Country                         889 non-null    object\n",
      " 3   Quality of Life Index           889 non-null    object\n",
      " 4   Purchasing Power Index          889 non-null    object\n",
      " 5   Safety Index                    889 non-null    object\n",
      " 6   Health Care Index               889 non-null    object\n",
      " 7   Cost of Living Index            889 non-null    object\n",
      " 8   Property Price to Income Ratio  889 non-null    object\n",
      " 9   Traffic Commute Time Index      889 non-null    object\n",
      " 10  Pollution Index                 889 non-null    object\n",
      " 11  Climate Index                   889 non-null    object\n",
      "dtypes: int64(1), object(11)\n",
      "memory usage: 90.3+ KB\n"
     ]
    }
   ],
   "source": [
    "new_df.info()"
   ]
  },
  {
   "cell_type": "code",
   "execution_count": 216,
   "metadata": {},
   "outputs": [
    {
     "name": "stdout",
     "output_type": "stream",
     "text": [
      "<class 'pandas.core.frame.DataFrame'>\n",
      "Int64Index: 889 entries, 847 to 1735\n",
      "Data columns (total 12 columns):\n",
      " #   Column                          Non-Null Count  Dtype  \n",
      "---  ------                          --------------  -----  \n",
      " 0   Year Type                       889 non-null    object \n",
      " 1   Year                            889 non-null    int64  \n",
      " 2   Country                         889 non-null    object \n",
      " 3   Quality of Life Index           889 non-null    float64\n",
      " 4   Purchasing Power Index          889 non-null    float64\n",
      " 5   Safety Index                    889 non-null    float64\n",
      " 6   Health Care Index               889 non-null    float64\n",
      " 7   Cost of Living Index            889 non-null    float64\n",
      " 8   Property Price to Income Ratio  889 non-null    float64\n",
      " 9   Traffic Commute Time Index      889 non-null    float64\n",
      " 10  Pollution Index                 889 non-null    float64\n",
      " 11  Climate Index                   889 non-null    object \n",
      "dtypes: float64(8), int64(1), object(3)\n",
      "memory usage: 90.3+ KB\n"
     ]
    }
   ],
   "source": [
    "# convert all columns to numeric\n",
    "new_df = new_df.apply(pd.to_numeric, errors='ignore')\n",
    "new_df.info() "
   ]
  },
  {
   "cell_type": "code",
   "execution_count": 217,
   "metadata": {},
   "outputs": [
    {
     "data": {
      "text/plain": [
       "-        280\n",
       "86.0       9\n",
       "68.4       8\n",
       "71.2       8\n",
       "78.1       7\n",
       "        ... \n",
       "63.7       1\n",
       "72.0       1\n",
       "89.5       1\n",
       "89.3       1\n",
       "-12.9      1\n",
       "Name: Climate Index, Length: 280, dtype: int64"
      ]
     },
     "execution_count": 217,
     "metadata": {},
     "output_type": "execute_result"
    }
   ],
   "source": [
    "# Climate index wasn't converted to numeric because it has some missing values marked as '-'\n",
    "new_df['Climate Index'].value_counts()"
   ]
  },
  {
   "cell_type": "code",
   "execution_count": 218,
   "metadata": {},
   "outputs": [],
   "source": [
    "import numpy as np\n",
    "\n",
    "# Fill all '-' values with NaN\n",
    "new_df = new_df.replace('-', np.nan)\n",
    "\n",
    "new_df['Climate Index'] = new_df['Climate Index'].astype(float)"
   ]
  },
  {
   "cell_type": "code",
   "execution_count": 219,
   "metadata": {},
   "outputs": [
    {
     "data": {
      "image/png": "[encoded data removed]",
      "text/plain": [
       "<Figure size 1200x600 with 2 Axes>"
      ]
     },
     "metadata": {},
     "output_type": "display_data"
    }
   ],
   "source": [
    "group = new_df[new_df['Country'] == 'Taiwan']\n",
    "import matplotlib.pyplot as plt\n",
    "import seaborn as sns\n",
    "\n",
    "# Plot several regplots on the same figure, one for Quality of life, one for Climate Index\n",
    "fig, axes = plt.subplots(1, 2, figsize=(12, 6))\n",
    "\n",
    "sns.regplot(x='Year', y='Quality of Life Index', data=group, ax=axes[0])\n",
    "sns.regplot(x='Year', y='Climate Index', data=group, ax=axes[1])\n",
    "\n",
    "# Add titles\n",
    "axes[0].set_title('Quality of Life Index for Taiwan')\n",
    "axes[1].set_title('Climate Index for Taiwan')\n",
    "\n",
    "plt.show()"
   ]
  },
  {
   "attachments": {},
   "cell_type": "markdown",
   "metadata": {},
   "source": [
    "## Data for climate index starts in 2016. Let's fill the NaNs using LinearRegression approach"
   ]
  },
  {
   "cell_type": "code",
   "execution_count": 220,
   "metadata": {},
   "outputs": [
    {
     "data": {
      "text/plain": [
       "Index(['Year Type', 'Year', 'Country', 'Quality of Life Index', 'Purchasing Power Index', 'Safety Index', 'Health Care Index', 'Cost of Living Index', 'Property Price to Income Ratio', 'Traffic Commute Time Index', 'Pollution Index', 'Climate Index'], dtype='object')"
      ]
     },
     "execution_count": 220,
     "metadata": {},
     "output_type": "execute_result"
    }
   ],
   "source": [
    "new_df.columns"
   ]
  },
  {
   "cell_type": "code",
   "execution_count": 221,
   "metadata": {},
   "outputs": [],
   "source": [
    "from sklearn.linear_model import LinearRegression\n",
    "\n",
    "df_encoded = pd.get_dummies(new_df, columns=['Country'])\n",
    "df_missing = df_encoded[df_encoded['Year'].between(2012, 2015)]\n",
    "df_available = df_encoded[df_encoded['Year'] >= 2016]"
   ]
  },
  {
   "cell_type": "code",
   "execution_count": 222,
   "metadata": {},
   "outputs": [
    {
     "name": "stderr",
     "output_type": "stream",
     "text": [
      "C:\\Users\\macko\\AppData\\Local\\Temp\\ipykernel_28008\\2269764921.py:15: SettingWithCopyWarning: \n",
      "A value is trying to be set on a copy of a slice from a DataFrame.\n",
      "Try using .loc[row_indexer,col_indexer] = value instead\n",
      "\n",
      "See the caveats in the documentation: https://pandas.pydata.org/pandas-docs/stable/user_guide/indexing.html#returning-a-view-versus-a-copy\n",
      "  df_missing[index_column] = y_pred\n"
     ]
    }
   ],
   "source": [
    "for index_column in ['Climate Index']:\n",
    "    # Prepare the data for linear regression\n",
    "    X_train = df_available[['Year'] + df_available.columns[df_available.columns.str.startswith('Country_')].tolist()]\n",
    "    y_train = df_available[index_column]\n",
    "    X_test = df_missing[['Year'] + df_missing.columns[df_missing.columns.str.startswith('Country_')].tolist()]\n",
    "\n",
    "    # Fit the linear regression model\n",
    "    model = LinearRegression()\n",
    "    model.fit(X_train, y_train)\n",
    "\n",
    "    # Predict the missing values\n",
    "    y_pred = model.predict(X_test)\n",
    "\n",
    "    # Fill in the missing values in the original dataframe\n",
    "    df_missing[index_column] = y_pred"
   ]
  },
  {
   "cell_type": "code",
   "execution_count": 223,
   "metadata": {},
   "outputs": [],
   "source": [
    "# df_missing.head()"
   ]
  },
  {
   "cell_type": "code",
   "execution_count": 224,
   "metadata": {},
   "outputs": [],
   "source": [
    "# Use the ;'Climate Index' column from df_missing to fill the missing values in df_encoded\n",
    "df_encoded['Climate Index'] = df_encoded['Climate Index'].fillna(df_missing['Climate Index'])\n",
    "# df_encoded.head()"
   ]
  },
  {
   "cell_type": "code",
   "execution_count": 225,
   "metadata": {},
   "outputs": [],
   "source": [
    "df_imputed = df_encoded.sort_values(['Year'])\n",
    " \n",
    "# df_imputed.head()"
   ]
  },
  {
   "cell_type": "code",
   "execution_count": 226,
   "metadata": {},
   "outputs": [],
   "source": [
    "# Extract the country names from the dummy variable column names\n",
    "country_names = [col.split('_')[1] for col in df_imputed.columns if col.startswith('Country_')]\n",
    "\n",
    "# country_names\n",
    "# Create the \"Country\" column\n",
    "df_imputed['Country'] = ''\n",
    "\n",
    "# Iterate over each row and assign country names based on the dummy variables\n",
    "for index, row in df_imputed.iterrows():\n",
    "    for country in country_names:\n",
    "        if row[f'Country_{country}'] == 1:\n",
    "            df_imputed.at[index, 'Country'] = country\n",
    "            break  # Exit the loop once a country is found\n",
    "\n",
    "# Print the updated DataFrame\n",
    "# print(df_imputed)"
   ]
  },
  {
   "cell_type": "code",
   "execution_count": 227,
   "metadata": {},
   "outputs": [],
   "source": [
    "# Drop all the 'Country_' columns\n",
    "df_imputed = df_imputed.drop(columns=df_imputed.columns[df_imputed.columns.str.startswith('Country_')])\n",
    "# df_imputed.head()"
   ]
  },
  {
   "attachments": {},
   "cell_type": "markdown",
   "metadata": {},
   "source": [
    "## Graphing Taiwan again to see if the index value for previous years follow the regression line "
   ]
  },
  {
   "cell_type": "code",
   "execution_count": 228,
   "metadata": {},
   "outputs": [
    {
     "data": {
      "text/html": [
       "<div>\n",
       "<style scoped>\n",
       "    .dataframe tbody tr th:only-of-type {\n",
       "        vertical-align: middle;\n",
       "    }\n",
       "\n",
       "    .dataframe tbody tr th {\n",
       "        vertical-align: top;\n",
       "    }\n",
       "\n",
       "    .dataframe thead th {\n",
       "        text-align: right;\n",
       "    }\n",
       "</style>\n",
       "<table border=\"1\" class=\"dataframe\">\n",
       "  <thead>\n",
       "    <tr style=\"text-align: right;\">\n",
       "      <th></th>\n",
       "      <th>Year Type</th>\n",
       "      <th>Year</th>\n",
       "      <th>Country</th>\n",
       "      <th>Quality of Life Index</th>\n",
       "      <th>Purchasing Power Index</th>\n",
       "      <th>Safety Index</th>\n",
       "      <th>Health Care Index</th>\n",
       "      <th>Cost of Living Index</th>\n",
       "      <th>Property Price to Income Ratio</th>\n",
       "      <th>Traffic Commute Time Index</th>\n",
       "      <th>Pollution Index</th>\n",
       "      <th>Climate Index</th>\n",
       "    </tr>\n",
       "  </thead>\n",
       "  <tbody>\n",
       "    <tr>\n",
       "      <th>1627</th>\n",
       "      <td>Revised</td>\n",
       "      <td>2013</td>\n",
       "      <td>Taiwan</td>\n",
       "      <td>120.6</td>\n",
       "      <td>74.2</td>\n",
       "      <td>83.7</td>\n",
       "      <td>81.2</td>\n",
       "      <td>66.8</td>\n",
       "      <td>9.0</td>\n",
       "      <td>38.3</td>\n",
       "      <td>71.5</td>\n",
       "      <td>NaN</td>\n",
       "    </tr>\n",
       "    <tr>\n",
       "      <th>1628</th>\n",
       "      <td>Revised</td>\n",
       "      <td>2014</td>\n",
       "      <td>Taiwan</td>\n",
       "      <td>94.0</td>\n",
       "      <td>65.7</td>\n",
       "      <td>78.6</td>\n",
       "      <td>82.3</td>\n",
       "      <td>59.4</td>\n",
       "      <td>24.1</td>\n",
       "      <td>25.1</td>\n",
       "      <td>64.1</td>\n",
       "      <td>NaN</td>\n",
       "    </tr>\n",
       "    <tr>\n",
       "      <th>1629</th>\n",
       "      <td>Preliminary</td>\n",
       "      <td>2015</td>\n",
       "      <td>Taiwan</td>\n",
       "      <td>92.5</td>\n",
       "      <td>69.9</td>\n",
       "      <td>78.1</td>\n",
       "      <td>84.3</td>\n",
       "      <td>57.1</td>\n",
       "      <td>25.0</td>\n",
       "      <td>28.2</td>\n",
       "      <td>67.6</td>\n",
       "      <td>NaN</td>\n",
       "    </tr>\n",
       "    <tr>\n",
       "      <th>1630</th>\n",
       "      <td>Revised</td>\n",
       "      <td>2016</td>\n",
       "      <td>Taiwan</td>\n",
       "      <td>150.6</td>\n",
       "      <td>113.2</td>\n",
       "      <td>80.5</td>\n",
       "      <td>84.7</td>\n",
       "      <td>57.4</td>\n",
       "      <td>15.5</td>\n",
       "      <td>33.6</td>\n",
       "      <td>64.3</td>\n",
       "      <td>35.7</td>\n",
       "    </tr>\n",
       "    <tr>\n",
       "      <th>1631</th>\n",
       "      <td>Revised</td>\n",
       "      <td>2017</td>\n",
       "      <td>Taiwan</td>\n",
       "      <td>150.0</td>\n",
       "      <td>94.9</td>\n",
       "      <td>81.7</td>\n",
       "      <td>82.8</td>\n",
       "      <td>66.8</td>\n",
       "      <td>13.8</td>\n",
       "      <td>35.8</td>\n",
       "      <td>62.9</td>\n",
       "      <td>75.2</td>\n",
       "    </tr>\n",
       "    <tr>\n",
       "      <th>1632</th>\n",
       "      <td>Revised</td>\n",
       "      <td>2018</td>\n",
       "      <td>Taiwan</td>\n",
       "      <td>159.5</td>\n",
       "      <td>102.1</td>\n",
       "      <td>78.6</td>\n",
       "      <td>85.3</td>\n",
       "      <td>59.7</td>\n",
       "      <td>17.5</td>\n",
       "      <td>32.7</td>\n",
       "      <td>63.9</td>\n",
       "      <td>82.9</td>\n",
       "    </tr>\n",
       "    <tr>\n",
       "      <th>1633</th>\n",
       "      <td>Revised</td>\n",
       "      <td>2019</td>\n",
       "      <td>Taiwan</td>\n",
       "      <td>146.6</td>\n",
       "      <td>74.2</td>\n",
       "      <td>83.8</td>\n",
       "      <td>86.9</td>\n",
       "      <td>58.8</td>\n",
       "      <td>23.2</td>\n",
       "      <td>32.0</td>\n",
       "      <td>64.2</td>\n",
       "      <td>84.4</td>\n",
       "    </tr>\n",
       "    <tr>\n",
       "      <th>1634</th>\n",
       "      <td>Revised</td>\n",
       "      <td>2020</td>\n",
       "      <td>Taiwan</td>\n",
       "      <td>140.5</td>\n",
       "      <td>61.4</td>\n",
       "      <td>84.7</td>\n",
       "      <td>86.4</td>\n",
       "      <td>61.9</td>\n",
       "      <td>24.2</td>\n",
       "      <td>31.5</td>\n",
       "      <td>63.1</td>\n",
       "      <td>81.6</td>\n",
       "    </tr>\n",
       "    <tr>\n",
       "      <th>1635</th>\n",
       "      <td>Revised</td>\n",
       "      <td>2021</td>\n",
       "      <td>Taiwan</td>\n",
       "      <td>138.5</td>\n",
       "      <td>51.1</td>\n",
       "      <td>84.5</td>\n",
       "      <td>86.4</td>\n",
       "      <td>64.9</td>\n",
       "      <td>21.8</td>\n",
       "      <td>31.4</td>\n",
       "      <td>63.0</td>\n",
       "      <td>81.6</td>\n",
       "    </tr>\n",
       "    <tr>\n",
       "      <th>1636</th>\n",
       "      <td>Revised</td>\n",
       "      <td>2022</td>\n",
       "      <td>Taiwan</td>\n",
       "      <td>143.8</td>\n",
       "      <td>61.8</td>\n",
       "      <td>83.9</td>\n",
       "      <td>86.0</td>\n",
       "      <td>55.9</td>\n",
       "      <td>19.7</td>\n",
       "      <td>31.7</td>\n",
       "      <td>64.9</td>\n",
       "      <td>81.6</td>\n",
       "    </tr>\n",
       "    <tr>\n",
       "      <th>1637</th>\n",
       "      <td>Preliminary</td>\n",
       "      <td>2023</td>\n",
       "      <td>Taiwan</td>\n",
       "      <td>147.8</td>\n",
       "      <td>71.3</td>\n",
       "      <td>83.8</td>\n",
       "      <td>85.9</td>\n",
       "      <td>54.2</td>\n",
       "      <td>20.1</td>\n",
       "      <td>32.0</td>\n",
       "      <td>64.9</td>\n",
       "      <td>83.5</td>\n",
       "    </tr>\n",
       "  </tbody>\n",
       "</table>\n",
       "</div>"
      ],
      "text/plain": [
       "        Year Type  Year Country  Quality of Life Index  Purchasing Power Index  Safety Index  Health Care Index  Cost of Living Index  Property Price to Income Ratio  Traffic Commute Time Index  Pollution Index  Climate Index\n",
       "1627      Revised  2013  Taiwan                  120.6                    74.2          83.7               81.2                  66.8                             9.0                        38.3             71.5            NaN\n",
       "1628      Revised  2014  Taiwan                   94.0                    65.7          78.6               82.3                  59.4                            24.1                        25.1             64.1            NaN\n",
       "1629  Preliminary  2015  Taiwan                   92.5                    69.9          78.1               84.3                  57.1                            25.0                        28.2             67.6            NaN\n",
       "1630      Revised  2016  Taiwan                  150.6                   113.2          80.5               84.7                  57.4                            15.5                        33.6             64.3           35.7\n",
       "1631      Revised  2017  Taiwan                  150.0                    94.9          81.7               82.8                  66.8                            13.8                        35.8             62.9           75.2\n",
       "1632      Revised  2018  Taiwan                  159.5                   102.1          78.6               85.3                  59.7                            17.5                        32.7             63.9           82.9\n",
       "1633      Revised  2019  Taiwan                  146.6                    74.2          83.8               86.9                  58.8                            23.2                        32.0             64.2           84.4\n",
       "1634      Revised  2020  Taiwan                  140.5                    61.4          84.7               86.4                  61.9                            24.2                        31.5             63.1           81.6\n",
       "1635      Revised  2021  Taiwan                  138.5                    51.1          84.5               86.4                  64.9                            21.8                        31.4             63.0           81.6\n",
       "1636      Revised  2022  Taiwan                  143.8                    61.8          83.9               86.0                  55.9                            19.7                        31.7             64.9           81.6\n",
       "1637  Preliminary  2023  Taiwan                  147.8                    71.3          83.8               85.9                  54.2                            20.1                        32.0             64.9           83.5"
      ]
     },
     "execution_count": 228,
     "metadata": {},
     "output_type": "execute_result"
    }
   ],
   "source": [
    "group"
   ]
  },
  {
   "cell_type": "code",
   "execution_count": 229,
   "metadata": {},
   "outputs": [
    {
     "data": {
      "text/html": [
       "<div>\n",
       "<style scoped>\n",
       "    .dataframe tbody tr th:only-of-type {\n",
       "        vertical-align: middle;\n",
       "    }\n",
       "\n",
       "    .dataframe tbody tr th {\n",
       "        vertical-align: top;\n",
       "    }\n",
       "\n",
       "    .dataframe thead th {\n",
       "        text-align: right;\n",
       "    }\n",
       "</style>\n",
       "<table border=\"1\" class=\"dataframe\">\n",
       "  <thead>\n",
       "    <tr style=\"text-align: right;\">\n",
       "      <th></th>\n",
       "      <th>Year Type</th>\n",
       "      <th>Year</th>\n",
       "      <th>Country</th>\n",
       "      <th>Quality of Life Index</th>\n",
       "      <th>Purchasing Power Index</th>\n",
       "      <th>Safety Index</th>\n",
       "      <th>Health Care Index</th>\n",
       "      <th>Cost of Living Index</th>\n",
       "      <th>Property Price to Income Ratio</th>\n",
       "      <th>Traffic Commute Time Index</th>\n",
       "      <th>Pollution Index</th>\n",
       "      <th>Climate Index</th>\n",
       "    </tr>\n",
       "  </thead>\n",
       "  <tbody>\n",
       "    <tr>\n",
       "      <th>1627</th>\n",
       "      <td>Revised</td>\n",
       "      <td>2013</td>\n",
       "      <td>Taiwan</td>\n",
       "      <td>120.6</td>\n",
       "      <td>74.2</td>\n",
       "      <td>83.7</td>\n",
       "      <td>81.2</td>\n",
       "      <td>66.8</td>\n",
       "      <td>9.0</td>\n",
       "      <td>38.3</td>\n",
       "      <td>71.5</td>\n",
       "      <td>60.7</td>\n",
       "    </tr>\n",
       "    <tr>\n",
       "      <th>1628</th>\n",
       "      <td>Revised</td>\n",
       "      <td>2014</td>\n",
       "      <td>Taiwan</td>\n",
       "      <td>94.0</td>\n",
       "      <td>65.7</td>\n",
       "      <td>78.6</td>\n",
       "      <td>82.3</td>\n",
       "      <td>59.4</td>\n",
       "      <td>24.1</td>\n",
       "      <td>25.1</td>\n",
       "      <td>64.1</td>\n",
       "      <td>63.0</td>\n",
       "    </tr>\n",
       "    <tr>\n",
       "      <th>1629</th>\n",
       "      <td>Preliminary</td>\n",
       "      <td>2015</td>\n",
       "      <td>Taiwan</td>\n",
       "      <td>92.5</td>\n",
       "      <td>69.9</td>\n",
       "      <td>78.1</td>\n",
       "      <td>84.3</td>\n",
       "      <td>57.1</td>\n",
       "      <td>25.0</td>\n",
       "      <td>28.2</td>\n",
       "      <td>67.6</td>\n",
       "      <td>65.4</td>\n",
       "    </tr>\n",
       "    <tr>\n",
       "      <th>1630</th>\n",
       "      <td>Revised</td>\n",
       "      <td>2016</td>\n",
       "      <td>Taiwan</td>\n",
       "      <td>150.6</td>\n",
       "      <td>113.2</td>\n",
       "      <td>80.5</td>\n",
       "      <td>84.7</td>\n",
       "      <td>57.4</td>\n",
       "      <td>15.5</td>\n",
       "      <td>33.6</td>\n",
       "      <td>64.3</td>\n",
       "      <td>35.7</td>\n",
       "    </tr>\n",
       "    <tr>\n",
       "      <th>1631</th>\n",
       "      <td>Revised</td>\n",
       "      <td>2017</td>\n",
       "      <td>Taiwan</td>\n",
       "      <td>150.0</td>\n",
       "      <td>94.9</td>\n",
       "      <td>81.7</td>\n",
       "      <td>82.8</td>\n",
       "      <td>66.8</td>\n",
       "      <td>13.8</td>\n",
       "      <td>35.8</td>\n",
       "      <td>62.9</td>\n",
       "      <td>75.2</td>\n",
       "    </tr>\n",
       "    <tr>\n",
       "      <th>1632</th>\n",
       "      <td>Revised</td>\n",
       "      <td>2018</td>\n",
       "      <td>Taiwan</td>\n",
       "      <td>159.5</td>\n",
       "      <td>102.1</td>\n",
       "      <td>78.6</td>\n",
       "      <td>85.3</td>\n",
       "      <td>59.7</td>\n",
       "      <td>17.5</td>\n",
       "      <td>32.7</td>\n",
       "      <td>63.9</td>\n",
       "      <td>82.9</td>\n",
       "    </tr>\n",
       "    <tr>\n",
       "      <th>1633</th>\n",
       "      <td>Revised</td>\n",
       "      <td>2019</td>\n",
       "      <td>Taiwan</td>\n",
       "      <td>146.6</td>\n",
       "      <td>74.2</td>\n",
       "      <td>83.8</td>\n",
       "      <td>86.9</td>\n",
       "      <td>58.8</td>\n",
       "      <td>23.2</td>\n",
       "      <td>32.0</td>\n",
       "      <td>64.2</td>\n",
       "      <td>84.4</td>\n",
       "    </tr>\n",
       "    <tr>\n",
       "      <th>1634</th>\n",
       "      <td>Revised</td>\n",
       "      <td>2020</td>\n",
       "      <td>Taiwan</td>\n",
       "      <td>140.5</td>\n",
       "      <td>61.4</td>\n",
       "      <td>84.7</td>\n",
       "      <td>86.4</td>\n",
       "      <td>61.9</td>\n",
       "      <td>24.2</td>\n",
       "      <td>31.5</td>\n",
       "      <td>63.1</td>\n",
       "      <td>81.6</td>\n",
       "    </tr>\n",
       "    <tr>\n",
       "      <th>1635</th>\n",
       "      <td>Revised</td>\n",
       "      <td>2021</td>\n",
       "      <td>Taiwan</td>\n",
       "      <td>138.5</td>\n",
       "      <td>51.1</td>\n",
       "      <td>84.5</td>\n",
       "      <td>86.4</td>\n",
       "      <td>64.9</td>\n",
       "      <td>21.8</td>\n",
       "      <td>31.4</td>\n",
       "      <td>63.0</td>\n",
       "      <td>81.6</td>\n",
       "    </tr>\n",
       "    <tr>\n",
       "      <th>1636</th>\n",
       "      <td>Revised</td>\n",
       "      <td>2022</td>\n",
       "      <td>Taiwan</td>\n",
       "      <td>143.8</td>\n",
       "      <td>61.8</td>\n",
       "      <td>83.9</td>\n",
       "      <td>86.0</td>\n",
       "      <td>55.9</td>\n",
       "      <td>19.7</td>\n",
       "      <td>31.7</td>\n",
       "      <td>64.9</td>\n",
       "      <td>81.6</td>\n",
       "    </tr>\n",
       "    <tr>\n",
       "      <th>1637</th>\n",
       "      <td>Preliminary</td>\n",
       "      <td>2023</td>\n",
       "      <td>Taiwan</td>\n",
       "      <td>147.8</td>\n",
       "      <td>71.3</td>\n",
       "      <td>83.8</td>\n",
       "      <td>85.9</td>\n",
       "      <td>54.2</td>\n",
       "      <td>20.1</td>\n",
       "      <td>32.0</td>\n",
       "      <td>64.9</td>\n",
       "      <td>83.5</td>\n",
       "    </tr>\n",
       "  </tbody>\n",
       "</table>\n",
       "</div>"
      ],
      "text/plain": [
       "        Year Type  Year Country  Quality of Life Index  Purchasing Power Index  Safety Index  Health Care Index  Cost of Living Index  Property Price to Income Ratio  Traffic Commute Time Index  Pollution Index  Climate Index\n",
       "1627      Revised  2013  Taiwan                  120.6                    74.2          83.7               81.2                  66.8                             9.0                        38.3             71.5           60.7\n",
       "1628      Revised  2014  Taiwan                   94.0                    65.7          78.6               82.3                  59.4                            24.1                        25.1             64.1           63.0\n",
       "1629  Preliminary  2015  Taiwan                   92.5                    69.9          78.1               84.3                  57.1                            25.0                        28.2             67.6           65.4\n",
       "1630      Revised  2016  Taiwan                  150.6                   113.2          80.5               84.7                  57.4                            15.5                        33.6             64.3           35.7\n",
       "1631      Revised  2017  Taiwan                  150.0                    94.9          81.7               82.8                  66.8                            13.8                        35.8             62.9           75.2\n",
       "1632      Revised  2018  Taiwan                  159.5                   102.1          78.6               85.3                  59.7                            17.5                        32.7             63.9           82.9\n",
       "1633      Revised  2019  Taiwan                  146.6                    74.2          83.8               86.9                  58.8                            23.2                        32.0             64.2           84.4\n",
       "1634      Revised  2020  Taiwan                  140.5                    61.4          84.7               86.4                  61.9                            24.2                        31.5             63.1           81.6\n",
       "1635      Revised  2021  Taiwan                  138.5                    51.1          84.5               86.4                  64.9                            21.8                        31.4             63.0           81.6\n",
       "1636      Revised  2022  Taiwan                  143.8                    61.8          83.9               86.0                  55.9                            19.7                        31.7             64.9           81.6\n",
       "1637  Preliminary  2023  Taiwan                  147.8                    71.3          83.8               85.9                  54.2                            20.1                        32.0             64.9           83.5"
      ]
     },
     "execution_count": 229,
     "metadata": {},
     "output_type": "execute_result"
    }
   ],
   "source": [
    "# Round the 'Climate Index to 1 decimal place in df_imputed\n",
    "df_imputed['Climate Index'] = df_imputed['Climate Index'].round(1)\n",
    "\n",
    "# Save 'Country' as third column using insert()\n",
    "df_imputed.insert(2, 'Country', df_imputed.pop('Country'))\n",
    "\n",
    "group_imputed = df_imputed[df_imputed['Country'] == 'Taiwan']\n",
    "\n",
    "group_imputed"
   ]
  },
  {
   "cell_type": "code",
   "execution_count": 236,
   "metadata": {},
   "outputs": [
    {
     "data": {
      "image/png": "[encoded data removed]",
      "text/plain": [
       "<Figure size 1200x600 with 2 Axes>"
      ]
     },
     "metadata": {},
     "output_type": "display_data"
    }
   ],
   "source": [
    "# Plot several regplots on the same figure, one for Quality of life, one for Climate Index\n",
    "fig, axes = plt.subplots(1, 2, figsize=(12, 6))\n",
    "\n",
    "sns.regplot(x='Year', y='Climate Index', data=group, ax=axes[0])\n",
    "sns.regplot(x='Year', y='Climate Index', data=group_imputed, ax=axes[1])\n",
    "plt.suptitle('Before and after imputation', fontsize=16)\n",
    "\n",
    "# Add titles\n",
    "axes[0].set_title('Climate index for Taiwan (before imputation)')\n",
    "axes[1].set_title('Climate index for Taiwan (after imputation)')\n",
    "\n",
    "plt.show()"
   ]
  }
 ],
 "metadata": {
  "kernelspec": {
   "display_name": "Python 3",
   "language": "python",
   "name": "python3"
  },
  "language_info": {
   "codemirror_mode": {
    "name": "ipython",
    "version": 3
   },
   "file_extension": ".py",
   "mimetype": "text/x-python",
   "name": "python",
   "nbconvert_exporter": "python",
   "pygments_lexer": "ipython3",
   "version": "3.10.4"
  },
  "orig_nbformat": 4
 },
 "nbformat": 4,
 "nbformat_minor": 2
}
