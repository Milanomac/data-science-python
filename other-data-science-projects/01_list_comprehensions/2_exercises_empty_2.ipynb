{
 "cells": [
  {
   "attachments": {},
   "cell_type": "markdown",
   "metadata": {},
   "source": [
    "# List comprehensions\n",
    "\n",
    "Questions from:\n",
    "\n",
    "https://towardsdatascience.com/beginner-to-advanced-list-comprehension-practice-problems-a89604851313\n",
    "\n",
    "https://bbookman.github.io/Python-list-comprehension1/?msclkid=f83f1d75cd4611ecac7eee366a159e83\n",
    "\n",
    "### Solve the following exercises:\n",
    "\n",
    "1. Find all of the numbers from 1–1000 that are divisible by 8\n",
    "2. Find all of the numbers from 1–1000 that have a 6 in them\n",
    "3. Count the number of spaces in a string (use string above)\n",
    "4. Remove all of the vowels in a string (use string above)\n",
    "\n",
    "5. Find all of the words in a string that are less than 5 letters (use string above)\n",
    "\n",
    "6. Use a dictionary comprehension to count the length of each word in a sentence (use string above)\n",
    "7. Use a nested list comprehension to find all of the numbers from 1–1000 that are divisible by any single digit besides 1 (2–9)\n",
    "\n",
    "(prints every number from range 1 to 1000 except for the prime numbers)\n",
    "\n",
    "8. For all the numbers 1–1000, use a nested list/dictionary comprehension to find the highest single digit any of the numbers is divisible by\n",
    "9. Given a list of numbers, remove all odd numbers from the list:\n",
    "\n",
    "numbers = [3,5,45,97,32,22,10,19,39,43]\n",
    "\n",
    "10. Find all of the numbers from 1-1000 that are divisible by 7\n",
    "\n",
    "11. Find all of the numbers from 1-1000 that have a 3 in them\n",
    "12. Count the number of spaces in a string\n",
    "13. Create a list of all the consonants in the string “Yellow Yaks like yelling and yawning and yesturday they yodled while eating \n",
    "14. Get the index and the value as a tuple for items in the list “hi”, 4, 8.99, ‘apple’, (‘t,b’,’n’). \n",
    "\n",
    "Result would look like (index_1, value_1), (index_2, value_2)\n",
    "\n",
    "15. Find the common numbers in two lists (without using a tuple or set) list_a = 1, 2, 3, 4, list_b = 2, 3, 4, 5\n",
    "16. Get only the numbers in a sentence like ‘In 1984 there were 13 instances of a protest with over 1000 people attending’\n",
    "17. Given numbers = range(20), produce a list containing the word ‘even’ if a number in the numbers is even, and the word ‘odd’ if the number is odd. Result would look like ‘odd’,’odd’, ‘even’\n",
    "\n",
    "18. Produce a list of tuples consisting of only the matching numbers in these lists list_a = 1, 2, 3,4,5,6,7,8,9, list_b = 2, 7, 1, 12. Result would look like (4,4), (12,12)\n",
    "\n",
    "19. Find all of the words in a string that are less than 4 letters\n",
    "\n",
    "20. Use a nested list comprehension to find all of the numbers from 1-1000 that are divisible by any single digit besides 1 (2-9)\n"
   ]
  },
  {
   "cell_type": "code",
   "execution_count": 110,
   "metadata": {},
   "outputs": [],
   "source": [
    "import numpy as np\n",
    "\n",
    "nums = [i for i in range(1,1001)]\n",
    "string = \"Practice Problems to Drill List Comprehension in Your Head.\""
   ]
  },
  {
   "cell_type": "markdown",
   "metadata": {},
   "source": [
    "1. Find all of the numbers from 1–1000 that are divisible by 8"
   ]
  },
  {
   "cell_type": "markdown",
   "metadata": {},
   "source": [
    "2. Find all of the numbers from 1–1000 that have a 6 in them"
   ]
  },
  {
   "cell_type": "markdown",
   "metadata": {},
   "source": [
    "3. Count the number of spaces in a string (use string above)"
   ]
  },
  {
   "cell_type": "markdown",
   "metadata": {},
   "source": [
    "4. Remove all of the vowels in a string (use string above)\n"
   ]
  },
  {
   "cell_type": "markdown",
   "metadata": {},
   "source": [
    "5. Find all of the words in a string that are less than 5 letters (use string above)\n"
   ]
  },
  {
   "cell_type": "markdown",
   "metadata": {},
   "source": [
    "6. Use a dictionary comprehension to count the length of each word in a sentence (use string above)"
   ]
  },
  {
   "cell_type": "markdown",
   "metadata": {},
   "source": [
    "7. Use a nested list comprehension to find all of the numbers from 1–1000 that are divisible by any single digit besides 1 (2–9)\n",
    "\n",
    "(prints every number from range 1 to 1000 except for the prime numbers)"
   ]
  },
  {
   "cell_type": "markdown",
   "metadata": {},
   "source": [
    "8. For all the numbers 1–1000, use a nested list/dictionary comprehension to find the highest single digit any of the numbers is divisible by"
   ]
  },
  {
   "cell_type": "markdown",
   "metadata": {},
   "source": [
    "9. Given a list of numbers, remove all odd numbers from the list:\n",
    "\n",
    "numbers = [3,5,45,97,32,22,10,19,39,43]"
   ]
  },
  {
   "cell_type": "markdown",
   "metadata": {},
   "source": [
    "10. Find all of the numbers from 1-1000 that are divisible by 7\n"
   ]
  },
  {
   "cell_type": "markdown",
   "metadata": {},
   "source": [
    "11. Find all of the numbers from 1-1000 that have a 3 in them"
   ]
  },
  {
   "cell_type": "markdown",
   "metadata": {},
   "source": [
    "12. Count the number of spaces in a string"
   ]
  },
  {
   "cell_type": "markdown",
   "metadata": {},
   "source": [
    "13. Create a list of all the consonants in the string “Yellow Yaks like yelling and yawning and yesturday they yodled while eating "
   ]
  },
  {
   "cell_type": "markdown",
   "metadata": {},
   "source": [
    "14. Get the index and the value as a tuple for items in the list “hi”, 4, 8.99, ‘apple’, (‘t,b’,’n’). \n",
    "\n",
    "Result would look like (index_1, value_1), (index_2, value_2)"
   ]
  },
  {
   "cell_type": "markdown",
   "metadata": {},
   "source": [
    "15. Find the common numbers in two lists (without using a tuple or set) list_a = 1, 2, 3, 4, list_b = 2, 3, 4, 5"
   ]
  },
  {
   "cell_type": "markdown",
   "metadata": {},
   "source": [
    "16. Get only the numbers in a sentence like ‘In 1984 there were 13 instances of a protest with over 1000 people attending’"
   ]
  },
  {
   "cell_type": "markdown",
   "metadata": {},
   "source": [
    "17. Given numbers = range(20), produce a list containing the word ‘even’ if a number in the numbers is even, and the word ‘odd’ if the number is odd. Result would look like ‘odd’,’odd’, ‘even’\n"
   ]
  },
  {
   "cell_type": "markdown",
   "metadata": {},
   "source": [
    "18. Produce a list of tuples consisting of only the matching numbers in these lists list_a = 1, 2, 3,4,5,6,7,8,9, list_b = 2, 7, 1, 12. Result would look like (4,4), (12,12)\n"
   ]
  },
  {
   "cell_type": "markdown",
   "metadata": {},
   "source": [
    "19. Find all of the words in a string that are less than 4 letters\n"
   ]
  },
  {
   "cell_type": "markdown",
   "metadata": {},
   "source": [
    "20. Use a nested list comprehension to find all of the numbers from 1-1000 that are divisible by any single digit besides 1 (2-9)\n"
   ]
  },
  {
   "cell_type": "code",
   "execution_count": null,
   "metadata": {},
   "outputs": [],
   "source": []
  }
 ],
 "metadata": {
  "kernelspec": {
   "display_name": "Python 3",
   "language": "python",
   "name": "python3"
  },
  "language_info": {
   "codemirror_mode": {
    "name": "ipython",
    "version": 3
   },
   "file_extension": ".py",
   "mimetype": "text/x-python",
   "name": "python",
   "nbconvert_exporter": "python",
   "pygments_lexer": "ipython3",
   "version": "3.10.4"
  },
  "orig_nbformat": 4
 },
 "nbformat": 4,
 "nbformat_minor": 2
}
