{
 "cells": [
  {
   "cell_type": "code",
   "execution_count": 79,
   "metadata": {},
   "outputs": [],
   "source": [
    "import requests\n",
    "import xml.etree.ElementTree as ET\n",
    "import pandas as pd\n",
    "import time\n",
    "import datetime\n",
    "import numpy as np\n",
    "import matplotlib.pyplot as plt\n",
    "import seaborn as sns\n",
    "import matplotlib.dates as mdates\n",
    "\n",
    "url = \"https://vip-prod-service-00-azapp.azurewebsites.net/_layouts/CepsData.asmx\"\n",
    "\n",
    "options = {\n",
    "    \"Content-Type\": \"text/xml; charset=utf-8\",\n",
    "    \"SOAPAction\": \"https://www.ceps.cz/CepsData/AktualniSystemovaOdchylkaCR\"\n",
    "}"
   ]
  },
  {
   "cell_type": "code",
   "execution_count": 80,
   "metadata": {},
   "outputs": [
    {
     "name": "stdout",
     "output_type": "stream",
     "text": [
      "2023-06-05T03:31:46\n",
      "2023-06-05T08:31:46\n"
     ]
    }
   ],
   "source": [
    "# Get the current time\n",
    "five_hours_ago = datetime.datetime.now() - datetime.timedelta(hours=5)\n",
    "\n",
    "# Set the timezone offset manually\n",
    "timezone_offset = -300  # Offset for UTC-5:00 (5 hours * 60 minutes)\n",
    "\n",
    "# Convert to the desired format\n",
    "formatted_date = five_hours_ago.strftime(\"%Y-%m-%dT%H:%M:%S\")\n",
    "timezone_offset_formatted = f\"{'' if timezone_offset < 0 else '+'}\"\n",
    "# {abs(timezone_offset)//60:02d}:00\"\n",
    "\n",
    "five_hours_ago_formatted = formatted_date + timezone_offset_formatted\n",
    "print(five_hours_ago_formatted)\n",
    "# print(\"2023-06-03T00:00:00\")\n",
    "\n",
    "date_to = datetime.datetime.now()\n",
    "formatted_date_to = date_to.strftime(\"%Y-%m-%dT%H:%M:%S\")\n",
    "timezone_offset_formatted_to = f\"{'' if timezone_offset < 0 else '+'}\" \n",
    "print(formatted_date_to)"
   ]
  },
  {
   "cell_type": "code",
   "execution_count": 81,
   "metadata": {},
   "outputs": [],
   "source": [
    "SOAPEnvelope = \"\"\"<?xml version=\"1.0\" encoding=\"utf-8\"?>\n",
    "<soap:Envelope xmlns:xsi=\"http://www.w3.org/2001/XMLSchema-instance\" xmlns:xsd=\"http://www.w3.org/2001/XMLSchema\" xmlns:soap=\"http://schemas.xmlsoap.org/soap/envelope/\">\n",
    "  <soap:Body>\n",
    "    <AktualniSystemovaOdchylkaCR xmlns=\"https://www.ceps.cz/CepsData/\">\n",
    "      <dateFrom>date_from</dateFrom>\n",
    "      <dateTo>date_to</dateTo>\n",
    "    </AktualniSystemovaOdchylkaCR>\n",
    "  </soap:Body>\n",
    "</soap:Envelope>\"\"\"\n",
    "\n",
    "# Replace the placeholders with the actual values\n",
    "SOAPEnvelope = SOAPEnvelope.replace(\"date_from\", five_hours_ago_formatted)\n",
    "SOAPEnvelope = SOAPEnvelope.replace(\"date_to\", formatted_date_to)"
   ]
  },
  {
   "cell_type": "code",
   "execution_count": 82,
   "metadata": {},
   "outputs": [],
   "source": [
    "# # Create an empty DataFrame to store the data\n",
    "# df = pd.DataFrame(columns=['date', 'value1'])\n",
    "\n",
    "# # Set the duration for data retrieval (in seconds)\n",
    "# duration = 60 * 10  # Retrieve data for 10 minutes\n",
    "# interval = 15  # Retrieve data every 15 seconds\n",
    "\n",
    "# # Start time for tracking the duration\n",
    "# start_time = time.time()\n",
    "\n",
    "# while time.time() - start_time < duration:\n",
    "#     # Make the API call and obtain the response\n",
    "#     response = requests.post(url, data=SOAPEnvelope, headers=options)\n",
    "#     xml_data = response.text\n",
    "\n",
    "#     # Parse the XML data\n",
    "#     root = ET.fromstring(xml_data)\n",
    "#     namespace = {'ceps': 'https://www.ceps.cz/CepsData/StructuredData/1.0'}\n",
    "\n",
    "#     # Extract relevant data from XML\n",
    "#     data = []\n",
    "#     for item in root.findall('.//ceps:item', namespace):\n",
    "#         date = item.get('date')\n",
    "#         value1 = float(item.get('value1'))\n",
    "#         data.append({'date': date, 'value1': value1})\n",
    "\n",
    "#     # Create a DataFrame from the extracted data\n",
    "#     new_df = pd.DataFrame(data)\n",
    "\n",
    "#     # Append the new data to the existing DataFrame\n",
    "#     df = pd.concat([df, new_df])\n",
    "\n",
    "#     # Convert the 'date' column to datetime format\n",
    "#     df['date'] = pd.to_datetime(df['date'])\n",
    "\n",
    "#     # Update the real-time graph\n",
    "#     plt.plot(df['date'], df['value1'])\n",
    "#     plt.xlabel('Date')\n",
    "#     plt.ylabel('Value 1')\n",
    "#     plt.title('Real-time Graph')\n",
    "#     plt.pause(interval)\n",
    "\n",
    "#     # Delay before the next API call\n",
    "#     time.sleep(interval)\n",
    "\n",
    "# # Show the final real-time graph\n",
    "# plt.show()"
   ]
  },
  {
   "cell_type": "code",
   "execution_count": 83,
   "metadata": {},
   "outputs": [
    {
     "name": "stdout",
     "output_type": "stream",
     "text": [
      "                          date   imbalance\n",
      "0    2023-06-05T03:32:00+02:00   35.022976\n",
      "1    2023-06-05T03:33:00+02:00   42.984734\n",
      "2    2023-06-05T03:34:00+02:00   58.551533\n",
      "3    2023-06-05T03:35:00+02:00   61.967007\n",
      "4    2023-06-05T03:36:00+02:00   60.061825\n",
      "..                         ...         ...\n",
      "293  2023-06-05T08:25:00+02:00  104.924805\n",
      "294  2023-06-05T08:26:00+02:00   98.865982\n",
      "295  2023-06-05T08:27:00+02:00   83.659561\n",
      "296  2023-06-05T08:28:00+02:00   74.887955\n",
      "297  2023-06-05T08:29:00+02:00   56.238670\n",
      "\n",
      "[298 rows x 2 columns]\n"
     ]
    }
   ],
   "source": [
    "# Make the API call and obtain the response\n",
    "response = requests.post(url, data=SOAPEnvelope, headers=options)\n",
    "xml_data = response.text\n",
    "\n",
    "# Parse the XML data\n",
    "root = ET.fromstring(xml_data)\n",
    "\n",
    "# Define the namespace\n",
    "namespace = {'ceps': 'https://www.ceps.cz/CepsData/StructuredData/1.0'}\n",
    "\n",
    "# Extract relevant data from XML\n",
    "data = []\n",
    "for item in root.findall('.//ceps:item', namespace):\n",
    "    date = item.get('date')\n",
    "    value1 = float(item.get('value1'))\n",
    "    data.append({'date': date, 'value1': value1})\n",
    "\n",
    "# Create a DataFrame from the extracted data and replace the name of the second column from value1 to imbalance\n",
    "df = pd.DataFrame(data).rename(columns={'value1': 'imbalance'})\n",
    "\n",
    "# Print the DataFrame\n",
    "print(df)"
   ]
  },
  {
   "cell_type": "code",
   "execution_count": 84,
   "metadata": {},
   "outputs": [],
   "source": [
    "df['is_positive'] = np.where(df['imbalance'] > 0, 1, 0)"
   ]
  },
  {
   "cell_type": "code",
   "execution_count": 87,
   "metadata": {},
   "outputs": [
    {
     "data": {
      "text/html": [
       "<div>\n",
       "<style scoped>\n",
       "    .dataframe tbody tr th:only-of-type {\n",
       "        vertical-align: middle;\n",
       "    }\n",
       "\n",
       "    .dataframe tbody tr th {\n",
       "        vertical-align: top;\n",
       "    }\n",
       "\n",
       "    .dataframe thead th {\n",
       "        text-align: right;\n",
       "    }\n",
       "</style>\n",
       "<table border=\"1\" class=\"dataframe\">\n",
       "  <thead>\n",
       "    <tr style=\"text-align: right;\">\n",
       "      <th></th>\n",
       "      <th>date</th>\n",
       "      <th>imbalance</th>\n",
       "      <th>is_positive</th>\n",
       "    </tr>\n",
       "  </thead>\n",
       "  <tbody>\n",
       "    <tr>\n",
       "      <th>293</th>\n",
       "      <td>2023-06-05 08:25:00+02:00</td>\n",
       "      <td>104.924805</td>\n",
       "      <td>1</td>\n",
       "    </tr>\n",
       "    <tr>\n",
       "      <th>294</th>\n",
       "      <td>2023-06-05 08:26:00+02:00</td>\n",
       "      <td>98.865982</td>\n",
       "      <td>1</td>\n",
       "    </tr>\n",
       "    <tr>\n",
       "      <th>295</th>\n",
       "      <td>2023-06-05 08:27:00+02:00</td>\n",
       "      <td>83.659561</td>\n",
       "      <td>1</td>\n",
       "    </tr>\n",
       "    <tr>\n",
       "      <th>296</th>\n",
       "      <td>2023-06-05 08:28:00+02:00</td>\n",
       "      <td>74.887955</td>\n",
       "      <td>1</td>\n",
       "    </tr>\n",
       "    <tr>\n",
       "      <th>297</th>\n",
       "      <td>2023-06-05 08:29:00+02:00</td>\n",
       "      <td>56.238670</td>\n",
       "      <td>1</td>\n",
       "    </tr>\n",
       "  </tbody>\n",
       "</table>\n",
       "</div>"
      ],
      "text/plain": [
       "                         date   imbalance  is_positive\n",
       "293 2023-06-05 08:25:00+02:00  104.924805            1\n",
       "294 2023-06-05 08:26:00+02:00   98.865982            1\n",
       "295 2023-06-05 08:27:00+02:00   83.659561            1\n",
       "296 2023-06-05 08:28:00+02:00   74.887955            1\n",
       "297 2023-06-05 08:29:00+02:00   56.238670            1"
      ]
     },
     "execution_count": 87,
     "metadata": {},
     "output_type": "execute_result"
    }
   ],
   "source": [
    "df.tail()"
   ]
  },
  {
   "cell_type": "code",
   "execution_count": 88,
   "metadata": {},
   "outputs": [
    {
     "data": {
      "image/png": "[encoded data removed]",
      "text/plain": [
       "<Figure size 640x480 with 1 Axes>"
      ]
     },
     "metadata": {},
     "output_type": "display_data"
    }
   ],
   "source": [
    "# Convert the 'date' column to datetime format\n",
    "df['date'] = pd.to_datetime(df['date'])\n",
    "\n",
    "# plot a seaborn lineplot of the imbalance and date\n",
    "sns.lineplot(data=df, x=\"date\", y=\"imbalance\")\n",
    "# Show only hour and minute on the x axis\n",
    "# plt.gca().xaxis.set_major_formatter(mdates.DateFormatter('%H:%M'))\n",
    "# Show the ticks on x axis every 30 minutes\n",
    "plt.gca().xaxis.set_major_locator(mdates.MinuteLocator(interval=20))\n",
    "# Add a line for the zero imbalance\n",
    "plt.axhline(y=0, color='r', linestyle='-')\n",
    "# Display the date on x axis but ticks should be 90 degrees rotated\n",
    "plt.xticks(rotation=90)\n",
    "# Add a title\n",
    "plt.title(\"Electrical imbalance in the Czech Republic\")\n",
    "\n",
    "# Show the plot\n",
    "plt.show() "
   ]
  },
  {
   "attachments": {},
   "cell_type": "markdown",
   "metadata": {},
   "source": [
    "## Click \"Run all\" to retrieve the graph with the most recent Imbalance values"
   ]
  }
 ],
 "metadata": {
  "kernelspec": {
   "display_name": "Python 3",
   "language": "python",
   "name": "python3"
  },
  "language_info": {
   "codemirror_mode": {
    "name": "ipython",
    "version": 3
   },
   "file_extension": ".py",
   "mimetype": "text/x-python",
   "name": "python",
   "nbconvert_exporter": "python",
   "pygments_lexer": "ipython3",
   "version": "3.10.4"
  },
  "orig_nbformat": 4
 },
 "nbformat": 4,
 "nbformat_minor": 2
}
