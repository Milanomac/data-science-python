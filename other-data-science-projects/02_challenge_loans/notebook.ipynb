{
 "cells": [
  {
   "cell_type": "markdown",
   "metadata": {},
   "source": [
    "# Data Science Coding Test "
   ]
  },
  {
   "cell_type": "markdown",
   "metadata": {},
   "source": [
    "The test is designed to be completed in 4 hours, which is also the deadline. There are two problems to be completed, each with multiple parts. The main evaluation criteria are accuracy and completeness: please try to do as many tasks as possible within the allocated time. \n",
    "\n",
    "You can use either __R__ or __Python__ and you MUST deliver all the codes, accompanied by estimation results and graphs/tables required in this test in the format of your choice. You can leverage any packages that you find useful for the accomplishment of the test."
   ]
  },
  {
   "cell_type": "markdown",
   "metadata": {},
   "source": [
    "## Problem 1"
   ]
  },
  {
   "cell_type": "markdown",
   "metadata": {},
   "source": [
    "Use file __“mortgages.csv”__ and __“macros.csv”__ for this exercise. The brief description of the variables are given in the table below. The two datasets have a panel and time-series structure, respectively."
   ]
  },
  {
   "cell_type": "markdown",
   "metadata": {},
   "source": [
    "__mortgages.csv__\n",
    "\n",
    "Column | Type | Description\n",
    ":---|:---|:---\n",
    "`loan_id` | Numeric | The unique ID assigned to every loan application.\n",
    "`time` | Numeric| Observation month in elapsed time format (# of months since 1960-Jan)\n",
    "`obs_month` | Numeric | Observation month in YYYYMM format\n",
    "`orig_date` | Date | Loan origination date\n",
    "`orig_date_elapsed` | Numeric | Loan origination date in elapsed time format (# of months since 1960-Jan)\n",
    "`maturity_date` | Date | Loan maturity date\n",
    "`occupancy` | Categorical | Occupancy type of the collateral\n",
    "`mortgage_type` | Categorical | Mortgage type\n",
    "`arrears` | Numeric | Number of months a loan is in arrears\n",
    "`current_balance` | Numeric | Current outstanding balance of the loan\n",
    "`current_ltv` | Numeric | Current loan-to-value ratio\n",
    "`credit_score` | Numeric | Origination credit score of the borrower\n",
    "`original_ltv` | Numeric | Origination loan-to-value ratio (LTV)\n",
    "`hpi_o` | Numeric | House price index at loan origination date\n",
    "`interest_rate_o` | Numeric | Mortgage rate at loan origination date\n",
    "\n",
    "__macros.csv__\n",
    "\n",
    "Column | Type | Description\n",
    ":---|:---|:---\n",
    "`hpi_t` | Numeric | House price index at current date\n",
    "`interest_rate_t` | Numeric | Mortgage rate at current date\n",
    "`gdp_t` | Numeric | GDP annual growth rate at current date"
   ]
  },
  {
   "cell_type": "markdown",
   "metadata": {},
   "source": [
    "1. __How many observations and how many loans (*loan_id*) are there in the dataset? What is the time coverage (start and end dates) in terms of observation month, origination date and the maturity date?__"
   ]
  },
  {
   "cell_type": "code",
   "execution_count": 1,
   "metadata": {},
   "outputs": [],
   "source": [
    "import pandas as pd\n",
    "import numpy as np"
   ]
  },
  {
   "cell_type": "code",
   "execution_count": 2,
   "metadata": {},
   "outputs": [],
   "source": [
    "df=pd.read_csv('mortgages.csv')\n",
    "num_obs = df.shape[0]"
   ]
  },
  {
   "cell_type": "code",
   "execution_count": 3,
   "metadata": {},
   "outputs": [
    {
     "name": "stdout",
     "output_type": "stream",
     "text": [
      "The number of all the observations is: 61583\n"
     ]
    }
   ],
   "source": [
    "print(f'The number of all the observations is: {num_obs}')"
   ]
  },
  {
   "cell_type": "code",
   "execution_count": 4,
   "metadata": {},
   "outputs": [
    {
     "name": "stdout",
     "output_type": "stream",
     "text": [
      "The number of unique loan ids in the dataset is: 5000\n"
     ]
    }
   ],
   "source": [
    "loan_ids = df['loan_id'].unique()\n",
    "loan_ids_count = loan_ids.shape[0]\n",
    "print(f'The number of unique loan ids in the dataset is: {loan_ids_count}')"
   ]
  },
  {
   "cell_type": "code",
   "execution_count": 5,
   "metadata": {},
   "outputs": [
    {
     "name": "stdout",
     "output_type": "stream",
     "text": [
      "Start date for origination date is: 201011, where format is YYYYMM\n",
      "End date for origination date is: 201902, where format is YYYYMM\n",
      "\n",
      "Start date for observation month is: 201404, where format is YYYYMM\n",
      "End date for observation month is: 201903, where format is YYYYMM\n",
      "\n",
      "Start date for maturity rate is: 201404, where format is YYYYMM\n",
      "End date for maturity rate is: 201903, where format is YYYYMM\n"
     ]
    }
   ],
   "source": [
    "start_obs = df['orig_date']\n",
    "max_val = start_obs.max()\n",
    "min_val = start_obs.min()\n",
    "print(f'Start date for origination date is: {min_val}, where format is YYYYMM')\n",
    "print(f'End date for origination date is: {max_val}, where format is YYYYMM')\n",
    "print('')\n",
    "start_obs1 = df['obs_month']\n",
    "\n",
    "\n",
    "max_val1 = start_obs1.max()\n",
    "min_val1 = start_obs1.min()\n",
    "print(f'Start date for observation month is: {min_val1}, where format is YYYYMM')\n",
    "print(f'End date for observation month is: {max_val1}, where format is YYYYMM')\n",
    "print('')\n",
    "start_obs2 = df['obs_month']\n",
    "max_val2 = start_obs2.max()\n",
    "min_val2 = start_obs2.min()\n",
    "print(f'Start date for maturity rate is: {min_val2}, where format is YYYYMM')\n",
    "print(f'End date for maturity rate is: {max_val2}, where format is YYYYMM')"
   ]
  },
  {
   "cell_type": "markdown",
   "metadata": {},
   "source": [
    "2. __Create a table reporting the number of loans and percentage of loans per month. Create a distribution plot (bar plot) showing the number of loans at each observation date in the dataset.__"
   ]
  },
  {
   "cell_type": "code",
   "execution_count": 6,
   "metadata": {},
   "outputs": [
    {
     "data": {
      "text/html": [
       "<div>\n",
       "<style scoped>\n",
       "    .dataframe tbody tr th:only-of-type {\n",
       "        vertical-align: middle;\n",
       "    }\n",
       "\n",
       "    .dataframe tbody tr th {\n",
       "        vertical-align: top;\n",
       "    }\n",
       "\n",
       "    .dataframe thead th {\n",
       "        text-align: right;\n",
       "    }\n",
       "</style>\n",
       "<table border=\"1\" class=\"dataframe\">\n",
       "  <thead>\n",
       "    <tr style=\"text-align: right;\">\n",
       "      <th></th>\n",
       "      <th>loan_id</th>\n",
       "      <th>time</th>\n",
       "      <th>orig_date</th>\n",
       "      <th>orig_date_elapsed</th>\n",
       "      <th>maturity_date</th>\n",
       "      <th>occupancy</th>\n",
       "      <th>mortgage_type</th>\n",
       "      <th>arrears</th>\n",
       "      <th>current_balance</th>\n",
       "      <th>current_ltv</th>\n",
       "      <th>credit_score</th>\n",
       "      <th>original_ltv</th>\n",
       "      <th>hpi_o</th>\n",
       "      <th>interest_rate_o</th>\n",
       "      <th>month</th>\n",
       "    </tr>\n",
       "    <tr>\n",
       "      <th>obs_month</th>\n",
       "      <th></th>\n",
       "      <th></th>\n",
       "      <th></th>\n",
       "      <th></th>\n",
       "      <th></th>\n",
       "      <th></th>\n",
       "      <th></th>\n",
       "      <th></th>\n",
       "      <th></th>\n",
       "      <th></th>\n",
       "      <th></th>\n",
       "      <th></th>\n",
       "      <th></th>\n",
       "      <th></th>\n",
       "      <th></th>\n",
       "    </tr>\n",
       "  </thead>\n",
       "  <tbody>\n",
       "    <tr>\n",
       "      <th>2016-04-01</th>\n",
       "      <td>1</td>\n",
       "      <td>675</td>\n",
       "      <td>201308</td>\n",
       "      <td>643</td>\n",
       "      <td>202308</td>\n",
       "      <td>holiday home</td>\n",
       "      <td>NaN</td>\n",
       "      <td>0</td>\n",
       "      <td>41303.42</td>\n",
       "      <td>24.498336</td>\n",
       "      <td>715.0</td>\n",
       "      <td>69.4</td>\n",
       "      <td>87.03</td>\n",
       "      <td>9.20</td>\n",
       "      <td>4</td>\n",
       "    </tr>\n",
       "    <tr>\n",
       "      <th>2016-05-01</th>\n",
       "      <td>1</td>\n",
       "      <td>676</td>\n",
       "      <td>201308</td>\n",
       "      <td>643</td>\n",
       "      <td>202308</td>\n",
       "      <td>holiday home</td>\n",
       "      <td>bullet</td>\n",
       "      <td>0</td>\n",
       "      <td>41061.95</td>\n",
       "      <td>24.483867</td>\n",
       "      <td>715.0</td>\n",
       "      <td>69.4</td>\n",
       "      <td>87.03</td>\n",
       "      <td>9.20</td>\n",
       "      <td>5</td>\n",
       "    </tr>\n",
       "    <tr>\n",
       "      <th>2016-06-01</th>\n",
       "      <td>1</td>\n",
       "      <td>677</td>\n",
       "      <td>201308</td>\n",
       "      <td>643</td>\n",
       "      <td>202308</td>\n",
       "      <td>btl</td>\n",
       "      <td>erm</td>\n",
       "      <td>0</td>\n",
       "      <td>40804.42</td>\n",
       "      <td>24.626795</td>\n",
       "      <td>715.0</td>\n",
       "      <td>69.4</td>\n",
       "      <td>87.03</td>\n",
       "      <td>9.20</td>\n",
       "      <td>6</td>\n",
       "    </tr>\n",
       "    <tr>\n",
       "      <th>2016-07-01</th>\n",
       "      <td>1</td>\n",
       "      <td>678</td>\n",
       "      <td>201308</td>\n",
       "      <td>643</td>\n",
       "      <td>202308</td>\n",
       "      <td>btl</td>\n",
       "      <td>erm</td>\n",
       "      <td>0</td>\n",
       "      <td>40483.89</td>\n",
       "      <td>24.735883</td>\n",
       "      <td>715.0</td>\n",
       "      <td>69.4</td>\n",
       "      <td>87.03</td>\n",
       "      <td>9.20</td>\n",
       "      <td>7</td>\n",
       "    </tr>\n",
       "    <tr>\n",
       "      <th>2016-08-01</th>\n",
       "      <td>1</td>\n",
       "      <td>679</td>\n",
       "      <td>201308</td>\n",
       "      <td>643</td>\n",
       "      <td>202308</td>\n",
       "      <td>NaN</td>\n",
       "      <td>linear</td>\n",
       "      <td>0</td>\n",
       "      <td>40367.06</td>\n",
       "      <td>24.925476</td>\n",
       "      <td>715.0</td>\n",
       "      <td>69.4</td>\n",
       "      <td>87.03</td>\n",
       "      <td>9.20</td>\n",
       "      <td>8</td>\n",
       "    </tr>\n",
       "    <tr>\n",
       "      <th>...</th>\n",
       "      <td>...</td>\n",
       "      <td>...</td>\n",
       "      <td>...</td>\n",
       "      <td>...</td>\n",
       "      <td>...</td>\n",
       "      <td>...</td>\n",
       "      <td>...</td>\n",
       "      <td>...</td>\n",
       "      <td>...</td>\n",
       "      <td>...</td>\n",
       "      <td>...</td>\n",
       "      <td>...</td>\n",
       "      <td>...</td>\n",
       "      <td>...</td>\n",
       "      <td>...</td>\n",
       "    </tr>\n",
       "    <tr>\n",
       "      <th>2018-11-01</th>\n",
       "      <td>49999</td>\n",
       "      <td>706</td>\n",
       "      <td>201508</td>\n",
       "      <td>667</td>\n",
       "      <td>202812</td>\n",
       "      <td>btl</td>\n",
       "      <td>erm</td>\n",
       "      <td>0</td>\n",
       "      <td>265013.60</td>\n",
       "      <td>45.586335</td>\n",
       "      <td>779.0</td>\n",
       "      <td>60.0</td>\n",
       "      <td>179.45</td>\n",
       "      <td>1.75</td>\n",
       "      <td>11</td>\n",
       "    </tr>\n",
       "    <tr>\n",
       "      <th>2018-12-01</th>\n",
       "      <td>49999</td>\n",
       "      <td>707</td>\n",
       "      <td>201508</td>\n",
       "      <td>667</td>\n",
       "      <td>202812</td>\n",
       "      <td>holiday home</td>\n",
       "      <td>bullet</td>\n",
       "      <td>0</td>\n",
       "      <td>263608.64</td>\n",
       "      <td>43.947018</td>\n",
       "      <td>NaN</td>\n",
       "      <td>60.0</td>\n",
       "      <td>179.45</td>\n",
       "      <td>1.75</td>\n",
       "      <td>12</td>\n",
       "    </tr>\n",
       "    <tr>\n",
       "      <th>2019-01-01</th>\n",
       "      <td>49999</td>\n",
       "      <td>708</td>\n",
       "      <td>201508</td>\n",
       "      <td>667</td>\n",
       "      <td>202812</td>\n",
       "      <td>holiday home</td>\n",
       "      <td>bullet</td>\n",
       "      <td>0</td>\n",
       "      <td>262187.35</td>\n",
       "      <td>43.438579</td>\n",
       "      <td>779.0</td>\n",
       "      <td>60.0</td>\n",
       "      <td>179.45</td>\n",
       "      <td>1.75</td>\n",
       "      <td>1</td>\n",
       "    </tr>\n",
       "    <tr>\n",
       "      <th>2019-02-01</th>\n",
       "      <td>49999</td>\n",
       "      <td>709</td>\n",
       "      <td>201508</td>\n",
       "      <td>667</td>\n",
       "      <td>202812</td>\n",
       "      <td>NaN</td>\n",
       "      <td>erm</td>\n",
       "      <td>0</td>\n",
       "      <td>260775.05</td>\n",
       "      <td>43.370366</td>\n",
       "      <td>779.0</td>\n",
       "      <td>60.0</td>\n",
       "      <td>179.45</td>\n",
       "      <td>1.75</td>\n",
       "      <td>2</td>\n",
       "    </tr>\n",
       "    <tr>\n",
       "      <th>2019-03-01</th>\n",
       "      <td>49999</td>\n",
       "      <td>710</td>\n",
       "      <td>201508</td>\n",
       "      <td>667</td>\n",
       "      <td>202812</td>\n",
       "      <td>btl</td>\n",
       "      <td>erm</td>\n",
       "      <td>0</td>\n",
       "      <td>259349.31</td>\n",
       "      <td>42.640152</td>\n",
       "      <td>779.0</td>\n",
       "      <td>60.0</td>\n",
       "      <td>179.45</td>\n",
       "      <td>1.75</td>\n",
       "      <td>3</td>\n",
       "    </tr>\n",
       "  </tbody>\n",
       "</table>\n",
       "<p>61583 rows × 15 columns</p>\n",
       "</div>"
      ],
      "text/plain": [
       "            loan_id  time  orig_date  orig_date_elapsed  maturity_date  \\\n",
       "obs_month                                                                \n",
       "2016-04-01        1   675     201308                643         202308   \n",
       "2016-05-01        1   676     201308                643         202308   \n",
       "2016-06-01        1   677     201308                643         202308   \n",
       "2016-07-01        1   678     201308                643         202308   \n",
       "2016-08-01        1   679     201308                643         202308   \n",
       "...             ...   ...        ...                ...            ...   \n",
       "2018-11-01    49999   706     201508                667         202812   \n",
       "2018-12-01    49999   707     201508                667         202812   \n",
       "2019-01-01    49999   708     201508                667         202812   \n",
       "2019-02-01    49999   709     201508                667         202812   \n",
       "2019-03-01    49999   710     201508                667         202812   \n",
       "\n",
       "               occupancy mortgage_type  arrears  current_balance  current_ltv  \\\n",
       "obs_month                                                                       \n",
       "2016-04-01  holiday home           NaN        0         41303.42    24.498336   \n",
       "2016-05-01  holiday home        bullet        0         41061.95    24.483867   \n",
       "2016-06-01           btl           erm        0         40804.42    24.626795   \n",
       "2016-07-01           btl           erm        0         40483.89    24.735883   \n",
       "2016-08-01           NaN        linear        0         40367.06    24.925476   \n",
       "...                  ...           ...      ...              ...          ...   \n",
       "2018-11-01           btl           erm        0        265013.60    45.586335   \n",
       "2018-12-01  holiday home        bullet        0        263608.64    43.947018   \n",
       "2019-01-01  holiday home        bullet        0        262187.35    43.438579   \n",
       "2019-02-01           NaN           erm        0        260775.05    43.370366   \n",
       "2019-03-01           btl           erm        0        259349.31    42.640152   \n",
       "\n",
       "            credit_score  original_ltv   hpi_o  interest_rate_o  month  \n",
       "obs_month                                                               \n",
       "2016-04-01         715.0          69.4   87.03             9.20      4  \n",
       "2016-05-01         715.0          69.4   87.03             9.20      5  \n",
       "2016-06-01         715.0          69.4   87.03             9.20      6  \n",
       "2016-07-01         715.0          69.4   87.03             9.20      7  \n",
       "2016-08-01         715.0          69.4   87.03             9.20      8  \n",
       "...                  ...           ...     ...              ...    ...  \n",
       "2018-11-01         779.0          60.0  179.45             1.75     11  \n",
       "2018-12-01           NaN          60.0  179.45             1.75     12  \n",
       "2019-01-01         779.0          60.0  179.45             1.75      1  \n",
       "2019-02-01         779.0          60.0  179.45             1.75      2  \n",
       "2019-03-01         779.0          60.0  179.45             1.75      3  \n",
       "\n",
       "[61583 rows x 15 columns]"
      ]
     },
     "execution_count": 6,
     "metadata": {},
     "output_type": "execute_result"
    }
   ],
   "source": [
    "df['obs_month'] = pd.to_datetime(df['obs_month'], format='%Y%m')\n",
    "df = df.set_index('obs_month')\n",
    "df['month'] = df.index.month\n",
    "df"
   ]
  },
  {
   "cell_type": "code",
   "execution_count": 7,
   "metadata": {},
   "outputs": [
    {
     "data": {
      "text/html": [
       "<div>\n",
       "<style scoped>\n",
       "    .dataframe tbody tr th:only-of-type {\n",
       "        vertical-align: middle;\n",
       "    }\n",
       "\n",
       "    .dataframe tbody tr th {\n",
       "        vertical-align: top;\n",
       "    }\n",
       "\n",
       "    .dataframe thead th {\n",
       "        text-align: right;\n",
       "    }\n",
       "</style>\n",
       "<table border=\"1\" class=\"dataframe\">\n",
       "  <thead>\n",
       "    <tr style=\"text-align: right;\">\n",
       "      <th></th>\n",
       "      <th>Percent</th>\n",
       "    </tr>\n",
       "    <tr>\n",
       "      <th>month</th>\n",
       "      <th></th>\n",
       "    </tr>\n",
       "  </thead>\n",
       "  <tbody>\n",
       "    <tr>\n",
       "      <th>1</th>\n",
       "      <td>8.533199</td>\n",
       "    </tr>\n",
       "    <tr>\n",
       "      <th>2</th>\n",
       "      <td>8.495851</td>\n",
       "    </tr>\n",
       "    <tr>\n",
       "      <th>3</th>\n",
       "      <td>8.614390</td>\n",
       "    </tr>\n",
       "    <tr>\n",
       "      <th>4</th>\n",
       "      <td>7.675820</td>\n",
       "    </tr>\n",
       "    <tr>\n",
       "      <th>5</th>\n",
       "      <td>7.532923</td>\n",
       "    </tr>\n",
       "    <tr>\n",
       "      <th>6</th>\n",
       "      <td>7.685563</td>\n",
       "    </tr>\n",
       "    <tr>\n",
       "      <th>7</th>\n",
       "      <td>8.177581</td>\n",
       "    </tr>\n",
       "    <tr>\n",
       "      <th>8</th>\n",
       "      <td>8.348083</td>\n",
       "    </tr>\n",
       "    <tr>\n",
       "      <th>9</th>\n",
       "      <td>8.781644</td>\n",
       "    </tr>\n",
       "    <tr>\n",
       "      <th>10</th>\n",
       "      <td>8.784892</td>\n",
       "    </tr>\n",
       "    <tr>\n",
       "      <th>11</th>\n",
       "      <td>8.754039</td>\n",
       "    </tr>\n",
       "    <tr>\n",
       "      <th>12</th>\n",
       "      <td>8.616014</td>\n",
       "    </tr>\n",
       "  </tbody>\n",
       "</table>\n",
       "</div>"
      ],
      "text/plain": [
       "        Percent\n",
       "month          \n",
       "1      8.533199\n",
       "2      8.495851\n",
       "3      8.614390\n",
       "4      7.675820\n",
       "5      7.532923\n",
       "6      7.685563\n",
       "7      8.177581\n",
       "8      8.348083\n",
       "9      8.781644\n",
       "10     8.784892\n",
       "11     8.754039\n",
       "12     8.616014"
      ]
     },
     "execution_count": 7,
     "metadata": {},
     "output_type": "execute_result"
    }
   ],
   "source": [
    "df2 = df.groupby(['month'])['month'].count()\n",
    "# df2 = df2.reset_index()\n",
    "df3 = df2 / num_obs *100\n",
    "\n",
    "df3 = pd.DataFrame(df3)\n",
    "df3 = df3.rename(columns={\"month\": \"Percent\"})\n",
    "df3\n"
   ]
  },
  {
   "cell_type": "code",
   "execution_count": 8,
   "metadata": {},
   "outputs": [
    {
     "data": {
      "image/png": "[encoded data removed]",
      "text/plain": [
       "<Figure size 720x576 with 1 Axes>"
      ]
     },
     "metadata": {},
     "output_type": "display_data"
    }
   ],
   "source": [
    "import seaborn as sns\n",
    "import matplotlib.pyplot as plt\n",
    "plt.style.use('fivethirtyeight')\n",
    "color_pal = sns.color_palette()\n",
    "\n",
    "plt.figure(figsize=(10,8))\n",
    "df2.plot(kind='barh', title='Loans per month')\n",
    "plt.show()"
   ]
  },
  {
   "cell_type": "markdown",
   "metadata": {},
   "source": [
    "3. __Create a table reporting the number and share of observations per vintage (origination year) using the variable _orig_date_. Create a distribution plot (bar plot) showing the number of loans at each vintage in the dataset__"
   ]
  },
  {
   "cell_type": "code",
   "execution_count": 9,
   "metadata": {},
   "outputs": [
    {
     "data": {
      "text/html": [
       "<div>\n",
       "<style scoped>\n",
       "    .dataframe tbody tr th:only-of-type {\n",
       "        vertical-align: middle;\n",
       "    }\n",
       "\n",
       "    .dataframe tbody tr th {\n",
       "        vertical-align: top;\n",
       "    }\n",
       "\n",
       "    .dataframe thead th {\n",
       "        text-align: right;\n",
       "    }\n",
       "</style>\n",
       "<table border=\"1\" class=\"dataframe\">\n",
       "  <thead>\n",
       "    <tr style=\"text-align: right;\">\n",
       "      <th></th>\n",
       "      <th>Number of loans</th>\n",
       "    </tr>\n",
       "    <tr>\n",
       "      <th>year</th>\n",
       "      <th></th>\n",
       "    </tr>\n",
       "  </thead>\n",
       "  <tbody>\n",
       "    <tr>\n",
       "      <th>2014</th>\n",
       "      <td>653</td>\n",
       "    </tr>\n",
       "    <tr>\n",
       "      <th>2015</th>\n",
       "      <td>4343</td>\n",
       "    </tr>\n",
       "    <tr>\n",
       "      <th>2016</th>\n",
       "      <td>25185</td>\n",
       "    </tr>\n",
       "    <tr>\n",
       "      <th>2017</th>\n",
       "      <td>17841</td>\n",
       "    </tr>\n",
       "    <tr>\n",
       "      <th>2018</th>\n",
       "      <td>11111</td>\n",
       "    </tr>\n",
       "    <tr>\n",
       "      <th>2019</th>\n",
       "      <td>2450</td>\n",
       "    </tr>\n",
       "  </tbody>\n",
       "</table>\n",
       "</div>"
      ],
      "text/plain": [
       "      Number of loans\n",
       "year                 \n",
       "2014              653\n",
       "2015             4343\n",
       "2016            25185\n",
       "2017            17841\n",
       "2018            11111\n",
       "2019             2450"
      ]
     },
     "execution_count": 9,
     "metadata": {},
     "output_type": "execute_result"
    }
   ],
   "source": [
    "df['year'] = df.index.year\n",
    "df4 = df.groupby(['year'])['year'].count()\n",
    "df4 = pd.DataFrame(df4)\n",
    "df4 = df4.rename(columns={\"year\": \"Number of loans\"})\n",
    "df4"
   ]
  },
  {
   "cell_type": "code",
   "execution_count": 10,
   "metadata": {},
   "outputs": [
    {
     "data": {
      "image/png": "[encoded data removed]",
      "text/plain": [
       "<Figure size 432x288 with 1 Axes>"
      ]
     },
     "metadata": {},
     "output_type": "display_data"
    }
   ],
   "source": [
    "x = [u'2014', u'2015', u'2016', u'2017', u'2018', u'2019']\n",
    "y = [653, 4343, 25185, 17841, 11111, 2450]\n",
    "\n",
    "fig, ax = plt.subplots()    \n",
    "width = 0.75 # the width of the bars \n",
    "ind = np.arange(len(y))  # the x locations for the groups\n",
    "ax.barh(ind, y, width, color=\"blue\")\n",
    "ax.set_yticks(ind+width/2)\n",
    "ax.set_yticklabels(x, minor=False)\n",
    "for i, v in enumerate(y):\n",
    "    ax.text(v + 3, i + .25, str(v), color='blue', fontweight='bold')\n",
    "\n",
    "plt.xlabel('Number of loans')\n",
    "plt.ylabel('vintage')      \n",
    "plt.show()"
   ]
  },
  {
   "cell_type": "markdown",
   "metadata": {},
   "source": [
    "4. __Create a new variable called “*first_obs*” that is the first observation date of each account. Create and summarize the observation lag (difference between the origination date and the first observation date) in the dataset.__"
   ]
  },
  {
   "cell_type": "code",
   "execution_count": null,
   "metadata": {},
   "outputs": [],
   "source": []
  },
  {
   "cell_type": "markdown",
   "metadata": {},
   "source": [
    "5. __Merge the macro variables (*interest_rate_t, hpi_t, gdp_t*) provided in the macro.csv file with the mortgages.csv file, using the variable *obs_month*.__"
   ]
  },
  {
   "cell_type": "code",
   "execution_count": 11,
   "metadata": {},
   "outputs": [
    {
     "data": {
      "text/plain": [
       "(61583, 20)"
      ]
     },
     "execution_count": 11,
     "metadata": {},
     "output_type": "execute_result"
    }
   ],
   "source": [
    "macro = pd.read_csv('macros.csv')\n",
    "# matching the format\n",
    "macro['date'] = pd.to_datetime(macro['date'], format='%Y%m')\n",
    "# Using inner join\n",
    "merged_df = pd.merge(left=df, right=macro, left_on='obs_month', right_on='date')\n",
    "merged_df.shape\n"
   ]
  },
  {
   "cell_type": "markdown",
   "metadata": {},
   "source": [
    "6. __In credit risk vocabulary, a loan that is late on repayments is said to be in arrears, measured in months of non-payment. Using the dataset created in step 5, create an indicator variable (*default_flag*) taking the value of 1 when a loan becomes 3 or more months in arrears, and zero otherwise. The variable “arrears” indicates the number of months in arrears.__"
   ]
  },
  {
   "cell_type": "code",
   "execution_count": 12,
   "metadata": {},
   "outputs": [
    {
     "data": {
      "text/html": [
       "<div>\n",
       "<style scoped>\n",
       "    .dataframe tbody tr th:only-of-type {\n",
       "        vertical-align: middle;\n",
       "    }\n",
       "\n",
       "    .dataframe tbody tr th {\n",
       "        vertical-align: top;\n",
       "    }\n",
       "\n",
       "    .dataframe thead th {\n",
       "        text-align: right;\n",
       "    }\n",
       "</style>\n",
       "<table border=\"1\" class=\"dataframe\">\n",
       "  <thead>\n",
       "    <tr style=\"text-align: right;\">\n",
       "      <th></th>\n",
       "      <th>loan_id</th>\n",
       "      <th>time</th>\n",
       "      <th>orig_date</th>\n",
       "      <th>orig_date_elapsed</th>\n",
       "      <th>maturity_date</th>\n",
       "      <th>occupancy</th>\n",
       "      <th>mortgage_type</th>\n",
       "      <th>arrears</th>\n",
       "      <th>current_balance</th>\n",
       "      <th>current_ltv</th>\n",
       "      <th>...</th>\n",
       "      <th>original_ltv</th>\n",
       "      <th>hpi_o</th>\n",
       "      <th>interest_rate_o</th>\n",
       "      <th>month</th>\n",
       "      <th>year</th>\n",
       "      <th>date</th>\n",
       "      <th>interest_rate_t</th>\n",
       "      <th>hpi_t</th>\n",
       "      <th>gdp_t</th>\n",
       "      <th>default_flag</th>\n",
       "    </tr>\n",
       "  </thead>\n",
       "  <tbody>\n",
       "    <tr>\n",
       "      <th>0</th>\n",
       "      <td>1</td>\n",
       "      <td>675</td>\n",
       "      <td>201308</td>\n",
       "      <td>643</td>\n",
       "      <td>202308</td>\n",
       "      <td>holiday home</td>\n",
       "      <td>NaN</td>\n",
       "      <td>0</td>\n",
       "      <td>41303.42</td>\n",
       "      <td>24.498336</td>\n",
       "      <td>...</td>\n",
       "      <td>69.4</td>\n",
       "      <td>87.03</td>\n",
       "      <td>9.200</td>\n",
       "      <td>4</td>\n",
       "      <td>2016</td>\n",
       "      <td>2016-04-01</td>\n",
       "      <td>9.2</td>\n",
       "      <td>226.29</td>\n",
       "      <td>2.899137</td>\n",
       "      <td>0</td>\n",
       "    </tr>\n",
       "    <tr>\n",
       "      <th>1</th>\n",
       "      <td>15</td>\n",
       "      <td>675</td>\n",
       "      <td>201509</td>\n",
       "      <td>668</td>\n",
       "      <td>202509</td>\n",
       "      <td>btl</td>\n",
       "      <td>erm</td>\n",
       "      <td>0</td>\n",
       "      <td>153051.03</td>\n",
       "      <td>77.556076</td>\n",
       "      <td>...</td>\n",
       "      <td>95.0</td>\n",
       "      <td>186.91</td>\n",
       "      <td>8.180</td>\n",
       "      <td>4</td>\n",
       "      <td>2016</td>\n",
       "      <td>2016-04-01</td>\n",
       "      <td>9.2</td>\n",
       "      <td>226.29</td>\n",
       "      <td>2.899137</td>\n",
       "      <td>0</td>\n",
       "    </tr>\n",
       "    <tr>\n",
       "      <th>2</th>\n",
       "      <td>28</td>\n",
       "      <td>675</td>\n",
       "      <td>201509</td>\n",
       "      <td>668</td>\n",
       "      <td>202510</td>\n",
       "      <td>btl</td>\n",
       "      <td>erm</td>\n",
       "      <td>0</td>\n",
       "      <td>109660.66</td>\n",
       "      <td>69.674631</td>\n",
       "      <td>...</td>\n",
       "      <td>85.0</td>\n",
       "      <td>186.91</td>\n",
       "      <td>9.280</td>\n",
       "      <td>4</td>\n",
       "      <td>2016</td>\n",
       "      <td>2016-04-01</td>\n",
       "      <td>9.2</td>\n",
       "      <td>226.29</td>\n",
       "      <td>2.899137</td>\n",
       "      <td>0</td>\n",
       "    </tr>\n",
       "    <tr>\n",
       "      <th>3</th>\n",
       "      <td>32</td>\n",
       "      <td>675</td>\n",
       "      <td>201510</td>\n",
       "      <td>669</td>\n",
       "      <td>202510</td>\n",
       "      <td>owner occupied</td>\n",
       "      <td>linear</td>\n",
       "      <td>2</td>\n",
       "      <td>238081.62</td>\n",
       "      <td>NaN</td>\n",
       "      <td>...</td>\n",
       "      <td>80.0</td>\n",
       "      <td>191.42</td>\n",
       "      <td>6.710</td>\n",
       "      <td>4</td>\n",
       "      <td>2016</td>\n",
       "      <td>2016-04-01</td>\n",
       "      <td>9.2</td>\n",
       "      <td>226.29</td>\n",
       "      <td>2.899137</td>\n",
       "      <td>0</td>\n",
       "    </tr>\n",
       "    <tr>\n",
       "      <th>4</th>\n",
       "      <td>33</td>\n",
       "      <td>675</td>\n",
       "      <td>201510</td>\n",
       "      <td>669</td>\n",
       "      <td>202510</td>\n",
       "      <td>owner occupied</td>\n",
       "      <td>linear</td>\n",
       "      <td>1</td>\n",
       "      <td>103300.75</td>\n",
       "      <td>62.416209</td>\n",
       "      <td>...</td>\n",
       "      <td>75.0</td>\n",
       "      <td>191.42</td>\n",
       "      <td>5.755</td>\n",
       "      <td>4</td>\n",
       "      <td>2016</td>\n",
       "      <td>2016-04-01</td>\n",
       "      <td>9.2</td>\n",
       "      <td>226.29</td>\n",
       "      <td>2.899137</td>\n",
       "      <td>0</td>\n",
       "    </tr>\n",
       "  </tbody>\n",
       "</table>\n",
       "<p>5 rows × 21 columns</p>\n",
       "</div>"
      ],
      "text/plain": [
       "   loan_id  time  orig_date  orig_date_elapsed  maturity_date       occupancy  \\\n",
       "0        1   675     201308                643         202308    holiday home   \n",
       "1       15   675     201509                668         202509             btl   \n",
       "2       28   675     201509                668         202510             btl   \n",
       "3       32   675     201510                669         202510  owner occupied   \n",
       "4       33   675     201510                669         202510  owner occupied   \n",
       "\n",
       "  mortgage_type  arrears  current_balance  current_ltv  ...  original_ltv  \\\n",
       "0           NaN        0         41303.42    24.498336  ...          69.4   \n",
       "1           erm        0        153051.03    77.556076  ...          95.0   \n",
       "2           erm        0        109660.66    69.674631  ...          85.0   \n",
       "3        linear        2        238081.62          NaN  ...          80.0   \n",
       "4        linear        1        103300.75    62.416209  ...          75.0   \n",
       "\n",
       "    hpi_o  interest_rate_o  month  year       date interest_rate_t   hpi_t  \\\n",
       "0   87.03            9.200      4  2016 2016-04-01             9.2  226.29   \n",
       "1  186.91            8.180      4  2016 2016-04-01             9.2  226.29   \n",
       "2  186.91            9.280      4  2016 2016-04-01             9.2  226.29   \n",
       "3  191.42            6.710      4  2016 2016-04-01             9.2  226.29   \n",
       "4  191.42            5.755      4  2016 2016-04-01             9.2  226.29   \n",
       "\n",
       "      gdp_t  default_flag  \n",
       "0  2.899137             0  \n",
       "1  2.899137             0  \n",
       "2  2.899137             0  \n",
       "3  2.899137             0  \n",
       "4  2.899137             0  \n",
       "\n",
       "[5 rows x 21 columns]"
      ]
     },
     "execution_count": 12,
     "metadata": {},
     "output_type": "execute_result"
    }
   ],
   "source": [
    "# merged_df.head()\n",
    "\n",
    "# Create an default_flag column using 1s and 0s (1 if becomes 3 or more)\n",
    "merged_df['default_flag'] = np.where(merged_df['arrears'] >= 3, 1, 0)\n",
    "merged_df.head()"
   ]
  },
  {
   "cell_type": "markdown",
   "metadata": {},
   "source": [
    "7. __Create a single table reporting the summary statistics (mean, median, std, min and max) of the *default flag, current balance, current LTV, borrower credit score, original LTV, house price index at origination and the current house price index*, where each row of the table reports the statistics for one variable. Add a column to the table, reporting the number of missing observations for each variable__"
   ]
  },
  {
   "cell_type": "code",
   "execution_count": 13,
   "metadata": {},
   "outputs": [
    {
     "data": {
      "text/html": [
       "<div>\n",
       "<style scoped>\n",
       "    .dataframe tbody tr th:only-of-type {\n",
       "        vertical-align: middle;\n",
       "    }\n",
       "\n",
       "    .dataframe tbody tr th {\n",
       "        vertical-align: top;\n",
       "    }\n",
       "\n",
       "    .dataframe thead th {\n",
       "        text-align: right;\n",
       "    }\n",
       "</style>\n",
       "<table border=\"1\" class=\"dataframe\">\n",
       "  <thead>\n",
       "    <tr style=\"text-align: right;\">\n",
       "      <th></th>\n",
       "      <th>count</th>\n",
       "      <th>mean</th>\n",
       "      <th>std</th>\n",
       "      <th>min</th>\n",
       "      <th>25%</th>\n",
       "      <th>50%</th>\n",
       "      <th>75%</th>\n",
       "      <th>max</th>\n",
       "    </tr>\n",
       "  </thead>\n",
       "  <tbody>\n",
       "    <tr>\n",
       "      <th>default_flag</th>\n",
       "      <td>61583.0</td>\n",
       "      <td>0.025413</td>\n",
       "      <td>0.157377</td>\n",
       "      <td>0.00</td>\n",
       "      <td>0.000000</td>\n",
       "      <td>0.000000</td>\n",
       "      <td>0.0000</td>\n",
       "      <td>1.000000e+00</td>\n",
       "    </tr>\n",
       "    <tr>\n",
       "      <th>current_balance</th>\n",
       "      <td>61583.0</td>\n",
       "      <td>246831.006319</td>\n",
       "      <td>205304.031841</td>\n",
       "      <td>0.00</td>\n",
       "      <td>103111.930000</td>\n",
       "      <td>183479.950000</td>\n",
       "      <td>343463.4700</td>\n",
       "      <td>3.106990e+06</td>\n",
       "    </tr>\n",
       "    <tr>\n",
       "      <th>current_ltv</th>\n",
       "      <td>59726.0</td>\n",
       "      <td>83.382373</td>\n",
       "      <td>28.213847</td>\n",
       "      <td>0.00</td>\n",
       "      <td>67.303584</td>\n",
       "      <td>82.213709</td>\n",
       "      <td>100.9045</td>\n",
       "      <td>8.035135e+02</td>\n",
       "    </tr>\n",
       "    <tr>\n",
       "      <th>credit_score</th>\n",
       "      <td>57773.0</td>\n",
       "      <td>673.111332</td>\n",
       "      <td>71.455942</td>\n",
       "      <td>428.00</td>\n",
       "      <td>626.000000</td>\n",
       "      <td>679.000000</td>\n",
       "      <td>727.0000</td>\n",
       "      <td>8.250000e+02</td>\n",
       "    </tr>\n",
       "    <tr>\n",
       "      <th>original_ltv</th>\n",
       "      <td>61583.0</td>\n",
       "      <td>78.956608</td>\n",
       "      <td>10.045188</td>\n",
       "      <td>50.10</td>\n",
       "      <td>75.000000</td>\n",
       "      <td>80.000000</td>\n",
       "      <td>80.0000</td>\n",
       "      <td>1.502000e+02</td>\n",
       "    </tr>\n",
       "    <tr>\n",
       "      <th>hpi_o</th>\n",
       "      <td>61583.0</td>\n",
       "      <td>197.962771</td>\n",
       "      <td>34.427484</td>\n",
       "      <td>76.47</td>\n",
       "      <td>180.070000</td>\n",
       "      <td>216.770000</td>\n",
       "      <td>222.3900</td>\n",
       "      <td>2.262900e+02</td>\n",
       "    </tr>\n",
       "    <tr>\n",
       "      <th>hpi_t</th>\n",
       "      <td>61583.0</td>\n",
       "      <td>184.386381</td>\n",
       "      <td>27.709500</td>\n",
       "      <td>107.83</td>\n",
       "      <td>158.600000</td>\n",
       "      <td>180.520000</td>\n",
       "      <td>212.7300</td>\n",
       "      <td>2.262900e+02</td>\n",
       "    </tr>\n",
       "  </tbody>\n",
       "</table>\n",
       "</div>"
      ],
      "text/plain": [
       "                   count           mean            std     min            25%  \\\n",
       "default_flag     61583.0       0.025413       0.157377    0.00       0.000000   \n",
       "current_balance  61583.0  246831.006319  205304.031841    0.00  103111.930000   \n",
       "current_ltv      59726.0      83.382373      28.213847    0.00      67.303584   \n",
       "credit_score     57773.0     673.111332      71.455942  428.00     626.000000   \n",
       "original_ltv     61583.0      78.956608      10.045188   50.10      75.000000   \n",
       "hpi_o            61583.0     197.962771      34.427484   76.47     180.070000   \n",
       "hpi_t            61583.0     184.386381      27.709500  107.83     158.600000   \n",
       "\n",
       "                           50%          75%           max  \n",
       "default_flag          0.000000       0.0000  1.000000e+00  \n",
       "current_balance  183479.950000  343463.4700  3.106990e+06  \n",
       "current_ltv          82.213709     100.9045  8.035135e+02  \n",
       "credit_score        679.000000     727.0000  8.250000e+02  \n",
       "original_ltv         80.000000      80.0000  1.502000e+02  \n",
       "hpi_o               216.770000     222.3900  2.262900e+02  \n",
       "hpi_t               180.520000     212.7300  2.262900e+02  "
      ]
     },
     "execution_count": 13,
     "metadata": {},
     "output_type": "execute_result"
    }
   ],
   "source": [
    "summ = merged_df[['default_flag','current_balance','current_ltv','credit_score','original_ltv','hpi_o','hpi_t']]\n",
    "summary_df = summ.describe().T\n",
    "# summary_df = summ.describe()\n",
    "summary_df"
   ]
  },
  {
   "cell_type": "markdown",
   "metadata": {},
   "source": [
    "Add a column to the table, reporting the number of missing observations for each variable"
   ]
  },
  {
   "cell_type": "code",
   "execution_count": 14,
   "metadata": {},
   "outputs": [
    {
     "data": {
      "text/html": [
       "<div>\n",
       "<style scoped>\n",
       "    .dataframe tbody tr th:only-of-type {\n",
       "        vertical-align: middle;\n",
       "    }\n",
       "\n",
       "    .dataframe tbody tr th {\n",
       "        vertical-align: top;\n",
       "    }\n",
       "\n",
       "    .dataframe thead th {\n",
       "        text-align: right;\n",
       "    }\n",
       "</style>\n",
       "<table border=\"1\" class=\"dataframe\">\n",
       "  <thead>\n",
       "    <tr style=\"text-align: right;\">\n",
       "      <th></th>\n",
       "      <th>count</th>\n",
       "      <th>mean</th>\n",
       "      <th>std</th>\n",
       "      <th>min</th>\n",
       "      <th>max</th>\n",
       "      <th>NaNs</th>\n",
       "    </tr>\n",
       "  </thead>\n",
       "  <tbody>\n",
       "    <tr>\n",
       "      <th>default_flag</th>\n",
       "      <td>61583.0</td>\n",
       "      <td>0.03</td>\n",
       "      <td>0.16</td>\n",
       "      <td>0.00</td>\n",
       "      <td>1.00</td>\n",
       "      <td>0</td>\n",
       "    </tr>\n",
       "    <tr>\n",
       "      <th>current_balance</th>\n",
       "      <td>61583.0</td>\n",
       "      <td>246831.01</td>\n",
       "      <td>205304.03</td>\n",
       "      <td>0.00</td>\n",
       "      <td>3106990.05</td>\n",
       "      <td>0</td>\n",
       "    </tr>\n",
       "    <tr>\n",
       "      <th>current_ltv</th>\n",
       "      <td>59726.0</td>\n",
       "      <td>83.38</td>\n",
       "      <td>28.21</td>\n",
       "      <td>0.00</td>\n",
       "      <td>803.51</td>\n",
       "      <td>1857</td>\n",
       "    </tr>\n",
       "    <tr>\n",
       "      <th>credit_score</th>\n",
       "      <td>57773.0</td>\n",
       "      <td>673.11</td>\n",
       "      <td>71.46</td>\n",
       "      <td>428.00</td>\n",
       "      <td>825.00</td>\n",
       "      <td>3810</td>\n",
       "    </tr>\n",
       "    <tr>\n",
       "      <th>original_ltv</th>\n",
       "      <td>61583.0</td>\n",
       "      <td>78.96</td>\n",
       "      <td>10.05</td>\n",
       "      <td>50.10</td>\n",
       "      <td>150.20</td>\n",
       "      <td>0</td>\n",
       "    </tr>\n",
       "    <tr>\n",
       "      <th>hpi_o</th>\n",
       "      <td>61583.0</td>\n",
       "      <td>197.96</td>\n",
       "      <td>34.43</td>\n",
       "      <td>76.47</td>\n",
       "      <td>226.29</td>\n",
       "      <td>0</td>\n",
       "    </tr>\n",
       "    <tr>\n",
       "      <th>hpi_t</th>\n",
       "      <td>61583.0</td>\n",
       "      <td>184.39</td>\n",
       "      <td>27.71</td>\n",
       "      <td>107.83</td>\n",
       "      <td>226.29</td>\n",
       "      <td>0</td>\n",
       "    </tr>\n",
       "  </tbody>\n",
       "</table>\n",
       "</div>"
      ],
      "text/plain": [
       "                   count       mean        std     min         max  NaNs\n",
       "default_flag     61583.0       0.03       0.16    0.00        1.00     0\n",
       "current_balance  61583.0  246831.01  205304.03    0.00  3106990.05     0\n",
       "current_ltv      59726.0      83.38      28.21    0.00      803.51  1857\n",
       "credit_score     57773.0     673.11      71.46  428.00      825.00  3810\n",
       "original_ltv     61583.0      78.96      10.05   50.10      150.20     0\n",
       "hpi_o            61583.0     197.96      34.43   76.47      226.29     0\n",
       "hpi_t            61583.0     184.39      27.71  107.83      226.29     0"
      ]
     },
     "execution_count": 14,
     "metadata": {},
     "output_type": "execute_result"
    }
   ],
   "source": [
    "summary_df['NaNs'] = summ.isna().sum()\n",
    "summary_df = summary_df.round(decimals = 2)\n",
    "summary_df = summary_df.drop(['25%'], axis=1)\n",
    "summary_df = summary_df.drop(['50%'], axis=1)\n",
    "summary_df = summary_df.drop(['75%'], axis=1)\n",
    "summary_df"
   ]
  },
  {
   "cell_type": "markdown",
   "metadata": {},
   "source": [
    "8. __Tabulate the variables: *arrears, mortgage_type and occupancy* to show the number and the percentage of observations in each category of these variables__"
   ]
  },
  {
   "cell_type": "code",
   "execution_count": 15,
   "metadata": {},
   "outputs": [],
   "source": [
    "df_tab1 = df.groupby(['arrears'])['arrears'].count()\n",
    "df_tab2 = df.groupby(['mortgage_type'])['mortgage_type'].count()\n",
    "df_tab3 = df.groupby(['occupancy'])['occupancy'].count()"
   ]
  },
  {
   "cell_type": "code",
   "execution_count": 16,
   "metadata": {},
   "outputs": [
    {
     "data": {
      "text/html": [
       "<div>\n",
       "<style scoped>\n",
       "    .dataframe tbody tr th:only-of-type {\n",
       "        vertical-align: middle;\n",
       "    }\n",
       "\n",
       "    .dataframe tbody tr th {\n",
       "        vertical-align: top;\n",
       "    }\n",
       "\n",
       "    .dataframe thead th {\n",
       "        text-align: right;\n",
       "    }\n",
       "</style>\n",
       "<table border=\"1\" class=\"dataframe\">\n",
       "  <thead>\n",
       "    <tr style=\"text-align: right;\">\n",
       "      <th></th>\n",
       "      <th>Count</th>\n",
       "      <th>Percent</th>\n",
       "    </tr>\n",
       "    <tr>\n",
       "      <th>arrears</th>\n",
       "      <th></th>\n",
       "      <th></th>\n",
       "    </tr>\n",
       "  </thead>\n",
       "  <tbody>\n",
       "    <tr>\n",
       "      <th>0</th>\n",
       "      <td>52124</td>\n",
       "      <td>84.640242</td>\n",
       "    </tr>\n",
       "    <tr>\n",
       "      <th>1</th>\n",
       "      <td>5523</td>\n",
       "      <td>8.968384</td>\n",
       "    </tr>\n",
       "    <tr>\n",
       "      <th>2</th>\n",
       "      <td>2371</td>\n",
       "      <td>3.850088</td>\n",
       "    </tr>\n",
       "    <tr>\n",
       "      <th>3</th>\n",
       "      <td>1538</td>\n",
       "      <td>2.497442</td>\n",
       "    </tr>\n",
       "    <tr>\n",
       "      <th>4</th>\n",
       "      <td>27</td>\n",
       "      <td>0.043843</td>\n",
       "    </tr>\n",
       "    <tr>\n",
       "      <th>Total</th>\n",
       "      <td>61583</td>\n",
       "      <td>100.000000</td>\n",
       "    </tr>\n",
       "  </tbody>\n",
       "</table>\n",
       "</div>"
      ],
      "text/plain": [
       "         Count     Percent\n",
       "arrears                   \n",
       "0        52124   84.640242\n",
       "1         5523    8.968384\n",
       "2         2371    3.850088\n",
       "3         1538    2.497442\n",
       "4           27    0.043843\n",
       "Total    61583  100.000000"
      ]
     },
     "execution_count": 16,
     "metadata": {},
     "output_type": "execute_result"
    }
   ],
   "source": [
    "df_tab1 = pd.DataFrame(df_tab1)\n",
    "df_tab1 = df_tab1.rename(columns={\"arrears\": \"Count\"})\n",
    "# Sum the rows of DataFrame\n",
    "df_tab1.loc['Total']= df_tab1.sum()\n",
    "df_tab1['Percent'] = df_tab1 / 61583 *100\n",
    "df_tab1"
   ]
  },
  {
   "cell_type": "code",
   "execution_count": 17,
   "metadata": {},
   "outputs": [
    {
     "data": {
      "text/html": [
       "<div>\n",
       "<style scoped>\n",
       "    .dataframe tbody tr th:only-of-type {\n",
       "        vertical-align: middle;\n",
       "    }\n",
       "\n",
       "    .dataframe tbody tr th {\n",
       "        vertical-align: top;\n",
       "    }\n",
       "\n",
       "    .dataframe thead th {\n",
       "        text-align: right;\n",
       "    }\n",
       "</style>\n",
       "<table border=\"1\" class=\"dataframe\">\n",
       "  <thead>\n",
       "    <tr style=\"text-align: right;\">\n",
       "      <th></th>\n",
       "      <th>Count</th>\n",
       "      <th>Percent</th>\n",
       "    </tr>\n",
       "    <tr>\n",
       "      <th>mortgage_type</th>\n",
       "      <th></th>\n",
       "      <th></th>\n",
       "    </tr>\n",
       "  </thead>\n",
       "  <tbody>\n",
       "    <tr>\n",
       "      <th>bullet</th>\n",
       "      <td>19958</td>\n",
       "      <td>35.983052</td>\n",
       "    </tr>\n",
       "    <tr>\n",
       "      <th>erm</th>\n",
       "      <td>17326</td>\n",
       "      <td>31.237717</td>\n",
       "    </tr>\n",
       "    <tr>\n",
       "      <th>linear</th>\n",
       "      <td>18181</td>\n",
       "      <td>32.779230</td>\n",
       "    </tr>\n",
       "    <tr>\n",
       "      <th>Total</th>\n",
       "      <td>55465</td>\n",
       "      <td>100.000000</td>\n",
       "    </tr>\n",
       "  </tbody>\n",
       "</table>\n",
       "</div>"
      ],
      "text/plain": [
       "               Count     Percent\n",
       "mortgage_type                   \n",
       "bullet         19958   35.983052\n",
       "erm            17326   31.237717\n",
       "linear         18181   32.779230\n",
       "Total          55465  100.000000"
      ]
     },
     "execution_count": 17,
     "metadata": {},
     "output_type": "execute_result"
    }
   ],
   "source": [
    "df_tab2 = pd.DataFrame(df_tab2)\n",
    "df_tab2 = df_tab2.rename(columns={\"mortgage_type\": \"Count\"})\n",
    "# Sum the rows of DataFrame\n",
    "df_tab2.loc['Total']= df_tab2.sum()\n",
    "df_tab2['Percent'] = df_tab2 / 55465 *100\n",
    "df_tab2"
   ]
  },
  {
   "cell_type": "code",
   "execution_count": 18,
   "metadata": {},
   "outputs": [
    {
     "data": {
      "text/html": [
       "<div>\n",
       "<style scoped>\n",
       "    .dataframe tbody tr th:only-of-type {\n",
       "        vertical-align: middle;\n",
       "    }\n",
       "\n",
       "    .dataframe tbody tr th {\n",
       "        vertical-align: top;\n",
       "    }\n",
       "\n",
       "    .dataframe thead th {\n",
       "        text-align: right;\n",
       "    }\n",
       "</style>\n",
       "<table border=\"1\" class=\"dataframe\">\n",
       "  <thead>\n",
       "    <tr style=\"text-align: right;\">\n",
       "      <th></th>\n",
       "      <th>occupancy</th>\n",
       "      <th>Percent</th>\n",
       "    </tr>\n",
       "    <tr>\n",
       "      <th>occupancy</th>\n",
       "      <th></th>\n",
       "      <th></th>\n",
       "    </tr>\n",
       "  </thead>\n",
       "  <tbody>\n",
       "    <tr>\n",
       "      <th>btl</th>\n",
       "      <td>12296</td>\n",
       "      <td>23.024493</td>\n",
       "    </tr>\n",
       "    <tr>\n",
       "      <th>holiday home</th>\n",
       "      <td>27996</td>\n",
       "      <td>52.423039</td>\n",
       "    </tr>\n",
       "    <tr>\n",
       "      <th>owner occupied</th>\n",
       "      <td>13112</td>\n",
       "      <td>24.552468</td>\n",
       "    </tr>\n",
       "    <tr>\n",
       "      <th>Total</th>\n",
       "      <td>53404</td>\n",
       "      <td>100.000000</td>\n",
       "    </tr>\n",
       "  </tbody>\n",
       "</table>\n",
       "</div>"
      ],
      "text/plain": [
       "                occupancy     Percent\n",
       "occupancy                            \n",
       "btl                 12296   23.024493\n",
       "holiday home        27996   52.423039\n",
       "owner occupied      13112   24.552468\n",
       "Total               53404  100.000000"
      ]
     },
     "execution_count": 18,
     "metadata": {},
     "output_type": "execute_result"
    }
   ],
   "source": [
    "df_tab3 = pd.DataFrame(df_tab3)\n",
    "df_tab3 = df_tab3.rename(columns={\"moccupancy\": \"Count\"})\n",
    "# Sum the rows of DataFrame\n",
    "df_tab3.loc['Total']= df_tab3.sum()\n",
    "df_tab3['Percent'] = df_tab3 / 53404 *100\n",
    "df_tab3"
   ]
  },
  {
   "cell_type": "markdown",
   "metadata": {},
   "source": [
    "9. __Based on the findings in points 7 and 8, make the corresponding treatments of missing values (e.g. imputation, drop).__"
   ]
  },
  {
   "cell_type": "code",
   "execution_count": 19,
   "metadata": {},
   "outputs": [
    {
     "name": "stdout",
     "output_type": "stream",
     "text": [
      "<class 'pandas.core.frame.DataFrame'>\n",
      "Int64Index: 61583 entries, 0 to 61582\n",
      "Data columns (total 21 columns):\n",
      " #   Column             Non-Null Count  Dtype         \n",
      "---  ------             --------------  -----         \n",
      " 0   loan_id            61583 non-null  int64         \n",
      " 1   time               61583 non-null  int64         \n",
      " 2   orig_date          61583 non-null  int64         \n",
      " 3   orig_date_elapsed  61583 non-null  int64         \n",
      " 4   maturity_date      61583 non-null  int64         \n",
      " 5   occupancy          53404 non-null  object        \n",
      " 6   mortgage_type      55465 non-null  object        \n",
      " 7   arrears            61583 non-null  int64         \n",
      " 8   current_balance    61583 non-null  float64       \n",
      " 9   current_ltv        59726 non-null  float64       \n",
      " 10  credit_score       57773 non-null  float64       \n",
      " 11  original_ltv       61583 non-null  float64       \n",
      " 12  hpi_o              61583 non-null  float64       \n",
      " 13  interest_rate_o    61583 non-null  float64       \n",
      " 14  month              61583 non-null  int64         \n",
      " 15  year               61583 non-null  int64         \n",
      " 16  date               61583 non-null  datetime64[ns]\n",
      " 17  interest_rate_t    61583 non-null  float64       \n",
      " 18  hpi_t              61583 non-null  float64       \n",
      " 19  gdp_t              61583 non-null  float64       \n",
      " 20  default_flag       61583 non-null  int32         \n",
      "dtypes: datetime64[ns](1), float64(9), int32(1), int64(8), object(2)\n",
      "memory usage: 10.1+ MB\n"
     ]
    }
   ],
   "source": [
    "merged_df.info()"
   ]
  },
  {
   "cell_type": "code",
   "execution_count": 20,
   "metadata": {},
   "outputs": [
    {
     "data": {
      "text/html": [
       "<div>\n",
       "<style scoped>\n",
       "    .dataframe tbody tr th:only-of-type {\n",
       "        vertical-align: middle;\n",
       "    }\n",
       "\n",
       "    .dataframe tbody tr th {\n",
       "        vertical-align: top;\n",
       "    }\n",
       "\n",
       "    .dataframe thead th {\n",
       "        text-align: right;\n",
       "    }\n",
       "</style>\n",
       "<table border=\"1\" class=\"dataframe\">\n",
       "  <thead>\n",
       "    <tr style=\"text-align: right;\">\n",
       "      <th></th>\n",
       "      <th>loan_id</th>\n",
       "      <th>time</th>\n",
       "      <th>orig_date</th>\n",
       "      <th>orig_date_elapsed</th>\n",
       "      <th>maturity_date</th>\n",
       "      <th>occupancy</th>\n",
       "      <th>mortgage_type</th>\n",
       "      <th>arrears</th>\n",
       "      <th>current_balance</th>\n",
       "      <th>current_ltv</th>\n",
       "      <th>...</th>\n",
       "      <th>original_ltv</th>\n",
       "      <th>hpi_o</th>\n",
       "      <th>interest_rate_o</th>\n",
       "      <th>month</th>\n",
       "      <th>year</th>\n",
       "      <th>date</th>\n",
       "      <th>interest_rate_t</th>\n",
       "      <th>hpi_t</th>\n",
       "      <th>gdp_t</th>\n",
       "      <th>default_flag</th>\n",
       "    </tr>\n",
       "  </thead>\n",
       "  <tbody>\n",
       "    <tr>\n",
       "      <th>1</th>\n",
       "      <td>15</td>\n",
       "      <td>675</td>\n",
       "      <td>201509</td>\n",
       "      <td>668</td>\n",
       "      <td>202509</td>\n",
       "      <td>btl</td>\n",
       "      <td>erm</td>\n",
       "      <td>0</td>\n",
       "      <td>153051.03</td>\n",
       "      <td>77.556076</td>\n",
       "      <td>...</td>\n",
       "      <td>95.0</td>\n",
       "      <td>186.91</td>\n",
       "      <td>8.180</td>\n",
       "      <td>4</td>\n",
       "      <td>2016</td>\n",
       "      <td>2016-04-01</td>\n",
       "      <td>9.20</td>\n",
       "      <td>226.29</td>\n",
       "      <td>2.899137</td>\n",
       "      <td>0</td>\n",
       "    </tr>\n",
       "    <tr>\n",
       "      <th>2</th>\n",
       "      <td>28</td>\n",
       "      <td>675</td>\n",
       "      <td>201509</td>\n",
       "      <td>668</td>\n",
       "      <td>202510</td>\n",
       "      <td>btl</td>\n",
       "      <td>erm</td>\n",
       "      <td>0</td>\n",
       "      <td>109660.66</td>\n",
       "      <td>69.674631</td>\n",
       "      <td>...</td>\n",
       "      <td>85.0</td>\n",
       "      <td>186.91</td>\n",
       "      <td>9.280</td>\n",
       "      <td>4</td>\n",
       "      <td>2016</td>\n",
       "      <td>2016-04-01</td>\n",
       "      <td>9.20</td>\n",
       "      <td>226.29</td>\n",
       "      <td>2.899137</td>\n",
       "      <td>0</td>\n",
       "    </tr>\n",
       "    <tr>\n",
       "      <th>3</th>\n",
       "      <td>32</td>\n",
       "      <td>675</td>\n",
       "      <td>201510</td>\n",
       "      <td>669</td>\n",
       "      <td>202510</td>\n",
       "      <td>owner occupied</td>\n",
       "      <td>linear</td>\n",
       "      <td>2</td>\n",
       "      <td>238081.62</td>\n",
       "      <td>83.382373</td>\n",
       "      <td>...</td>\n",
       "      <td>80.0</td>\n",
       "      <td>191.42</td>\n",
       "      <td>6.710</td>\n",
       "      <td>4</td>\n",
       "      <td>2016</td>\n",
       "      <td>2016-04-01</td>\n",
       "      <td>9.20</td>\n",
       "      <td>226.29</td>\n",
       "      <td>2.899137</td>\n",
       "      <td>0</td>\n",
       "    </tr>\n",
       "    <tr>\n",
       "      <th>4</th>\n",
       "      <td>33</td>\n",
       "      <td>675</td>\n",
       "      <td>201510</td>\n",
       "      <td>669</td>\n",
       "      <td>202510</td>\n",
       "      <td>owner occupied</td>\n",
       "      <td>linear</td>\n",
       "      <td>1</td>\n",
       "      <td>103300.75</td>\n",
       "      <td>62.416209</td>\n",
       "      <td>...</td>\n",
       "      <td>75.0</td>\n",
       "      <td>191.42</td>\n",
       "      <td>5.755</td>\n",
       "      <td>4</td>\n",
       "      <td>2016</td>\n",
       "      <td>2016-04-01</td>\n",
       "      <td>9.20</td>\n",
       "      <td>226.29</td>\n",
       "      <td>2.899137</td>\n",
       "      <td>0</td>\n",
       "    </tr>\n",
       "    <tr>\n",
       "      <th>5</th>\n",
       "      <td>48</td>\n",
       "      <td>675</td>\n",
       "      <td>201510</td>\n",
       "      <td>669</td>\n",
       "      <td>202510</td>\n",
       "      <td>holiday home</td>\n",
       "      <td>bullet</td>\n",
       "      <td>0</td>\n",
       "      <td>138093.71</td>\n",
       "      <td>66.751003</td>\n",
       "      <td>...</td>\n",
       "      <td>80.0</td>\n",
       "      <td>191.42</td>\n",
       "      <td>6.680</td>\n",
       "      <td>4</td>\n",
       "      <td>2016</td>\n",
       "      <td>2016-04-01</td>\n",
       "      <td>9.20</td>\n",
       "      <td>226.29</td>\n",
       "      <td>2.899137</td>\n",
       "      <td>0</td>\n",
       "    </tr>\n",
       "    <tr>\n",
       "      <th>...</th>\n",
       "      <td>...</td>\n",
       "      <td>...</td>\n",
       "      <td>...</td>\n",
       "      <td>...</td>\n",
       "      <td>...</td>\n",
       "      <td>...</td>\n",
       "      <td>...</td>\n",
       "      <td>...</td>\n",
       "      <td>...</td>\n",
       "      <td>...</td>\n",
       "      <td>...</td>\n",
       "      <td>...</td>\n",
       "      <td>...</td>\n",
       "      <td>...</td>\n",
       "      <td>...</td>\n",
       "      <td>...</td>\n",
       "      <td>...</td>\n",
       "      <td>...</td>\n",
       "      <td>...</td>\n",
       "      <td>...</td>\n",
       "      <td>...</td>\n",
       "    </tr>\n",
       "    <tr>\n",
       "      <th>61577</th>\n",
       "      <td>37843</td>\n",
       "      <td>665</td>\n",
       "      <td>201504</td>\n",
       "      <td>663</td>\n",
       "      <td>202004</td>\n",
       "      <td>btl</td>\n",
       "      <td>erm</td>\n",
       "      <td>0</td>\n",
       "      <td>44042.18</td>\n",
       "      <td>62.876322</td>\n",
       "      <td>...</td>\n",
       "      <td>68.5</td>\n",
       "      <td>149.70</td>\n",
       "      <td>5.125</td>\n",
       "      <td>6</td>\n",
       "      <td>2015</td>\n",
       "      <td>2015-06-01</td>\n",
       "      <td>10.38</td>\n",
       "      <td>161.27</td>\n",
       "      <td>4.263707</td>\n",
       "      <td>0</td>\n",
       "    </tr>\n",
       "    <tr>\n",
       "      <th>61578</th>\n",
       "      <td>38401</td>\n",
       "      <td>665</td>\n",
       "      <td>201412</td>\n",
       "      <td>659</td>\n",
       "      <td>202501</td>\n",
       "      <td>owner occupied</td>\n",
       "      <td>linear</td>\n",
       "      <td>1</td>\n",
       "      <td>357759.21</td>\n",
       "      <td>77.300002</td>\n",
       "      <td>...</td>\n",
       "      <td>95.0</td>\n",
       "      <td>132.76</td>\n",
       "      <td>6.750</td>\n",
       "      <td>6</td>\n",
       "      <td>2015</td>\n",
       "      <td>2015-06-01</td>\n",
       "      <td>10.38</td>\n",
       "      <td>161.27</td>\n",
       "      <td>4.263707</td>\n",
       "      <td>0</td>\n",
       "    </tr>\n",
       "    <tr>\n",
       "      <th>61580</th>\n",
       "      <td>39150</td>\n",
       "      <td>665</td>\n",
       "      <td>201501</td>\n",
       "      <td>660</td>\n",
       "      <td>202501</td>\n",
       "      <td>holiday home</td>\n",
       "      <td>bullet</td>\n",
       "      <td>0</td>\n",
       "      <td>155617.88</td>\n",
       "      <td>81.018599</td>\n",
       "      <td>...</td>\n",
       "      <td>95.0</td>\n",
       "      <td>138.62</td>\n",
       "      <td>7.875</td>\n",
       "      <td>6</td>\n",
       "      <td>2015</td>\n",
       "      <td>2015-06-01</td>\n",
       "      <td>10.38</td>\n",
       "      <td>161.27</td>\n",
       "      <td>4.263707</td>\n",
       "      <td>0</td>\n",
       "    </tr>\n",
       "    <tr>\n",
       "      <th>61581</th>\n",
       "      <td>39159</td>\n",
       "      <td>665</td>\n",
       "      <td>201501</td>\n",
       "      <td>660</td>\n",
       "      <td>202501</td>\n",
       "      <td>owner occupied</td>\n",
       "      <td>linear</td>\n",
       "      <td>0</td>\n",
       "      <td>380686.49</td>\n",
       "      <td>83.382373</td>\n",
       "      <td>...</td>\n",
       "      <td>80.0</td>\n",
       "      <td>138.62</td>\n",
       "      <td>5.500</td>\n",
       "      <td>6</td>\n",
       "      <td>2015</td>\n",
       "      <td>2015-06-01</td>\n",
       "      <td>10.38</td>\n",
       "      <td>161.27</td>\n",
       "      <td>4.263707</td>\n",
       "      <td>0</td>\n",
       "    </tr>\n",
       "    <tr>\n",
       "      <th>61582</th>\n",
       "      <td>44163</td>\n",
       "      <td>665</td>\n",
       "      <td>201309</td>\n",
       "      <td>644</td>\n",
       "      <td>202308</td>\n",
       "      <td>btl</td>\n",
       "      <td>erm</td>\n",
       "      <td>2</td>\n",
       "      <td>281735.69</td>\n",
       "      <td>38.549835</td>\n",
       "      <td>...</td>\n",
       "      <td>73.9</td>\n",
       "      <td>89.58</td>\n",
       "      <td>7.125</td>\n",
       "      <td>6</td>\n",
       "      <td>2015</td>\n",
       "      <td>2015-06-01</td>\n",
       "      <td>10.38</td>\n",
       "      <td>161.27</td>\n",
       "      <td>4.263707</td>\n",
       "      <td>0</td>\n",
       "    </tr>\n",
       "  </tbody>\n",
       "</table>\n",
       "<p>47286 rows × 21 columns</p>\n",
       "</div>"
      ],
      "text/plain": [
       "       loan_id  time  orig_date  orig_date_elapsed  maturity_date  \\\n",
       "1           15   675     201509                668         202509   \n",
       "2           28   675     201509                668         202510   \n",
       "3           32   675     201510                669         202510   \n",
       "4           33   675     201510                669         202510   \n",
       "5           48   675     201510                669         202510   \n",
       "...        ...   ...        ...                ...            ...   \n",
       "61577    37843   665     201504                663         202004   \n",
       "61578    38401   665     201412                659         202501   \n",
       "61580    39150   665     201501                660         202501   \n",
       "61581    39159   665     201501                660         202501   \n",
       "61582    44163   665     201309                644         202308   \n",
       "\n",
       "            occupancy mortgage_type  arrears  current_balance  current_ltv  \\\n",
       "1                 btl           erm        0        153051.03    77.556076   \n",
       "2                 btl           erm        0        109660.66    69.674631   \n",
       "3      owner occupied        linear        2        238081.62    83.382373   \n",
       "4      owner occupied        linear        1        103300.75    62.416209   \n",
       "5        holiday home        bullet        0        138093.71    66.751003   \n",
       "...               ...           ...      ...              ...          ...   \n",
       "61577             btl           erm        0         44042.18    62.876322   \n",
       "61578  owner occupied        linear        1        357759.21    77.300002   \n",
       "61580    holiday home        bullet        0        155617.88    81.018599   \n",
       "61581  owner occupied        linear        0        380686.49    83.382373   \n",
       "61582             btl           erm        2        281735.69    38.549835   \n",
       "\n",
       "       ...  original_ltv   hpi_o  interest_rate_o  month  year       date  \\\n",
       "1      ...          95.0  186.91            8.180      4  2016 2016-04-01   \n",
       "2      ...          85.0  186.91            9.280      4  2016 2016-04-01   \n",
       "3      ...          80.0  191.42            6.710      4  2016 2016-04-01   \n",
       "4      ...          75.0  191.42            5.755      4  2016 2016-04-01   \n",
       "5      ...          80.0  191.42            6.680      4  2016 2016-04-01   \n",
       "...    ...           ...     ...              ...    ...   ...        ...   \n",
       "61577  ...          68.5  149.70            5.125      6  2015 2015-06-01   \n",
       "61578  ...          95.0  132.76            6.750      6  2015 2015-06-01   \n",
       "61580  ...          95.0  138.62            7.875      6  2015 2015-06-01   \n",
       "61581  ...          80.0  138.62            5.500      6  2015 2015-06-01   \n",
       "61582  ...          73.9   89.58            7.125      6  2015 2015-06-01   \n",
       "\n",
       "      interest_rate_t   hpi_t     gdp_t  default_flag  \n",
       "1                9.20  226.29  2.899137             0  \n",
       "2                9.20  226.29  2.899137             0  \n",
       "3                9.20  226.29  2.899137             0  \n",
       "4                9.20  226.29  2.899137             0  \n",
       "5                9.20  226.29  2.899137             0  \n",
       "...               ...     ...       ...           ...  \n",
       "61577           10.38  161.27  4.263707             0  \n",
       "61578           10.38  161.27  4.263707             0  \n",
       "61580           10.38  161.27  4.263707             0  \n",
       "61581           10.38  161.27  4.263707             0  \n",
       "61582           10.38  161.27  4.263707             0  \n",
       "\n",
       "[47286 rows x 21 columns]"
      ]
     },
     "execution_count": 20,
     "metadata": {},
     "output_type": "execute_result"
    }
   ],
   "source": [
    "#  imputation: 'credit_score', 'current_ltv', \n",
    "\n",
    "merged_df['credit_score'] = merged_df['credit_score'].fillna(merged_df['credit_score'].mean())\n",
    "merged_df['current_ltv'] = merged_df['current_ltv'].fillna(merged_df['current_ltv'].mean())\n",
    "\n",
    "#  dropping - 'mortgage_type', 'occupancy' \n",
    "\n",
    "filtered_df = merged_df.dropna()\n",
    "\n",
    "filtered_df"
   ]
  },
  {
   "cell_type": "code",
   "execution_count": 21,
   "metadata": {},
   "outputs": [
    {
     "data": {
      "text/plain": [
       "14297"
      ]
     },
     "execution_count": 21,
     "metadata": {},
     "output_type": "execute_result"
    }
   ],
   "source": [
    "data_lost = 61583 - 47286\n",
    "data_lost"
   ]
  },
  {
   "cell_type": "markdown",
   "metadata": {},
   "source": [
    "10. __Next, partition the dataset into development and test samples, this should be a random 80/20 split (80% development / 20% test). You can use the seed (1219) for generating this split.__"
   ]
  },
  {
   "cell_type": "code",
   "execution_count": 22,
   "metadata": {},
   "outputs": [
    {
     "name": "stdout",
     "output_type": "stream",
     "text": [
      "(0, 46075)\n",
      "(1, 1211)\n"
     ]
    }
   ],
   "source": [
    "\n",
    "# Sanity check if default_flag is well split\n",
    "groupby_default = filtered_df.groupby('default_flag')\n",
    "for x,y in groupby_default['default_flag']:\n",
    "    print((x, y.count()))"
   ]
  },
  {
   "cell_type": "code",
   "execution_count": 23,
   "metadata": {},
   "outputs": [
    {
     "data": {
      "text/html": [
       "<div>\n",
       "<style scoped>\n",
       "    .dataframe tbody tr th:only-of-type {\n",
       "        vertical-align: middle;\n",
       "    }\n",
       "\n",
       "    .dataframe tbody tr th {\n",
       "        vertical-align: top;\n",
       "    }\n",
       "\n",
       "    .dataframe thead th {\n",
       "        text-align: right;\n",
       "    }\n",
       "</style>\n",
       "<table border=\"1\" class=\"dataframe\">\n",
       "  <thead>\n",
       "    <tr style=\"text-align: right;\">\n",
       "      <th></th>\n",
       "      <th>credit_score</th>\n",
       "      <th>occupancy</th>\n",
       "      <th>current_ltv</th>\n",
       "      <th>mortgage_type</th>\n",
       "      <th>gdp_t</th>\n",
       "      <th>default_flag</th>\n",
       "    </tr>\n",
       "  </thead>\n",
       "  <tbody>\n",
       "    <tr>\n",
       "      <th>1</th>\n",
       "      <td>561.0</td>\n",
       "      <td>btl</td>\n",
       "      <td>77.556076</td>\n",
       "      <td>erm</td>\n",
       "      <td>2.899137</td>\n",
       "      <td>0</td>\n",
       "    </tr>\n",
       "    <tr>\n",
       "      <th>2</th>\n",
       "      <td>575.0</td>\n",
       "      <td>btl</td>\n",
       "      <td>69.674631</td>\n",
       "      <td>erm</td>\n",
       "      <td>2.899137</td>\n",
       "      <td>0</td>\n",
       "    </tr>\n",
       "    <tr>\n",
       "      <th>3</th>\n",
       "      <td>643.0</td>\n",
       "      <td>owner occupied</td>\n",
       "      <td>83.382373</td>\n",
       "      <td>linear</td>\n",
       "      <td>2.899137</td>\n",
       "      <td>0</td>\n",
       "    </tr>\n",
       "    <tr>\n",
       "      <th>4</th>\n",
       "      <td>713.0</td>\n",
       "      <td>owner occupied</td>\n",
       "      <td>62.416209</td>\n",
       "      <td>linear</td>\n",
       "      <td>2.899137</td>\n",
       "      <td>0</td>\n",
       "    </tr>\n",
       "    <tr>\n",
       "      <th>5</th>\n",
       "      <td>636.0</td>\n",
       "      <td>holiday home</td>\n",
       "      <td>66.751003</td>\n",
       "      <td>bullet</td>\n",
       "      <td>2.899137</td>\n",
       "      <td>0</td>\n",
       "    </tr>\n",
       "    <tr>\n",
       "      <th>...</th>\n",
       "      <td>...</td>\n",
       "      <td>...</td>\n",
       "      <td>...</td>\n",
       "      <td>...</td>\n",
       "      <td>...</td>\n",
       "      <td>...</td>\n",
       "    </tr>\n",
       "    <tr>\n",
       "      <th>61577</th>\n",
       "      <td>774.0</td>\n",
       "      <td>btl</td>\n",
       "      <td>62.876322</td>\n",
       "      <td>erm</td>\n",
       "      <td>4.263707</td>\n",
       "      <td>0</td>\n",
       "    </tr>\n",
       "    <tr>\n",
       "      <th>61578</th>\n",
       "      <td>652.0</td>\n",
       "      <td>owner occupied</td>\n",
       "      <td>77.300002</td>\n",
       "      <td>linear</td>\n",
       "      <td>4.263707</td>\n",
       "      <td>0</td>\n",
       "    </tr>\n",
       "    <tr>\n",
       "      <th>61580</th>\n",
       "      <td>677.0</td>\n",
       "      <td>holiday home</td>\n",
       "      <td>81.018599</td>\n",
       "      <td>bullet</td>\n",
       "      <td>4.263707</td>\n",
       "      <td>0</td>\n",
       "    </tr>\n",
       "    <tr>\n",
       "      <th>61581</th>\n",
       "      <td>693.0</td>\n",
       "      <td>owner occupied</td>\n",
       "      <td>83.382373</td>\n",
       "      <td>linear</td>\n",
       "      <td>4.263707</td>\n",
       "      <td>0</td>\n",
       "    </tr>\n",
       "    <tr>\n",
       "      <th>61582</th>\n",
       "      <td>768.0</td>\n",
       "      <td>btl</td>\n",
       "      <td>38.549835</td>\n",
       "      <td>erm</td>\n",
       "      <td>4.263707</td>\n",
       "      <td>0</td>\n",
       "    </tr>\n",
       "  </tbody>\n",
       "</table>\n",
       "<p>47286 rows × 6 columns</p>\n",
       "</div>"
      ],
      "text/plain": [
       "       credit_score       occupancy  current_ltv mortgage_type     gdp_t  \\\n",
       "1             561.0             btl    77.556076           erm  2.899137   \n",
       "2             575.0             btl    69.674631           erm  2.899137   \n",
       "3             643.0  owner occupied    83.382373        linear  2.899137   \n",
       "4             713.0  owner occupied    62.416209        linear  2.899137   \n",
       "5             636.0    holiday home    66.751003        bullet  2.899137   \n",
       "...             ...             ...          ...           ...       ...   \n",
       "61577         774.0             btl    62.876322           erm  4.263707   \n",
       "61578         652.0  owner occupied    77.300002        linear  4.263707   \n",
       "61580         677.0    holiday home    81.018599        bullet  4.263707   \n",
       "61581         693.0  owner occupied    83.382373        linear  4.263707   \n",
       "61582         768.0             btl    38.549835           erm  4.263707   \n",
       "\n",
       "       default_flag  \n",
       "1                 0  \n",
       "2                 0  \n",
       "3                 0  \n",
       "4                 0  \n",
       "5                 0  \n",
       "...             ...  \n",
       "61577             0  \n",
       "61578             0  \n",
       "61580             0  \n",
       "61581             0  \n",
       "61582             0  \n",
       "\n",
       "[47286 rows x 6 columns]"
      ]
     },
     "execution_count": 23,
     "metadata": {},
     "output_type": "execute_result"
    }
   ],
   "source": [
    "# drop features not needed for model (excluding columns)\n",
    "filtered_df = filtered_df[['credit_score', 'occupancy',  'current_ltv', 'mortgage_type', 'gdp_t','default_flag']]\n",
    "filtered_df"
   ]
  },
  {
   "cell_type": "code",
   "execution_count": 24,
   "metadata": {},
   "outputs": [
    {
     "name": "stderr",
     "output_type": "stream",
     "text": [
      "C:\\Users\\macko\\AppData\\Local\\Temp\\ipykernel_28456\\2009684447.py:10: SettingWithCopyWarning: \n",
      "A value is trying to be set on a copy of a slice from a DataFrame.\n",
      "Try using .loc[row_indexer,col_indexer] = value instead\n",
      "\n",
      "See the caveats in the documentation: https://pandas.pydata.org/pandas-docs/stable/user_guide/indexing.html#returning-a-view-versus-a-copy\n",
      "  filtered_df[cols] = filtered_df[cols].apply(LabelEncoder().fit_transform)\n"
     ]
    },
    {
     "data": {
      "text/plain": [
       "(47286, 6)"
      ]
     },
     "execution_count": 24,
     "metadata": {},
     "output_type": "execute_result"
    }
   ],
   "source": [
    "from sklearn import preprocessing\n",
    "from sklearn.preprocessing import LabelEncoder\n",
    "# Instantiate LabelEncoder\n",
    "le = LabelEncoder()\n",
    "\n",
    "\n",
    "cols = ['occupancy', 'mortgage_type']\n",
    "\n",
    "# Encode labels of multiple columns at once\n",
    "filtered_df[cols] = filtered_df[cols].apply(LabelEncoder().fit_transform)\n",
    "#\n",
    "# Print head\n",
    "#\n",
    "filtered_df.shape"
   ]
  },
  {
   "cell_type": "code",
   "execution_count": 25,
   "metadata": {},
   "outputs": [],
   "source": [
    "# Declare future predictors and target\n",
    "\n",
    "X = filtered_df.drop(['default_flag'], axis=1)    # predictors\n",
    "y = filtered_df['default_flag'] \n",
    "                  # target"
   ]
  },
  {
   "cell_type": "code",
   "execution_count": 26,
   "metadata": {},
   "outputs": [],
   "source": [
    "from sklearn.model_selection import train_test_split\n",
    "\n",
    "X_train, X_test, y_train, y_test = train_test_split(X, \n",
    "                                                    y, \n",
    "                                                    test_size=0.2, \n",
    "                                                    random_state=1219)"
   ]
  },
  {
   "cell_type": "markdown",
   "metadata": {},
   "source": [
    "11. __After you have your development sample you should estimate a logistic model using *default_flag* as your dependent and *credit_score, occupancy,  current_ltv, mortgage_type, gdp_t* and “change in hpi since origination” (name it *d_hpi*) as your independent variables.__"
   ]
  },
  {
   "cell_type": "code",
   "execution_count": 27,
   "metadata": {},
   "outputs": [],
   "source": [
    "#  I did that above\n",
    "# Change in hpi since origination was not defined I believe."
   ]
  },
  {
   "cell_type": "markdown",
   "metadata": {},
   "source": [
    "12. __Interpret the coefficient on the current LTV variable in this model.__"
   ]
  },
  {
   "cell_type": "code",
   "execution_count": 28,
   "metadata": {},
   "outputs": [
    {
     "data": {
      "text/plain": [
       "RandomForestClassifier(max_features=2, n_estimators=1000, oob_score=True)"
      ]
     },
     "execution_count": 28,
     "metadata": {},
     "output_type": "execute_result"
    }
   ],
   "source": [
    "# Initialize model\n",
    "from sklearn.ensemble import RandomForestClassifier\n",
    "rf_model = RandomForestClassifier(n_estimators=1000,  # number of trees\n",
    "                                    max_features=2,     # num of features considered at each slit of the tree\n",
    "                                    oob_score=True)     # assessing the quality/score of the model using out of bag samples\n",
    "                                    # Train the model\n",
    "rf_model.fit(X_train, y_train)"
   ]
  },
  {
   "cell_type": "code",
   "execution_count": 29,
   "metadata": {},
   "outputs": [
    {
     "name": "stdout",
     "output_type": "stream",
     "text": [
      "OOB accuracy:\n",
      "0.9732208945754468\n"
     ]
    }
   ],
   "source": [
    "print(\"OOB accuracy:\")\n",
    "print(rf_model.oob_score_)"
   ]
  },
  {
   "cell_type": "code",
   "execution_count": 30,
   "metadata": {},
   "outputs": [
    {
     "data": {
      "text/plain": [
       "current_ltv      0.507044\n",
       "credit_score     0.325655\n",
       "gdp_t            0.129597\n",
       "occupancy        0.020292\n",
       "mortgage_type    0.017412\n",
       "dtype: float64"
      ]
     },
     "execution_count": 30,
     "metadata": {},
     "output_type": "execute_result"
    }
   ],
   "source": [
    "# view the feature scores\n",
    "feature_scores = pd.Series(rf_model.feature_importances_, index=X_train.columns).sort_values(ascending=False)\n",
    "feature_scores"
   ]
  },
  {
   "cell_type": "markdown",
   "metadata": {},
   "source": [
    "13. __Generate predicted default rates from this model. Name the variable *“pred_default”*.__"
   ]
  },
  {
   "cell_type": "code",
   "execution_count": 45,
   "metadata": {},
   "outputs": [
    {
     "name": "stdout",
     "output_type": "stream",
     "text": [
      "The model predicted one that many times: 20\n",
      "The model predicted zero category (shorter than 3 months) that many times: 9438\n",
      "[0.002114611968703743, 0.9978853880312962]\n"
     ]
    }
   ],
   "source": [
    "Y_predict = rf_model.predict(X_test)\n",
    "\n",
    "predicted_ones = np.count_nonzero(Y_predict)\n",
    "predicted_zeros = len(Y_predict) - np.count_nonzero(Y_predict)\n",
    "print(f'The model predicted one that many times: {predicted_ones}') \n",
    "print(f'The model predicted zero category (shorter than 3 months) that many times: {predicted_zeros}')\n",
    "\n",
    "total_preds = len(Y_predict)\n",
    "pred_default_1 = predicted_ones / total_preds\n",
    "pred_default_2 = predicted_zeros / total_preds\n",
    "\n",
    "pred_default = [pred_default_1, pred_default_2]\n",
    "print(pred_default)\n"
   ]
  },
  {
   "cell_type": "markdown",
   "metadata": {},
   "source": [
    "14.\t__In-sample model validation:__\n",
    "\n",
    "    - Plot average actual predicted default rates alongside the average predicted default rates over time (by observation month) in a line graph. Interpret the model performance based on the result\n",
    "    - Create buckets of current LTV going from 1 to maximum current LTV, by increments of 1 (1,2,3,…). Plot (line graph) average actual default rates alongside the average predicted default rates by LTV buckets (x-axis). How does it look? Does the trend you observe obey the implications of the coefficient of LTV? Does the model do a good job in accounting for the effect of ltv\n",
    "    - Create 3 categories of borrower credit score as follows:\n",
    "        - low-score: credit_score <= 650\n",
    "        - mid-score: 650 < credit_score <= 800\n",
    "        - high-score: credit_score > 800\n",
    "    - Create a single bar plot, comparing the average actual default rate to average predicted default rate, (side by side) per credit score category"
   ]
  },
  {
   "cell_type": "code",
   "execution_count": null,
   "metadata": {},
   "outputs": [],
   "source": []
  },
  {
   "cell_type": "code",
   "execution_count": null,
   "metadata": {},
   "outputs": [],
   "source": []
  },
  {
   "cell_type": "code",
   "execution_count": null,
   "metadata": {},
   "outputs": [],
   "source": []
  },
  {
   "cell_type": "markdown",
   "metadata": {},
   "source": [
    "15. __Generate predictions using the test sample you created, and a plot, as in question 14.a, for the test sample actual and predicted default rates over time. How does the model behave on test sample.__"
   ]
  },
  {
   "cell_type": "code",
   "execution_count": null,
   "metadata": {},
   "outputs": [],
   "source": []
  },
  {
   "cell_type": "code",
   "execution_count": null,
   "metadata": {},
   "outputs": [],
   "source": []
  },
  {
   "cell_type": "code",
   "execution_count": null,
   "metadata": {},
   "outputs": [],
   "source": []
  },
  {
   "cell_type": "markdown",
   "metadata": {},
   "source": [
    "16. __Assuming any predicted value of the dependent variable above 0.1 to indicate default, create an indicator variable (outcome) showing whether or not a loan is in default, according to the model. Use the test sample (the one containing 20% of the observations)__"
   ]
  },
  {
   "cell_type": "code",
   "execution_count": null,
   "metadata": {},
   "outputs": [],
   "source": []
  },
  {
   "cell_type": "code",
   "execution_count": null,
   "metadata": {},
   "outputs": [],
   "source": []
  },
  {
   "cell_type": "code",
   "execution_count": null,
   "metadata": {},
   "outputs": [],
   "source": []
  },
  {
   "cell_type": "markdown",
   "metadata": {},
   "source": [
    "17. __Create a confusion matrix to report the results of comparing the predicted observations of default with actual observations of default in the test sample.__"
   ]
  },
  {
   "cell_type": "code",
   "execution_count": 32,
   "metadata": {},
   "outputs": [
    {
     "ename": "NameError",
     "evalue": "name 'pred_default' is not defined",
     "output_type": "error",
     "traceback": [
      "\u001b[1;31m---------------------------------------------------------------------------\u001b[0m",
      "\u001b[1;31mNameError\u001b[0m                                 Traceback (most recent call last)",
      "\u001b[1;32mc:\\Users\\macko\\python\\HackerRank\\Interview\\Data_Science_Coding_Test_Senior.ipynb Cell 65\u001b[0m in \u001b[0;36m<cell line: 5>\u001b[1;34m()\u001b[0m\n\u001b[0;32m      <a href='vscode-notebook-cell:/c%3A/Users/macko/python/HackerRank/Interview/Data_Science_Coding_Test_Senior.ipynb#Y121sZmlsZQ%3D%3D?line=0'>1</a>\u001b[0m \u001b[39m# Print the Confusion Matrix and slice it into four pieces\u001b[39;00m\n\u001b[0;32m      <a href='vscode-notebook-cell:/c%3A/Users/macko/python/HackerRank/Interview/Data_Science_Coding_Test_Senior.ipynb#Y121sZmlsZQ%3D%3D?line=2'>3</a>\u001b[0m \u001b[39mfrom\u001b[39;00m \u001b[39msklearn\u001b[39;00m\u001b[39m.\u001b[39;00m\u001b[39mmetrics\u001b[39;00m \u001b[39mimport\u001b[39;00m confusion_matrix\n\u001b[1;32m----> <a href='vscode-notebook-cell:/c%3A/Users/macko/python/HackerRank/Interview/Data_Science_Coding_Test_Senior.ipynb#Y121sZmlsZQ%3D%3D?line=4'>5</a>\u001b[0m cm \u001b[39m=\u001b[39m confusion_matrix(y_test, pred_default)\n\u001b[0;32m      <a href='vscode-notebook-cell:/c%3A/Users/macko/python/HackerRank/Interview/Data_Science_Coding_Test_Senior.ipynb#Y121sZmlsZQ%3D%3D?line=6'>7</a>\u001b[0m \u001b[39mprint\u001b[39m(\u001b[39m'\u001b[39m\u001b[39mConfusion matrix\u001b[39m\u001b[39m\\n\u001b[39;00m\u001b[39m\\n\u001b[39;00m\u001b[39m'\u001b[39m, cm)\n",
      "\u001b[1;31mNameError\u001b[0m: name 'pred_default' is not defined"
     ]
    }
   ],
   "source": [
    "# Print the Confusion Matrix and slice it into four pieces\n",
    "\n",
    "from sklearn.metrics import confusion_matrix\n",
    "\n",
    "cm = confusion_matrix(y_test, pred_default)\n",
    "\n",
    "print('Confusion matrix\\n\\n', cm)"
   ]
  },
  {
   "cell_type": "code",
   "execution_count": null,
   "metadata": {},
   "outputs": [],
   "source": []
  },
  {
   "cell_type": "code",
   "execution_count": null,
   "metadata": {},
   "outputs": [],
   "source": []
  },
  {
   "cell_type": "markdown",
   "metadata": {},
   "source": [
    "18. __Fit a Decision Tree on the development sample using 5-fold cross-validation Grid Search with for the following parameters (use random state 1219):__ \n",
    "    - criterion: \"gini\" or \"entropy\"\n",
    "    - max_depth: from 1 to 5 with step 1\n",
    "    - min_samples_leaf: from 0.1 to 0.5 with step 0.2\n",
    "    - max_features: from 0.1 to 0.5 with step 0.1"
   ]
  },
  {
   "cell_type": "code",
   "execution_count": null,
   "metadata": {},
   "outputs": [],
   "source": []
  },
  {
   "cell_type": "code",
   "execution_count": null,
   "metadata": {},
   "outputs": [],
   "source": []
  },
  {
   "cell_type": "code",
   "execution_count": null,
   "metadata": {},
   "outputs": [],
   "source": []
  },
  {
   "cell_type": "markdown",
   "metadata": {},
   "source": [
    "19. __Fit a kNN model on the development sample using 5-fold cross-validation Grid Search for the following parameters (use random state 1219):__\n",
    "\n",
    "    - n_neighbors: from 2 to 50 with step 1\n",
    "    - weights: \"uniform\" or \"distance\""
   ]
  },
  {
   "cell_type": "code",
   "execution_count": null,
   "metadata": {},
   "outputs": [],
   "source": []
  },
  {
   "cell_type": "code",
   "execution_count": null,
   "metadata": {},
   "outputs": [],
   "source": []
  },
  {
   "cell_type": "code",
   "execution_count": null,
   "metadata": {},
   "outputs": [],
   "source": []
  },
  {
   "cell_type": "markdown",
   "metadata": {},
   "source": [
    "20. __Select the best models from Grid Search from Step 18 and 19, make predictions on test sample using those models and construct the Confusion Matrix for both models. Based on the results, which model would you choose to use in production? Please provide details of reasoning for model selection.__"
   ]
  },
  {
   "cell_type": "code",
   "execution_count": null,
   "metadata": {},
   "outputs": [],
   "source": []
  },
  {
   "cell_type": "code",
   "execution_count": null,
   "metadata": {},
   "outputs": [],
   "source": []
  },
  {
   "cell_type": "code",
   "execution_count": null,
   "metadata": {},
   "outputs": [],
   "source": []
  },
  {
   "cell_type": "markdown",
   "metadata": {},
   "source": [
    "21. __Which drivers would you include (either macro or loan/customer specific) in addition to the ones already in the model?__"
   ]
  },
  {
   "cell_type": "code",
   "execution_count": null,
   "metadata": {},
   "outputs": [],
   "source": []
  },
  {
   "cell_type": "code",
   "execution_count": null,
   "metadata": {},
   "outputs": [],
   "source": []
  },
  {
   "cell_type": "code",
   "execution_count": null,
   "metadata": {},
   "outputs": [],
   "source": []
  },
  {
   "cell_type": "markdown",
   "metadata": {},
   "source": [
    "22. __Would you change the model drivers if you had credit card dataset, instead of mortgages? Which drivers would be more relevant for credit card PD modelling?__"
   ]
  },
  {
   "cell_type": "code",
   "execution_count": null,
   "metadata": {},
   "outputs": [],
   "source": []
  },
  {
   "cell_type": "code",
   "execution_count": null,
   "metadata": {},
   "outputs": [],
   "source": []
  },
  {
   "cell_type": "code",
   "execution_count": null,
   "metadata": {},
   "outputs": [],
   "source": []
  },
  {
   "cell_type": "markdown",
   "metadata": {},
   "source": [
    "23. __How would you adapt the PD model to account for Environmental, Social and Governance (ESG) risk?__"
   ]
  },
  {
   "cell_type": "code",
   "execution_count": null,
   "metadata": {},
   "outputs": [],
   "source": []
  },
  {
   "cell_type": "code",
   "execution_count": null,
   "metadata": {},
   "outputs": [],
   "source": []
  },
  {
   "cell_type": "code",
   "execution_count": null,
   "metadata": {},
   "outputs": [],
   "source": []
  },
  {
   "cell_type": "markdown",
   "metadata": {},
   "source": [
    "24. __Consider modelling prepayment (PP) rate, rather than probability of default (PD). How would you expect the point-in-time (PiT) prepayment probabilities to change over the life of the annuity type of loan? Would you expect the PP to be lower/higher in the end of loan life, compared to the beginning? Why?__"
   ]
  },
  {
   "cell_type": "code",
   "execution_count": null,
   "metadata": {},
   "outputs": [],
   "source": []
  },
  {
   "cell_type": "code",
   "execution_count": null,
   "metadata": {},
   "outputs": [],
   "source": []
  },
  {
   "cell_type": "code",
   "execution_count": null,
   "metadata": {},
   "outputs": [],
   "source": []
  },
  {
   "cell_type": "markdown",
   "metadata": {},
   "source": [
    "25. __Would you expect increasing prepayment rates under more severe economic scenario (worse economic conditions)? How would these impact loan cash flows?__"
   ]
  },
  {
   "cell_type": "code",
   "execution_count": null,
   "metadata": {},
   "outputs": [],
   "source": []
  },
  {
   "cell_type": "code",
   "execution_count": null,
   "metadata": {},
   "outputs": [],
   "source": []
  },
  {
   "cell_type": "code",
   "execution_count": null,
   "metadata": {},
   "outputs": [],
   "source": []
  },
  {
   "cell_type": "markdown",
   "metadata": {},
   "source": [
    "## Problem 2"
   ]
  },
  {
   "cell_type": "markdown",
   "metadata": {},
   "source": [
    "For this exercise no coding is required."
   ]
  },
  {
   "cell_type": "markdown",
   "metadata": {},
   "source": [
    "1. __What is the difference between supervised and unsupervised machine learning? Which one would you use for client churn analysis?__"
   ]
  },
  {
   "cell_type": "code",
   "execution_count": null,
   "metadata": {},
   "outputs": [],
   "source": [
    "# Supervised learning models use either time series or some historical data points for training (predictors) that are labeled with outputs(targets). "
   ]
  },
  {
   "cell_type": "code",
   "execution_count": null,
   "metadata": {},
   "outputs": [],
   "source": [
    "# In unsupervised learning data have only features (no labels)."
   ]
  },
  {
   "cell_type": "code",
   "execution_count": null,
   "metadata": {},
   "outputs": [],
   "source": [
    "# Supervised learning is better for client analysis because we would analyze customer data that were measuerd (predictors) which are paired with whether they churned or not (target)."
   ]
  },
  {
   "cell_type": "markdown",
   "metadata": {},
   "source": [
    "2. __What are the most popular ensemble algorithms?__"
   ]
  },
  {
   "cell_type": "code",
   "execution_count": null,
   "metadata": {},
   "outputs": [],
   "source": [
    "# boosting - XGboost, Catboost"
   ]
  },
  {
   "cell_type": "code",
   "execution_count": null,
   "metadata": {},
   "outputs": [],
   "source": [
    "# bagging - using bootstrap like Random forests"
   ]
  },
  {
   "cell_type": "code",
   "execution_count": null,
   "metadata": {},
   "outputs": [],
   "source": [
    "# "
   ]
  },
  {
   "cell_type": "markdown",
   "metadata": {},
   "source": [
    "3. __What is the difference between Type I and Type II error?__"
   ]
  },
  {
   "cell_type": "code",
   "execution_count": null,
   "metadata": {},
   "outputs": [],
   "source": [
    "# These are errors possible to commit when conducting hypothesis testing. It is best explained using the court of law experiment. # Assumption: null hypothesis is that the defendant is innocent. Now we require evidence to reject the null hypothesis (convict)."
   ]
  },
  {
   "cell_type": "code",
   "execution_count": null,
   "metadata": {},
   "outputs": [],
   "source": [
    "# TYPE I ERROR: If we require little evidence, we increase the % of innocent people convicted. At the same time we would increase the % of guilty people convicted (correctly rejecting the null h.)"
   ]
  },
  {
   "cell_type": "code",
   "execution_count": null,
   "metadata": {},
   "outputs": [],
   "source": [
    "# TYPE II ERROR: If we require a lot of evidence, we increase the percentage of guilty people free (type 2 error) and we increase the % of innocent people let free (correctly accepting the null)."
   ]
  },
  {
   "cell_type": "markdown",
   "metadata": {},
   "source": [
    "4. __Explain the difference between L1 and L2 regularization methods.__"
   ]
  },
  {
   "cell_type": "code",
   "execution_count": null,
   "metadata": {},
   "outputs": [],
   "source": []
  },
  {
   "cell_type": "code",
   "execution_count": null,
   "metadata": {},
   "outputs": [],
   "source": []
  },
  {
   "cell_type": "code",
   "execution_count": null,
   "metadata": {},
   "outputs": [],
   "source": []
  },
  {
   "cell_type": "markdown",
   "metadata": {},
   "source": [
    "5.\t__Given the statistics for 2 classification models on Test dataset in the table below__\n",
    "\n",
    " - Which model predicts actual positives better?\n",
    " - Which model is best and why, given the following information?"
   ]
  },
  {
   "cell_type": "markdown",
   "metadata": {},
   "source": [
    "Statistic | Model 1 | Model 2\n",
    ":---|:---:|:---:\n",
    "AUC ROC | 0.71 | 0.72\n",
    "Accuracy | 0.78 | 0.81\n",
    "Recall | 0.55 | 0.53\n",
    "Precision | 0.59 | 0.68\n",
    "F1-Score | 0.57 | 0.59"
   ]
  },
  {
   "cell_type": "code",
   "execution_count": null,
   "metadata": {},
   "outputs": [],
   "source": [
    "# Although we don't know what's the specific problem, looking at these parameters, M2 performs better,tter, because: "
   ]
  },
  {
   "cell_type": "code",
   "execution_count": null,
   "metadata": {},
   "outputs": [],
   "source": [
    "# Accuracy (ratio of the total number of correct predictions and the total number of predictions) better for M2."
   ]
  },
  {
   "cell_type": "code",
   "execution_count": null,
   "metadata": {},
   "outputs": [],
   "source": [
    "# Precision tells us that M2 had more \"true positives\" in the total positives (false + true) than M1. Although M1 identified the true positives better (higher recall) the F1-Score is still better for M2. AUC ROC is similar in both cases."
   ]
  },
  {
   "cell_type": "markdown",
   "metadata": {},
   "source": [
    "6.\t__Given the confusion matrix below:__\n",
    " - Calculate accuracy, recall and precision.\n",
    " - Which number corresponds to Type I error?"
   ]
  },
  {
   "cell_type": "code",
   "execution_count": null,
   "metadata": {},
   "outputs": [
    {
     "data": {
      "text/html": [
       "<table>\n",
       "<tbody>\n",
       "<tr><td>         </td><td> </td><td>Actual</td><td>Actual</td></tr>\n",
       "<tr><td>         </td><td> </td><td>1     </td><td>0     </td></tr>\n",
       "<tr><td>Predicted</td><td>1</td><td>350   </td><td>25    </td></tr>\n",
       "<tr><td>Predicted</td><td>0</td><td>10    </td><td>210   </td></tr>\n",
       "</tbody>\n",
       "</table>"
      ],
      "text/plain": [
       "<IPython.core.display.HTML object>"
      ]
     },
     "metadata": {},
     "output_type": "display_data"
    }
   ],
   "source": [
    "from IPython.display import HTML, display\n",
    "import tabulate\n",
    "table = [[\"\",\"\",\"Actual\",\"Actual\"],\n",
    "         [\"\",\"\",1,0],\n",
    "         [\"Predicted\",1,350,25],\n",
    "         [\"Predicted\",0, 10,210]]\n",
    "display(HTML(tabulate.tabulate(table, tablefmt='html')))"
   ]
  },
  {
   "cell_type": "code",
   "execution_count": null,
   "metadata": {},
   "outputs": [],
   "source": [
    "# 25 is the type I error"
   ]
  }
 ],
 "metadata": {
  "kernelspec": {
   "display_name": "Python 3.9.12 ('base')",
   "language": "python",
   "name": "python3"
  },
  "language_info": {
   "codemirror_mode": {
    "name": "ipython",
    "version": 3
   },
   "file_extension": ".py",
   "mimetype": "text/x-python",
   "name": "python",
   "nbconvert_exporter": "python",
   "pygments_lexer": "ipython3",
   "version": "3.9.12"
  },
  "vscode": {
   "interpreter": {
    "hash": "10bd69468c0bdf2fcac8c891f3563f9bcf73d70cb7c893a76a32513e8af71f45"
   }
  }
 },
 "nbformat": 4,
 "nbformat_minor": 4
}
