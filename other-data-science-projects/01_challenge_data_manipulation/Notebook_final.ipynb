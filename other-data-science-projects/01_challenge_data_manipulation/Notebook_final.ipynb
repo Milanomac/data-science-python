{
 "cells": [
  {
   "cell_type": "markdown",
   "metadata": {},
   "source": [
    "# 1. Run the cell below to load the function. \n",
    "\n",
    "In part 2 you can test different values."
   ]
  },
  {
   "cell_type": "code",
   "execution_count": 11,
   "metadata": {},
   "outputs": [],
   "source": [
    "import pandas as pd\n",
    "from datetime import datetime\n",
    "# Display DataFrame without wrapping the cols\n",
    "pd.set_option('display.max_columns', None) # Set to None to display all columns\n",
    "pd.set_option('display.width', 1000) # Set width to a high value to prevent wrapping\n",
    "pd.options.mode.chained_assignment = None  # Disable the warning\n",
    "\n",
    "# Please, specify path to the CDPOS file\n",
    "path = 'datasets/CDPOS.csv'\n",
    "\n",
    "def calculate_net_order_value(MANDT, EBELN, D_DATE):\n",
    "    \"\"\"\n",
    "    Calculate the net order value for a specific purchase order on a given date.\n",
    "\n",
    "    Parameters:\n",
    "        MANDT (str): Unique client ID, e.g. \"010\".\n",
    "        EBELN (str): Purchase order number, e.g. \"4700001106\".\n",
    "        D_DATE (str): Date in 'YYYY-MM-DD' format.\n",
    "\n",
    "    Returns:\n",
    "        float: Total net order value for the specified purchase order and date.\n",
    "        pandas.DataFrame: Filtered DataFrame containing the records up until the specified D_DATE.\n",
    "    \"\"\"\n",
    "    df = pd.read_csv(path, dtype='object')\n",
    "\n",
    "    # Dropping missing values\n",
    "    df = df.dropna(subset = ['VALUE_NEW'])\n",
    "\n",
    "    # Stripping all spaces from 'VALUE_NEW' column\n",
    "    df.loc[:, 'VALUE_NEW'] = df['VALUE_NEW'].str.strip()\n",
    "\n",
    "    # Dropping all rows that contain letters in 'VALUE_NEW' column\n",
    "    df = df[~df['VALUE_NEW'].str.contains('[a-zA-Z]')]\n",
    "\n",
    "    # Convert VALUE_NEW into float\n",
    "    df['VALUE_NEW'] = df['VALUE_NEW'].astype(float)\n",
    "\n",
    "    # Convert 'UDATE' column to datetime data type\n",
    "    df['UDATE'] = pd.to_datetime(df['UDATE']).dt.strftime('%Y-%m-%d')\n",
    "\n",
    "    # Convert 'UTIME' to datetime and to format 'THH:MM:SS'\n",
    "    df['UTIME'] = pd.to_datetime(df['UTIME']).dt.strftime('T%H:%M:%S')\n",
    "\n",
    "    # concat UDATE and UTIME into a new column called D_DATE\n",
    "    df['D_DATE'] = df['UDATE'] + '' + df['UTIME']\n",
    "\n",
    "    # Convert D_DATE to datetime\n",
    "    df['D_DATE'] = pd.to_datetime(df['D_DATE'])\n",
    "\n",
    "    # Creating new column from the 5 last digits and assigning it as 4th column\n",
    "    df.insert(3, 'EBELP', df['TABKEY'].str[-5:])\n",
    "\n",
    "    # Filtering FNAME\n",
    "    df = df[df['FNAME'] == 'NETWR']\n",
    "\n",
    "    # Renaming columns for the function\n",
    "    df = df.rename(columns={'MANDANT': 'MANDT', 'OBJECTID': 'EBELN', 'VALUE_NEW': 'NETWR'}).reset_index(drop=True)\n",
    "\n",
    "    # Dropping columns\n",
    "    df = df.drop(['OBJECTCLAS', 'CHANGENR', 'TABKEY', 'CHNGIND', 'UTIME', 'UDATE', 'TABNAME'], axis=1)\n",
    "\n",
    "    # Filtering MANDT and EBELN specified by the user\n",
    "    filtered_df = df[(df['MANDT'] == MANDT) & (df['EBELN'] == EBELN)]\n",
    "\n",
    "    # Convert D_DATE to datetime\n",
    "    date_value = datetime.strptime(D_DATE, '%Y-%m-%d')\n",
    "    filtered_df['D_DATE'] = pd.to_datetime(filtered_df['D_DATE'])\n",
    "\n",
    "    # Filter records up until the specified D_DATE\n",
    "    filtered_df = filtered_df[filtered_df['D_DATE'] <= date_value]\n",
    "\n",
    "    # Keep only the most recent record for each EBELP\n",
    "    filtered_df = filtered_df.sort_values(by='D_DATE', ascending=False)\n",
    "    filtered_df = filtered_df.drop_duplicates(subset='EBELP', keep='first') # By commenting this out, all the records untill given date will be displayed and summed\n",
    "    \n",
    "    net_order_value = filtered_df['NETWR'].sum()\n",
    "\n",
    "    return net_order_value, filtered_df"
   ]
  },
  {
   "cell_type": "markdown",
   "metadata": {},
   "source": [
    "# 2. User Input"
   ]
  },
  {
   "cell_type": "code",
   "execution_count": 12,
   "metadata": {},
   "outputs": [],
   "source": [
    "# Please, specify desired input parameters\n",
    "MANDT = \"010\"\n",
    "EBELN = \"4700001106\"\n",
    "D_DATE = \"2018-01-30\" # The format must be YYYY-MM-DD (e.g. 2018-01-30)"
   ]
  },
  {
   "cell_type": "markdown",
   "metadata": {},
   "source": [
    "# 3. Run the cell below.\n",
    "\n",
    "Result displayed under the cell below."
   ]
  },
  {
   "cell_type": "code",
   "execution_count": 13,
   "metadata": {},
   "outputs": [
    {
     "name": "stdout",
     "output_type": "stream",
     "text": [
      "  MANDT       EBELN  EBELP  FNAME    NETWR       VALUE_OLD              D_DATE\n",
      "8   010  4700001106  00010  NETWR   2500.0         1332.49 2018-01-22 10:10:00\n",
      "2   010  4700001106  00030  NETWR  25000.0        50000.00 2018-01-09 09:24:08\n",
      "\n",
      "Total net order value for MANDT 010, EBELN 4700001106, up until D_DATE 2018-01-30: 27500.0\n"
     ]
    }
   ],
   "source": [
    "result, filtered_records = calculate_net_order_value(MANDT, EBELN, D_DATE)\n",
    "if result is not None:\n",
    "    print(filtered_records)\n",
    "    print()\n",
    "    print(f\"Total net order value for MANDT {MANDT}, EBELN {EBELN}, up until D_DATE {D_DATE}: {result}\")\n",
    "else:\n",
    "    print(\"Invalid MANDT/EBELN/D_DATE format\")"
   ]
  },
  {
   "cell_type": "markdown",
   "metadata": {},
   "source": [
    "# 4. Test different input:"
   ]
  },
  {
   "cell_type": "code",
   "execution_count": 14,
   "metadata": {},
   "outputs": [
    {
     "name": "stdout",
     "output_type": "stream",
     "text": [
      "  MANDT       EBELN  EBELP  FNAME    NETWR       VALUE_OLD              D_DATE\n",
      "2   010  4700001106  00030  NETWR  25000.0        50000.00 2018-01-09 09:24:08\n",
      "\n",
      "Total net order value for MANDT 010, EBELN 4700001106, up until D_DATE 2018-01-10: 25000.0\n"
     ]
    }
   ],
   "source": [
    "# Please, specify desired input parameters\n",
    "MANDT = \"010\"\n",
    "EBELN = \"4700001106\"\n",
    "D_DATE = \"2018-01-10\" # The format must be YYYY-MM-DD (e.g. 2018-01-30)\n",
    "\n",
    "result, filtered_records = calculate_net_order_value(MANDT, EBELN, D_DATE)\n",
    "if result is not None:\n",
    "    print(filtered_records)\n",
    "    print()\n",
    "    print(f\"Total net order value for MANDT {MANDT}, EBELN {EBELN}, up until D_DATE {D_DATE}: {result}\")\n",
    "else:\n",
    "    print(\"Invalid MANDT/EBELN/D_DATE format\")"
   ]
  }
 ],
 "metadata": {
  "kernelspec": {
   "display_name": "Python 3",
   "language": "python",
   "name": "python3"
  },
  "language_info": {
   "codemirror_mode": {
    "name": "ipython",
    "version": 3
   },
   "file_extension": ".py",
   "mimetype": "text/x-python",
   "name": "python",
   "nbconvert_exporter": "python",
   "pygments_lexer": "ipython3",
   "version": "3.10.4"
  },
  "orig_nbformat": 4
 },
 "nbformat": 4,
 "nbformat_minor": 2
}
