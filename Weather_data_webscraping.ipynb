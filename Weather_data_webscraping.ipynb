{
 "cells": [
  {
   "cell_type": "markdown",
   "metadata": {},
   "source": [
    "## Web Scraping with Python Using Beautiful Soup. \n",
    "#### In this notebook basic web scraping is performed using the Beautiful Soup library. Seven day weather forecasts is scraped from the National Weather Service, and then data is loaded to a pandas dataframe.The progeam etracts weather information about downtown San Francisco from this page: https://forecast.weather.gov/MapClick.php?lat=37.7772&lon=-122.4168#.Y2kYL-SZNpI."
   ]
  },
  {
   "cell_type": "code",
   "execution_count": 120,
   "metadata": {},
   "outputs": [],
   "source": [
    "import requests\n",
    "from bs4 import BeautifulSoup"
   ]
  },
  {
   "cell_type": "markdown",
   "metadata": {},
   "source": [
    "\n",
    "1. Download the web page containing the forecast.\n",
    "2. Create a BeautifulSoup class to parse the page.\n",
    "3. Find the div with id seven-day-forecast, and assign to seven_day\n",
    "4. Inside seven_day, find each individual forecast item.\n",
    "5. Extract and print the first forecast item.\n"
   ]
  },
  {
   "cell_type": "code",
   "execution_count": 121,
   "metadata": {},
   "outputs": [],
   "source": [
    "page = requests.get(\"https://forecast.weather.gov/MapClick.php?lat=37.7772&lon=-122.4168.html\")\n",
    "soup = BeautifulSoup(page.content, 'html.parser')\n",
    "# print(soup.prettify())"
   ]
  },
  {
   "cell_type": "code",
   "execution_count": 122,
   "metadata": {},
   "outputs": [],
   "source": [
    "seven_day = soup.find(id=\"seven-day-forecast\")\n",
    "items = seven_day.find_all('div', class_ = 'tombstone-container')\n",
    "# items"
   ]
  },
  {
   "cell_type": "markdown",
   "metadata": {},
   "source": [
    "### Extracting from one tag:\n",
    "1. The name of the forecast item.\n",
    "2. A short description of the conditions.\n",
    "3. The temperature low.\n",
    "4. The description of the conditions."
   ]
  },
  {
   "cell_type": "code",
   "execution_count": 123,
   "metadata": {},
   "outputs": [
    {
     "name": "stdout",
     "output_type": "stream",
     "text": [
      "<div class=\"tombstone-container\">\n",
      " <p class=\"period-name\">\n",
      "  Tonight\n",
      "  <br/>\n",
      "  <br/>\n",
      " </p>\n",
      " <p>\n",
      "  <img alt=\"Tonight: Showers likely and possibly a thunderstorm before 10pm, then a chance of showers and thunderstorms between 10pm and 1am, then a chance of rain after 1am.  Mostly cloudy, with a low around 48. West southwest wind 6 to 8 mph.  Chance of precipitation is 60%. New rainfall amounts of less than a tenth of an inch, except higher amounts possible in thunderstorms. \" class=\"forecast-icon\" src=\"newimages/medium/nshra60.png\" title=\"Tonight: Showers likely and possibly a thunderstorm before 10pm, then a chance of showers and thunderstorms between 10pm and 1am, then a chance of rain after 1am.  Mostly cloudy, with a low around 48. West southwest wind 6 to 8 mph.  Chance of precipitation is 60%. New rainfall amounts of less than a tenth of an inch, except higher amounts possible in thunderstorms. \"/>\n",
      " </p>\n",
      " <p class=\"short-desc\">\n",
      "  Showers\n",
      "  <br/>\n",
      "  Likely\n",
      " </p>\n",
      " <p class=\"temp temp-low\">\n",
      "  Low: 48 °F\n",
      " </p>\n",
      "</div>\n"
     ]
    }
   ],
   "source": [
    "# Get the second element from the tombstone-container\n",
    "tonight = items[1]\n",
    "print(tonight.prettify())"
   ]
  },
  {
   "cell_type": "code",
   "execution_count": 124,
   "metadata": {},
   "outputs": [
    {
     "name": "stdout",
     "output_type": "stream",
     "text": [
      "Tonight\n",
      "Low: 48 °F\n",
      "ShowersLikely\n"
     ]
    }
   ],
   "source": [
    "period_name = tonight.find('p', class_ = \"period-name\").get_text()\n",
    "temp_low = tonight.find('p', class_ = \"temp temp-low\").get_text()\n",
    "short_desc = tonight.find('p', class_ = \"short-desc\").get_text()\n",
    "print(period_name)\n",
    "print(temp_low)\n",
    "print(short_desc)"
   ]
  },
  {
   "cell_type": "markdown",
   "metadata": {},
   "source": [
    "Description of the conditions is witin an image tag. To extract it the BeautifulSoup object is treated like a dictionary, and pass in the attribute we want as a key:\n"
   ]
  },
  {
   "cell_type": "code",
   "execution_count": 125,
   "metadata": {},
   "outputs": [
    {
     "data": {
      "text/plain": [
       "'Tonight: Showers likely and possibly a thunderstorm before 10pm, then a chance of showers and thunderstorms between 10pm and 1am, then a chance of rain after 1am.  Mostly cloudy, with a low around 48. West southwest wind 6 to 8 mph.  Chance of precipitation is 60%. New rainfall amounts of less than a tenth of an inch, except higher amounts possible in thunderstorms. '"
      ]
     },
     "execution_count": 125,
     "metadata": {},
     "output_type": "execute_result"
    }
   ],
   "source": [
    "image = tonight.find('img')\n",
    "description = image['title']\n",
    "description"
   ]
  },
  {
   "cell_type": "markdown",
   "metadata": {},
   "source": [
    "### Extracting all the information from the page:\n",
    "1. Select all items with the class period-name inside an item with the class tombstone-container in seven_day.\n",
    "2. Use a list comprehension to call the get_text method on each BeautifulSoup object.\n"
   ]
  },
  {
   "cell_type": "code",
   "execution_count": 126,
   "metadata": {},
   "outputs": [
    {
     "data": {
      "text/plain": [
       "[<p class=\"period-name\">Today<br/><br/></p>,\n",
       " <p class=\"period-name\">Tonight<br/><br/></p>,\n",
       " <p class=\"period-name\">Wednesday<br/><br/></p>,\n",
       " <p class=\"period-name\">Wednesday<br/>Night</p>,\n",
       " <p class=\"period-name\">Thursday<br/><br/></p>,\n",
       " <p class=\"period-name\">Thursday<br/>Night</p>,\n",
       " <p class=\"period-name\">Veterans<br/>Day</p>,\n",
       " <p class=\"period-name\">Friday<br/>Night</p>,\n",
       " <p class=\"period-name\">Saturday<br/><br/></p>]"
      ]
     },
     "execution_count": 126,
     "metadata": {},
     "output_type": "execute_result"
    }
   ],
   "source": [
    "seven_day = soup.find(id=\"seven-day-forecast\")\n",
    "all_items = seven_day.find_all(class_ = 'period-name')\n",
    "all_items"
   ]
  },
  {
   "cell_type": "code",
   "execution_count": 127,
   "metadata": {},
   "outputs": [
    {
     "data": {
      "text/plain": [
       "['Today',\n",
       " 'Tonight',\n",
       " 'Wednesday',\n",
       " 'WednesdayNight',\n",
       " 'Thursday',\n",
       " 'ThursdayNight',\n",
       " 'VeteransDay',\n",
       " 'FridayNight',\n",
       " 'Saturday']"
      ]
     },
     "execution_count": 127,
     "metadata": {},
     "output_type": "execute_result"
    }
   ],
   "source": [
    "periods = [pt.get_text() for pt in all_items]\n",
    "periods"
   ]
  },
  {
   "cell_type": "code",
   "execution_count": 128,
   "metadata": {},
   "outputs": [
    {
     "name": "stdout",
     "output_type": "stream",
     "text": [
      "['Today', 'Tonight', 'Wednesday', 'WednesdayNight', 'Thursday', 'ThursdayNight', 'VeteransDay', 'FridayNight', 'Saturday']\n",
      "['High: 57 °F', 'Low: 48 °F', 'High: 59 °F', 'Low: 44 °F', 'High: 58 °F', 'Low: 43 °F', 'High: 59 °F', 'Low: 46 °F', 'High: 60 °F']\n",
      "['ShowersLikely', 'ShowersLikely', 'Mostly Sunny', 'Mostly Clear', 'Sunny', 'Partly Cloudy', 'Slight ChanceRain', 'Chance Rain', 'Chance Rain']\n"
     ]
    },
    {
     "data": {
      "text/plain": [
       "['Today: Showers likely and possibly a thunderstorm.  Mostly cloudy, with a high near 57. West southwest wind 11 to 14 mph, with gusts as high as 20 mph.  Chance of precipitation is 70%. New rainfall amounts of less than a tenth of an inch, except higher amounts possible in thunderstorms. ',\n",
       " 'Tonight: Showers likely and possibly a thunderstorm before 10pm, then a chance of showers and thunderstorms between 10pm and 1am, then a chance of rain after 1am.  Mostly cloudy, with a low around 48. West southwest wind 6 to 8 mph.  Chance of precipitation is 60%. New rainfall amounts of less than a tenth of an inch, except higher amounts possible in thunderstorms. ',\n",
       " 'Wednesday: Mostly sunny, with a high near 59. West wind 5 to 8 mph. ',\n",
       " 'Wednesday Night: Mostly clear, with a low around 44. North northeast wind 3 to 7 mph. ',\n",
       " 'Thursday: Sunny, with a high near 58. North northeast wind around 6 mph. ',\n",
       " 'Thursday Night: Partly cloudy, with a low around 43.',\n",
       " 'Veterans Day: A 20 percent chance of rain after 10am.  Partly sunny, with a high near 59.',\n",
       " 'Friday Night: A chance of rain, mainly after 10pm.  Mostly cloudy, with a low around 46.',\n",
       " 'Saturday: A chance of rain.  Partly sunny, with a high near 60.']"
      ]
     },
     "execution_count": 128,
     "metadata": {},
     "output_type": "execute_result"
    }
   ],
   "source": [
    "period_names = [pn.get_text() for pn in seven_day.select(\".tombstone-container .period-name\")]\n",
    "temp_lows = [tl.get_text() for tl in seven_day.select(\".tombstone-container .temp\")]\n",
    "short_descs = [sd.get_text() for sd in seven_day.select(\".tombstone-container .short-desc\")]\n",
    "print(period_names)\n",
    "print(temp_lows)\n",
    "print(short_descs)\n",
    "descs = [d['title'] for d in seven_day.select(\".tombstone-container img\")] #this tag already contains list with strings so no need for 'get_text()'\n",
    "descs"
   ]
  },
  {
   "cell_type": "markdown",
   "metadata": {},
   "source": [
    "### Create a DF with the extracted data"
   ]
  },
  {
   "cell_type": "markdown",
   "metadata": {},
   "source": [
    "Check if the list lenght is the same for all lists"
   ]
  },
  {
   "cell_type": "code",
   "execution_count": 129,
   "metadata": {},
   "outputs": [
    {
     "name": "stdout",
     "output_type": "stream",
     "text": [
      "9\n",
      "9\n",
      "9\n",
      "9\n"
     ]
    }
   ],
   "source": [
    "print(len(descs))\n",
    "print(len(short_descs))\n",
    "print(len(period_names))\n",
    "print(len(temp_lows))"
   ]
  },
  {
   "cell_type": "markdown",
   "metadata": {},
   "source": [
    "Uncomment and modify if len differs"
   ]
  },
  {
   "cell_type": "code",
   "execution_count": 130,
   "metadata": {},
   "outputs": [],
   "source": [
    "# descs = descs[1:]\n",
    "# short_descs = short_descs[1:]\n",
    "# period_names = period_names[1:]"
   ]
  },
  {
   "cell_type": "code",
   "execution_count": 131,
   "metadata": {},
   "outputs": [
    {
     "data": {
      "text/html": [
       "<div>\n",
       "<style scoped>\n",
       "    .dataframe tbody tr th:only-of-type {\n",
       "        vertical-align: middle;\n",
       "    }\n",
       "\n",
       "    .dataframe tbody tr th {\n",
       "        vertical-align: top;\n",
       "    }\n",
       "\n",
       "    .dataframe thead th {\n",
       "        text-align: right;\n",
       "    }\n",
       "</style>\n",
       "<table border=\"1\" class=\"dataframe\">\n",
       "  <thead>\n",
       "    <tr style=\"text-align: right;\">\n",
       "      <th></th>\n",
       "      <th>Description</th>\n",
       "      <th>Short desc</th>\n",
       "      <th>Forecasted Period</th>\n",
       "      <th>Temperature low</th>\n",
       "    </tr>\n",
       "  </thead>\n",
       "  <tbody>\n",
       "    <tr>\n",
       "      <th>0</th>\n",
       "      <td>Today: Showers likely and possibly a thunderst...</td>\n",
       "      <td>ShowersLikely</td>\n",
       "      <td>Today</td>\n",
       "      <td>High: 57 °F</td>\n",
       "    </tr>\n",
       "    <tr>\n",
       "      <th>1</th>\n",
       "      <td>Tonight: Showers likely and possibly a thunder...</td>\n",
       "      <td>ShowersLikely</td>\n",
       "      <td>Tonight</td>\n",
       "      <td>Low: 48 °F</td>\n",
       "    </tr>\n",
       "    <tr>\n",
       "      <th>2</th>\n",
       "      <td>Wednesday: Mostly sunny, with a high near 59. ...</td>\n",
       "      <td>Mostly Sunny</td>\n",
       "      <td>Wednesday</td>\n",
       "      <td>High: 59 °F</td>\n",
       "    </tr>\n",
       "    <tr>\n",
       "      <th>3</th>\n",
       "      <td>Wednesday Night: Mostly clear, with a low arou...</td>\n",
       "      <td>Mostly Clear</td>\n",
       "      <td>WednesdayNight</td>\n",
       "      <td>Low: 44 °F</td>\n",
       "    </tr>\n",
       "    <tr>\n",
       "      <th>4</th>\n",
       "      <td>Thursday: Sunny, with a high near 58. North no...</td>\n",
       "      <td>Sunny</td>\n",
       "      <td>Thursday</td>\n",
       "      <td>High: 58 °F</td>\n",
       "    </tr>\n",
       "    <tr>\n",
       "      <th>5</th>\n",
       "      <td>Thursday Night: Partly cloudy, with a low arou...</td>\n",
       "      <td>Partly Cloudy</td>\n",
       "      <td>ThursdayNight</td>\n",
       "      <td>Low: 43 °F</td>\n",
       "    </tr>\n",
       "    <tr>\n",
       "      <th>6</th>\n",
       "      <td>Veterans Day: A 20 percent chance of rain afte...</td>\n",
       "      <td>Slight ChanceRain</td>\n",
       "      <td>VeteransDay</td>\n",
       "      <td>High: 59 °F</td>\n",
       "    </tr>\n",
       "    <tr>\n",
       "      <th>7</th>\n",
       "      <td>Friday Night: A chance of rain, mainly after 1...</td>\n",
       "      <td>Chance Rain</td>\n",
       "      <td>FridayNight</td>\n",
       "      <td>Low: 46 °F</td>\n",
       "    </tr>\n",
       "    <tr>\n",
       "      <th>8</th>\n",
       "      <td>Saturday: A chance of rain.  Partly sunny, wit...</td>\n",
       "      <td>Chance Rain</td>\n",
       "      <td>Saturday</td>\n",
       "      <td>High: 60 °F</td>\n",
       "    </tr>\n",
       "  </tbody>\n",
       "</table>\n",
       "</div>"
      ],
      "text/plain": [
       "                                         Description         Short desc  \\\n",
       "0  Today: Showers likely and possibly a thunderst...      ShowersLikely   \n",
       "1  Tonight: Showers likely and possibly a thunder...      ShowersLikely   \n",
       "2  Wednesday: Mostly sunny, with a high near 59. ...       Mostly Sunny   \n",
       "3  Wednesday Night: Mostly clear, with a low arou...       Mostly Clear   \n",
       "4  Thursday: Sunny, with a high near 58. North no...              Sunny   \n",
       "5  Thursday Night: Partly cloudy, with a low arou...      Partly Cloudy   \n",
       "6  Veterans Day: A 20 percent chance of rain afte...  Slight ChanceRain   \n",
       "7  Friday Night: A chance of rain, mainly after 1...        Chance Rain   \n",
       "8  Saturday: A chance of rain.  Partly sunny, wit...        Chance Rain   \n",
       "\n",
       "  Forecasted Period Temperature low  \n",
       "0             Today     High: 57 °F  \n",
       "1           Tonight      Low: 48 °F  \n",
       "2         Wednesday     High: 59 °F  \n",
       "3    WednesdayNight      Low: 44 °F  \n",
       "4          Thursday     High: 58 °F  \n",
       "5     ThursdayNight      Low: 43 °F  \n",
       "6       VeteransDay     High: 59 °F  \n",
       "7       FridayNight      Low: 46 °F  \n",
       "8          Saturday     High: 60 °F  "
      ]
     },
     "execution_count": 131,
     "metadata": {},
     "output_type": "execute_result"
    }
   ],
   "source": [
    "import pandas as pd\n",
    "df = pd.DataFrame.from_dict({\n",
    "    'Description': descs,\n",
    "    'Short desc': short_descs,\n",
    "    'Forecasted Period': period_names,\n",
    "    'Temperature low': temp_lows,\n",
    "})\n",
    "df"
   ]
  },
  {
   "cell_type": "markdown",
   "metadata": {},
   "source": [
    "Extracting the numerical values from 'Temperature low' column"
   ]
  },
  {
   "cell_type": "code",
   "execution_count": 135,
   "metadata": {},
   "outputs": [
    {
     "data": {
      "text/html": [
       "<div>\n",
       "<style scoped>\n",
       "    .dataframe tbody tr th:only-of-type {\n",
       "        vertical-align: middle;\n",
       "    }\n",
       "\n",
       "    .dataframe tbody tr th {\n",
       "        vertical-align: top;\n",
       "    }\n",
       "\n",
       "    .dataframe thead th {\n",
       "        text-align: right;\n",
       "    }\n",
       "</style>\n",
       "<table border=\"1\" class=\"dataframe\">\n",
       "  <thead>\n",
       "    <tr style=\"text-align: right;\">\n",
       "      <th></th>\n",
       "      <th>Description</th>\n",
       "      <th>Short desc</th>\n",
       "      <th>Forecasted Period</th>\n",
       "      <th>Temperature low</th>\n",
       "      <th>Temp numerical</th>\n",
       "    </tr>\n",
       "  </thead>\n",
       "  <tbody>\n",
       "    <tr>\n",
       "      <th>0</th>\n",
       "      <td>Today: Showers likely and possibly a thunderst...</td>\n",
       "      <td>ShowersLikely</td>\n",
       "      <td>Today</td>\n",
       "      <td>High: 57 °F</td>\n",
       "      <td>57</td>\n",
       "    </tr>\n",
       "    <tr>\n",
       "      <th>1</th>\n",
       "      <td>Tonight: Showers likely and possibly a thunder...</td>\n",
       "      <td>ShowersLikely</td>\n",
       "      <td>Tonight</td>\n",
       "      <td>Low: 48 °F</td>\n",
       "      <td>48</td>\n",
       "    </tr>\n",
       "    <tr>\n",
       "      <th>2</th>\n",
       "      <td>Wednesday: Mostly sunny, with a high near 59. ...</td>\n",
       "      <td>Mostly Sunny</td>\n",
       "      <td>Wednesday</td>\n",
       "      <td>High: 59 °F</td>\n",
       "      <td>59</td>\n",
       "    </tr>\n",
       "    <tr>\n",
       "      <th>3</th>\n",
       "      <td>Wednesday Night: Mostly clear, with a low arou...</td>\n",
       "      <td>Mostly Clear</td>\n",
       "      <td>WednesdayNight</td>\n",
       "      <td>Low: 44 °F</td>\n",
       "      <td>44</td>\n",
       "    </tr>\n",
       "    <tr>\n",
       "      <th>4</th>\n",
       "      <td>Thursday: Sunny, with a high near 58. North no...</td>\n",
       "      <td>Sunny</td>\n",
       "      <td>Thursday</td>\n",
       "      <td>High: 58 °F</td>\n",
       "      <td>58</td>\n",
       "    </tr>\n",
       "    <tr>\n",
       "      <th>5</th>\n",
       "      <td>Thursday Night: Partly cloudy, with a low arou...</td>\n",
       "      <td>Partly Cloudy</td>\n",
       "      <td>ThursdayNight</td>\n",
       "      <td>Low: 43 °F</td>\n",
       "      <td>43</td>\n",
       "    </tr>\n",
       "    <tr>\n",
       "      <th>6</th>\n",
       "      <td>Veterans Day: A 20 percent chance of rain afte...</td>\n",
       "      <td>Slight ChanceRain</td>\n",
       "      <td>VeteransDay</td>\n",
       "      <td>High: 59 °F</td>\n",
       "      <td>59</td>\n",
       "    </tr>\n",
       "    <tr>\n",
       "      <th>7</th>\n",
       "      <td>Friday Night: A chance of rain, mainly after 1...</td>\n",
       "      <td>Chance Rain</td>\n",
       "      <td>FridayNight</td>\n",
       "      <td>Low: 46 °F</td>\n",
       "      <td>46</td>\n",
       "    </tr>\n",
       "    <tr>\n",
       "      <th>8</th>\n",
       "      <td>Saturday: A chance of rain.  Partly sunny, wit...</td>\n",
       "      <td>Chance Rain</td>\n",
       "      <td>Saturday</td>\n",
       "      <td>High: 60 °F</td>\n",
       "      <td>60</td>\n",
       "    </tr>\n",
       "  </tbody>\n",
       "</table>\n",
       "</div>"
      ],
      "text/plain": [
       "                                         Description         Short desc  \\\n",
       "0  Today: Showers likely and possibly a thunderst...      ShowersLikely   \n",
       "1  Tonight: Showers likely and possibly a thunder...      ShowersLikely   \n",
       "2  Wednesday: Mostly sunny, with a high near 59. ...       Mostly Sunny   \n",
       "3  Wednesday Night: Mostly clear, with a low arou...       Mostly Clear   \n",
       "4  Thursday: Sunny, with a high near 58. North no...              Sunny   \n",
       "5  Thursday Night: Partly cloudy, with a low arou...      Partly Cloudy   \n",
       "6  Veterans Day: A 20 percent chance of rain afte...  Slight ChanceRain   \n",
       "7  Friday Night: A chance of rain, mainly after 1...        Chance Rain   \n",
       "8  Saturday: A chance of rain.  Partly sunny, wit...        Chance Rain   \n",
       "\n",
       "  Forecasted Period Temperature low  Temp numerical  \n",
       "0             Today     High: 57 °F              57  \n",
       "1           Tonight      Low: 48 °F              48  \n",
       "2         Wednesday     High: 59 °F              59  \n",
       "3    WednesdayNight      Low: 44 °F              44  \n",
       "4          Thursday     High: 58 °F              58  \n",
       "5     ThursdayNight      Low: 43 °F              43  \n",
       "6       VeteransDay     High: 59 °F              59  \n",
       "7       FridayNight      Low: 46 °F              46  \n",
       "8          Saturday     High: 60 °F              60  "
      ]
     },
     "execution_count": 135,
     "metadata": {},
     "output_type": "execute_result"
    }
   ],
   "source": [
    "df['Temp numerical'] = df['Temperature low'].str.extract('(\\d+)').astype(int) #using regular expressions\n",
    "df"
   ]
  },
  {
   "cell_type": "code",
   "execution_count": 136,
   "metadata": {},
   "outputs": [
    {
     "data": {
      "text/plain": [
       "52.666666666666664"
      ]
     },
     "execution_count": 136,
     "metadata": {},
     "output_type": "execute_result"
    }
   ],
   "source": [
    "# Calculating the mean temperature\n",
    "df['Temp numerical'].mean()"
   ]
  },
  {
   "cell_type": "code",
   "execution_count": 140,
   "metadata": {},
   "outputs": [
    {
     "data": {
      "text/html": [
       "<div>\n",
       "<style scoped>\n",
       "    .dataframe tbody tr th:only-of-type {\n",
       "        vertical-align: middle;\n",
       "    }\n",
       "\n",
       "    .dataframe tbody tr th {\n",
       "        vertical-align: top;\n",
       "    }\n",
       "\n",
       "    .dataframe thead th {\n",
       "        text-align: right;\n",
       "    }\n",
       "</style>\n",
       "<table border=\"1\" class=\"dataframe\">\n",
       "  <thead>\n",
       "    <tr style=\"text-align: right;\">\n",
       "      <th></th>\n",
       "      <th>Description</th>\n",
       "      <th>Short desc</th>\n",
       "      <th>Forecasted Period</th>\n",
       "      <th>Temperature low</th>\n",
       "      <th>Temp numerical</th>\n",
       "      <th>is_night</th>\n",
       "    </tr>\n",
       "  </thead>\n",
       "  <tbody>\n",
       "    <tr>\n",
       "      <th>0</th>\n",
       "      <td>Today: Showers likely and possibly a thunderst...</td>\n",
       "      <td>ShowersLikely</td>\n",
       "      <td>Today</td>\n",
       "      <td>High: 57 °F</td>\n",
       "      <td>57</td>\n",
       "      <td>False</td>\n",
       "    </tr>\n",
       "    <tr>\n",
       "      <th>1</th>\n",
       "      <td>Tonight: Showers likely and possibly a thunder...</td>\n",
       "      <td>ShowersLikely</td>\n",
       "      <td>Tonight</td>\n",
       "      <td>Low: 48 °F</td>\n",
       "      <td>48</td>\n",
       "      <td>True</td>\n",
       "    </tr>\n",
       "    <tr>\n",
       "      <th>2</th>\n",
       "      <td>Wednesday: Mostly sunny, with a high near 59. ...</td>\n",
       "      <td>Mostly Sunny</td>\n",
       "      <td>Wednesday</td>\n",
       "      <td>High: 59 °F</td>\n",
       "      <td>59</td>\n",
       "      <td>False</td>\n",
       "    </tr>\n",
       "    <tr>\n",
       "      <th>3</th>\n",
       "      <td>Wednesday Night: Mostly clear, with a low arou...</td>\n",
       "      <td>Mostly Clear</td>\n",
       "      <td>WednesdayNight</td>\n",
       "      <td>Low: 44 °F</td>\n",
       "      <td>44</td>\n",
       "      <td>True</td>\n",
       "    </tr>\n",
       "    <tr>\n",
       "      <th>4</th>\n",
       "      <td>Thursday: Sunny, with a high near 58. North no...</td>\n",
       "      <td>Sunny</td>\n",
       "      <td>Thursday</td>\n",
       "      <td>High: 58 °F</td>\n",
       "      <td>58</td>\n",
       "      <td>False</td>\n",
       "    </tr>\n",
       "    <tr>\n",
       "      <th>5</th>\n",
       "      <td>Thursday Night: Partly cloudy, with a low arou...</td>\n",
       "      <td>Partly Cloudy</td>\n",
       "      <td>ThursdayNight</td>\n",
       "      <td>Low: 43 °F</td>\n",
       "      <td>43</td>\n",
       "      <td>True</td>\n",
       "    </tr>\n",
       "    <tr>\n",
       "      <th>6</th>\n",
       "      <td>Veterans Day: A 20 percent chance of rain afte...</td>\n",
       "      <td>Slight ChanceRain</td>\n",
       "      <td>VeteransDay</td>\n",
       "      <td>High: 59 °F</td>\n",
       "      <td>59</td>\n",
       "      <td>False</td>\n",
       "    </tr>\n",
       "    <tr>\n",
       "      <th>7</th>\n",
       "      <td>Friday Night: A chance of rain, mainly after 1...</td>\n",
       "      <td>Chance Rain</td>\n",
       "      <td>FridayNight</td>\n",
       "      <td>Low: 46 °F</td>\n",
       "      <td>46</td>\n",
       "      <td>True</td>\n",
       "    </tr>\n",
       "    <tr>\n",
       "      <th>8</th>\n",
       "      <td>Saturday: A chance of rain.  Partly sunny, wit...</td>\n",
       "      <td>Chance Rain</td>\n",
       "      <td>Saturday</td>\n",
       "      <td>High: 60 °F</td>\n",
       "      <td>60</td>\n",
       "      <td>False</td>\n",
       "    </tr>\n",
       "  </tbody>\n",
       "</table>\n",
       "</div>"
      ],
      "text/plain": [
       "                                         Description         Short desc  \\\n",
       "0  Today: Showers likely and possibly a thunderst...      ShowersLikely   \n",
       "1  Tonight: Showers likely and possibly a thunder...      ShowersLikely   \n",
       "2  Wednesday: Mostly sunny, with a high near 59. ...       Mostly Sunny   \n",
       "3  Wednesday Night: Mostly clear, with a low arou...       Mostly Clear   \n",
       "4  Thursday: Sunny, with a high near 58. North no...              Sunny   \n",
       "5  Thursday Night: Partly cloudy, with a low arou...      Partly Cloudy   \n",
       "6  Veterans Day: A 20 percent chance of rain afte...  Slight ChanceRain   \n",
       "7  Friday Night: A chance of rain, mainly after 1...        Chance Rain   \n",
       "8  Saturday: A chance of rain.  Partly sunny, wit...        Chance Rain   \n",
       "\n",
       "  Forecasted Period Temperature low  Temp numerical  is_night  \n",
       "0             Today     High: 57 °F              57     False  \n",
       "1           Tonight      Low: 48 °F              48      True  \n",
       "2         Wednesday     High: 59 °F              59     False  \n",
       "3    WednesdayNight      Low: 44 °F              44      True  \n",
       "4          Thursday     High: 58 °F              58     False  \n",
       "5     ThursdayNight      Low: 43 °F              43      True  \n",
       "6       VeteransDay     High: 59 °F              59     False  \n",
       "7       FridayNight      Low: 46 °F              46      True  \n",
       "8          Saturday     High: 60 °F              60     False  "
      ]
     },
     "execution_count": 140,
     "metadata": {},
     "output_type": "execute_result"
    }
   ],
   "source": [
    "# Check if the observation is night or day\n",
    "df[\"is_night\"] = df[\"Forecasted Period\"].str.contains(\"ight\")\n",
    "df"
   ]
  },
  {
   "cell_type": "code",
   "execution_count": 141,
   "metadata": {},
   "outputs": [
    {
     "data": {
      "text/html": [
       "<div>\n",
       "<style scoped>\n",
       "    .dataframe tbody tr th:only-of-type {\n",
       "        vertical-align: middle;\n",
       "    }\n",
       "\n",
       "    .dataframe tbody tr th {\n",
       "        vertical-align: top;\n",
       "    }\n",
       "\n",
       "    .dataframe thead th {\n",
       "        text-align: right;\n",
       "    }\n",
       "</style>\n",
       "<table border=\"1\" class=\"dataframe\">\n",
       "  <thead>\n",
       "    <tr style=\"text-align: right;\">\n",
       "      <th></th>\n",
       "      <th>Description</th>\n",
       "      <th>Short desc</th>\n",
       "      <th>Forecasted Period</th>\n",
       "      <th>Temperature low</th>\n",
       "      <th>Temp numerical</th>\n",
       "      <th>is_night</th>\n",
       "      <th>is_night_num</th>\n",
       "    </tr>\n",
       "  </thead>\n",
       "  <tbody>\n",
       "    <tr>\n",
       "      <th>0</th>\n",
       "      <td>Today: Showers likely and possibly a thunderst...</td>\n",
       "      <td>ShowersLikely</td>\n",
       "      <td>Today</td>\n",
       "      <td>High: 57 °F</td>\n",
       "      <td>57</td>\n",
       "      <td>False</td>\n",
       "      <td>0</td>\n",
       "    </tr>\n",
       "    <tr>\n",
       "      <th>1</th>\n",
       "      <td>Tonight: Showers likely and possibly a thunder...</td>\n",
       "      <td>ShowersLikely</td>\n",
       "      <td>Tonight</td>\n",
       "      <td>Low: 48 °F</td>\n",
       "      <td>48</td>\n",
       "      <td>True</td>\n",
       "      <td>1</td>\n",
       "    </tr>\n",
       "    <tr>\n",
       "      <th>2</th>\n",
       "      <td>Wednesday: Mostly sunny, with a high near 59. ...</td>\n",
       "      <td>Mostly Sunny</td>\n",
       "      <td>Wednesday</td>\n",
       "      <td>High: 59 °F</td>\n",
       "      <td>59</td>\n",
       "      <td>False</td>\n",
       "      <td>0</td>\n",
       "    </tr>\n",
       "    <tr>\n",
       "      <th>3</th>\n",
       "      <td>Wednesday Night: Mostly clear, with a low arou...</td>\n",
       "      <td>Mostly Clear</td>\n",
       "      <td>WednesdayNight</td>\n",
       "      <td>Low: 44 °F</td>\n",
       "      <td>44</td>\n",
       "      <td>True</td>\n",
       "      <td>1</td>\n",
       "    </tr>\n",
       "    <tr>\n",
       "      <th>4</th>\n",
       "      <td>Thursday: Sunny, with a high near 58. North no...</td>\n",
       "      <td>Sunny</td>\n",
       "      <td>Thursday</td>\n",
       "      <td>High: 58 °F</td>\n",
       "      <td>58</td>\n",
       "      <td>False</td>\n",
       "      <td>0</td>\n",
       "    </tr>\n",
       "    <tr>\n",
       "      <th>5</th>\n",
       "      <td>Thursday Night: Partly cloudy, with a low arou...</td>\n",
       "      <td>Partly Cloudy</td>\n",
       "      <td>ThursdayNight</td>\n",
       "      <td>Low: 43 °F</td>\n",
       "      <td>43</td>\n",
       "      <td>True</td>\n",
       "      <td>1</td>\n",
       "    </tr>\n",
       "    <tr>\n",
       "      <th>6</th>\n",
       "      <td>Veterans Day: A 20 percent chance of rain afte...</td>\n",
       "      <td>Slight ChanceRain</td>\n",
       "      <td>VeteransDay</td>\n",
       "      <td>High: 59 °F</td>\n",
       "      <td>59</td>\n",
       "      <td>False</td>\n",
       "      <td>0</td>\n",
       "    </tr>\n",
       "    <tr>\n",
       "      <th>7</th>\n",
       "      <td>Friday Night: A chance of rain, mainly after 1...</td>\n",
       "      <td>Chance Rain</td>\n",
       "      <td>FridayNight</td>\n",
       "      <td>Low: 46 °F</td>\n",
       "      <td>46</td>\n",
       "      <td>True</td>\n",
       "      <td>1</td>\n",
       "    </tr>\n",
       "    <tr>\n",
       "      <th>8</th>\n",
       "      <td>Saturday: A chance of rain.  Partly sunny, wit...</td>\n",
       "      <td>Chance Rain</td>\n",
       "      <td>Saturday</td>\n",
       "      <td>High: 60 °F</td>\n",
       "      <td>60</td>\n",
       "      <td>False</td>\n",
       "      <td>0</td>\n",
       "    </tr>\n",
       "  </tbody>\n",
       "</table>\n",
       "</div>"
      ],
      "text/plain": [
       "                                         Description         Short desc  \\\n",
       "0  Today: Showers likely and possibly a thunderst...      ShowersLikely   \n",
       "1  Tonight: Showers likely and possibly a thunder...      ShowersLikely   \n",
       "2  Wednesday: Mostly sunny, with a high near 59. ...       Mostly Sunny   \n",
       "3  Wednesday Night: Mostly clear, with a low arou...       Mostly Clear   \n",
       "4  Thursday: Sunny, with a high near 58. North no...              Sunny   \n",
       "5  Thursday Night: Partly cloudy, with a low arou...      Partly Cloudy   \n",
       "6  Veterans Day: A 20 percent chance of rain afte...  Slight ChanceRain   \n",
       "7  Friday Night: A chance of rain, mainly after 1...        Chance Rain   \n",
       "8  Saturday: A chance of rain.  Partly sunny, wit...        Chance Rain   \n",
       "\n",
       "  Forecasted Period Temperature low  Temp numerical  is_night  is_night_num  \n",
       "0             Today     High: 57 °F              57     False             0  \n",
       "1           Tonight      Low: 48 °F              48      True             1  \n",
       "2         Wednesday     High: 59 °F              59     False             0  \n",
       "3    WednesdayNight      Low: 44 °F              44      True             1  \n",
       "4          Thursday     High: 58 °F              58     False             0  \n",
       "5     ThursdayNight      Low: 43 °F              43      True             1  \n",
       "6       VeteransDay     High: 59 °F              59     False             0  \n",
       "7       FridayNight      Low: 46 °F              46      True             1  \n",
       "8          Saturday     High: 60 °F              60     False             0  "
      ]
     },
     "execution_count": 141,
     "metadata": {},
     "output_type": "execute_result"
    }
   ],
   "source": [
    "# Convert True and Flase from 'is_night' column to 1s and 0s\n",
    "import numpy as np\n",
    "df[\"is_night_num\"] = np.where(df[\"is_night\"] == True, 1, 0)\n",
    "df"
   ]
  }
 ],
 "metadata": {
  "kernelspec": {
   "display_name": "Python 3.10.4 64-bit",
   "language": "python",
   "name": "python3"
  },
  "language_info": {
   "codemirror_mode": {
    "name": "ipython",
    "version": 3
   },
   "file_extension": ".py",
   "mimetype": "text/x-python",
   "name": "python",
   "nbconvert_exporter": "python",
   "pygments_lexer": "ipython3",
   "version": "3.10.4"
  },
  "orig_nbformat": 4,
  "vscode": {
   "interpreter": {
    "hash": "26de051ba29f2982a8de78e945f0abaf191376122a1563185a90213a26c5da77"
   }
  }
 },
 "nbformat": 4,
 "nbformat_minor": 2
}
