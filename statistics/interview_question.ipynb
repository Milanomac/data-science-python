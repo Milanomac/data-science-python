{
 "cells": [
  {
   "cell_type": "code",
   "execution_count": 3,
   "metadata": {},
   "outputs": [],
   "source": [
    "class Histogram:\n",
    "    \"\"\"\n",
    "    Divide the points into groups. \n",
    "    The quick groups are defined such that\n",
    "    for group zero, value x is within the group if\n",
    "    \n",
    "    Group 0:\n",
    "    x >= 0 and x < boundary[0]\n",
    "    \n",
    "    The rest of the groups:\n",
    "    x >= boundary[n-1] and x < boundary[n]\n",
    "\n",
    "    The boundary values are monotonically increasing in value. \n",
    "    The returned vector contains the count of each x values in each group.\n",
    "    \"\"\"\n",
    "    def group_by(self, boundary): #virtual method\n",
    "        raise NotImplementedError(\"groupBy method must be implemented in derived classes.\")"
   ]
  },
  {
   "attachments": {},
   "cell_type": "markdown",
   "metadata": {},
   "source": [
    "Write a class that derives from the Histogram class and implements the virtual method defined by it. \n",
    "\n",
    "Call the derived class DataSet. The derived class should have a constructor as follows:\n",
    "\n",
    "        DataSet::DataSet(const double* xvalues, const size_t count);"
   ]
  },
  {
   "cell_type": "code",
   "execution_count": 8,
   "metadata": {},
   "outputs": [
    {
     "name": "stdout",
     "output_type": "stream",
     "text": [
      "Group 0: 1\n",
      "Group 1: 2\n",
      "Group 2: 2\n",
      "Group 3: 2\n"
     ]
    }
   ],
   "source": [
    "class DataSet(Histogram):\n",
    "    # Constructor\n",
    "    def __init__(self, xvalues):\n",
    "        self.data = sorted(xvalues)\n",
    "\n",
    "    def group_by(self, boundary):\n",
    "        \"\"\"\n",
    "        The quick groups are defined such that for group zero, value x is within the group if:\n",
    "        x >= 0 and x < boundary[0]\n",
    "        \n",
    "        The rest of the groups:\n",
    "        x >= boundary[n-1] and x < boundary[n]\n",
    "\n",
    "        The boundary values are monotonically increasing in value. \n",
    "        The returned vector contains the count of each x values in each group.\n",
    "        \"\"\"\n",
    "        # Initialize the group zero\n",
    "        group = [0] * len(boundary)\n",
    "        # Iterate through the data\n",
    "        for x in self.data:\n",
    "            # Check if x is in group zero\n",
    "            if x >= 0 and x < boundary[0]:\n",
    "                group[0] += 1\n",
    "            # Check if x is in the rest of the groups\n",
    "            for i in range(1, len(boundary)):\n",
    "                if x >= boundary[i-1] and x < boundary[i]:\n",
    "                    group[i] += 1\n",
    "        return group\n",
    "\n",
    "# Use the derived class to test the method\n",
    "data = DataSet([1.5, 2.0, 2.5, 3.0, 3.5, 4.0, 4.5, 5.0])\n",
    "boundary = [2.0, 3.0, 4.0, 5.0]\n",
    "\n",
    "groups = data.group_by(boundary)\n",
    "\n",
    "for i, count in enumerate(groups):\n",
    "    print(f\"Group {i}: {count}\")"
   ]
  },
  {
   "cell_type": "code",
   "execution_count": 14,
   "metadata": {},
   "outputs": [
    {
     "name": "stdout",
     "output_type": "stream",
     "text": [
      "Group 0: 1 [0 <= x < 2.0]\n",
      "Group 1: 2 [2.0 <= x < 3.0]\n",
      "Group 2: 2 [3.0 <= x < 4.0]\n",
      "Group 3: 2 [4.0 <= x < 5.0]\n"
     ]
    }
   ],
   "source": [
    "# List comprehension to print the group number, the count of xvalues in each group and also the boundary values\n",
    "print(\"\\n\".join([f\"Group {i}: {count} [{boundary[i-1] if i > 0 else 0} <= x < {boundary[i]}]\" for i, count in enumerate(groups)]))"
   ]
  },
  {
   "cell_type": "code",
   "execution_count": 17,
   "metadata": {},
   "outputs": [
    {
     "name": "stdout",
     "output_type": "stream",
     "text": [
      "Group 0: 1\n",
      "Group 1: 2\n",
      "Group 2: 2\n",
      "Group 3: 2\n"
     ]
    }
   ],
   "source": [
    "class Histogram:\n",
    "    \"\"\"\n",
    "    Divide the points into groups. \n",
    "    The quick groups are defined such that\n",
    "    for group zero, value x is within the group if\n",
    "    \n",
    "    Group 0:\n",
    "    x >= 0 and x < boundary[0]\n",
    "    \n",
    "    The rest of the groups:\n",
    "    x >= boundary[n-1] and x < boundary[n]\n",
    "\n",
    "    The boundary values are monotonically increasing in value. \n",
    "    The returned vector contains the count of each x values in each group.\n",
    "    \"\"\"\n",
    "    def group_by(self, boundary): #virtual method\n",
    "        raise NotImplementedError(\"groupBy method must be implemented in derived classes.\")\n",
    "\n",
    "\n",
    "# Notes:\n",
    "# dtype(boundary) = list\n",
    "# dtype(xvalues) = list\n",
    "# The boundary values are monotonically increasing in value.\n",
    "# I want to return a vector containing the count of each x values in each group.\n",
    "# Vector is called \"group\"\n",
    "\n",
    "\n",
    "class DataSet(Histogram):\n",
    "    # Constructor\n",
    "    def __init__(self, xvalues):\n",
    "        self.xvalues = sorted(xvalues)\n",
    "\n",
    "    def group_by(self, boundary):\n",
    "        \"\"\"\n",
    "        The quick groups are defined such that for group zero, value x is within the group if:\n",
    "        x >= 0 and x < boundary[0]\n",
    "        \n",
    "        The rest of the groups:\n",
    "        x >= boundary[n-1] and x < boundary[n]\n",
    "\n",
    "        The boundary values are monotonically increasing in value. \n",
    "        The returned vector contains the count of each x values in each group.\n",
    "        \"\"\"\n",
    "        # Initializing by creating a list of zeros with the same length as boundary\n",
    "        group = [0] * len(boundary)\n",
    "        # Iterate through the data\n",
    "        for x in self.xvalues:\n",
    "            # Check if x is in group zero\n",
    "            if x >= 0 and x < boundary[0]:\n",
    "                group[0] += 1\n",
    "            # Check if x is in the rest of the groups\n",
    "            for i in range(1, len(boundary)):\n",
    "                if x >= boundary[i-1] and x < boundary[i]:\n",
    "                    group[i] += 1\n",
    "        return group\n",
    "\n",
    "# Use the derived class to test the method\n",
    "xvalues = DataSet([1, 3, 5, 7, 9, 11, 13, 15])\n",
    "boundary = [3,7,11,15]\n",
    "\n",
    "groups = xvalues.group_by(boundary)\n",
    "\n",
    "for i, count in enumerate(groups):\n",
    "    print(f\"Group {i}: {count}\")\n",
    "\n",
    "# # List comprehension to print the group number, the count of xvalues in each group and also the boundary values\n",
    "# print(\"\\n\".join([f\"Group {i}: {count} [{boundary[i-1] if i > 0 else 0} <= x < {boundary[i]}]\" for i, count in enumerate(groups)]))"
   ]
  },
  {
   "cell_type": "code",
   "execution_count": 22,
   "metadata": {},
   "outputs": [
    {
     "data": {
      "text/plain": [
       "0.125"
      ]
     },
     "execution_count": 22,
     "metadata": {},
     "output_type": "execute_result"
    }
   ],
   "source": [
    "# Import binom from scipy.stats\n",
    "from scipy.stats import binom\n",
    "\n",
    "\n",
    "binom.pmf(3, 3, 0.5)"
   ]
  },
  {
   "cell_type": "code",
   "execution_count": 23,
   "metadata": {},
   "outputs": [
    {
     "data": {
      "text/plain": [
       "0.0018660813139987742"
      ]
     },
     "execution_count": 23,
     "metadata": {},
     "output_type": "execute_result"
    }
   ],
   "source": [
    "from scipy.stats import poisson\n",
    "\n",
    "poisson.pmf(20,10)"
   ]
  },
  {
   "cell_type": "code",
   "execution_count": 28,
   "metadata": {},
   "outputs": [
    {
     "data": {
      "text/plain": [
       "False"
      ]
     },
     "execution_count": 28,
     "metadata": {},
     "output_type": "execute_result"
    }
   ],
   "source": [
    "a = [0,1,2,3]\n",
    "b = [4,5,6,3]\n",
    "\n",
    "set(a).intersection(b)\n"
   ]
  },
  {
   "cell_type": "code",
   "execution_count": 29,
   "metadata": {},
   "outputs": [
    {
     "name": "stdout",
     "output_type": "stream",
     "text": [
      "1\n",
      "2\n",
      "4\n",
      "5\n",
      "7\n",
      "8\n",
      "10\n"
     ]
    }
   ],
   "source": [
    "# initialize counter\n",
    "i = 0\n",
    "\n",
    "while i < 10:\n",
    "    i += 1\n",
    "    if i % 3 == 0:\n",
    "        continue\n",
    "    print(i)"
   ]
  },
  {
   "cell_type": "code",
   "execution_count": null,
   "metadata": {},
   "outputs": [],
   "source": []
  }
 ],
 "metadata": {
  "kernelspec": {
   "display_name": "Python 3",
   "language": "python",
   "name": "python3"
  },
  "language_info": {
   "codemirror_mode": {
    "name": "ipython",
    "version": 3
   },
   "file_extension": ".py",
   "mimetype": "text/x-python",
   "name": "python",
   "nbconvert_exporter": "python",
   "pygments_lexer": "ipython3",
   "version": "3.10.4"
  },
  "orig_nbformat": 4
 },
 "nbformat": 4,
 "nbformat_minor": 2
}
